{
  "cells": [
    {
      "cell_type": "markdown",
      "metadata": {
        "id": "xMsNyA3WPrER"
      },
      "source": [
        "##**Notebook PC#08**\n",
        "## Simple Recurrent Neural Network, Linear Predictor, MLP and LSTM for multi-step time series prediction.<BR>\n",
        "\n",
        "**Professor:** Fernando J. Von Zuben <br>\n",
        "**Aluno(a):** Ariel Góes de Castro <br>\n",
        "**Aluno(a):** Francisco Germano Vogt"
      ]
    },
    {
      "cell_type": "code",
      "execution_count": 1,
      "metadata": {
        "id": "snZZ8UvFdfhb"
      },
      "outputs": [],
      "source": [
        "# Loading all the relevant libraries\n",
        "from pandas import read_csv\n",
        "from pandas import DataFrame\n",
        "import numpy as np\n",
        "import pandas as pd\n",
        "import tensorflow as tf\n",
        "from keras.models import Sequential\n",
        "from keras.layers import Dense, SimpleRNN, LSTM, GRU\n",
        "from sklearn.linear_model import LinearRegression\n",
        "from sklearn.preprocessing import MinMaxScaler\n",
        "from sklearn.metrics import mean_squared_error\n",
        "import math\n",
        "import matplotlib.pyplot as plt"
      ]
    },
    {
      "cell_type": "markdown",
      "metadata": {
        "id": "kjw_mI_kllPR"
      },
      "source": [
        "## **A base [unemployment rate] foi baixada no [link](https://fred.stlouisfed.org/series/UNRATE).**"
      ]
    },
    {
      "cell_type": "code",
      "execution_count": null,
      "metadata": {
        "id": "a4_3aFIhf09J"
      },
      "outputs": [],
      "source": [
        "# Structuring the dataset from a single time series, scaling and spliting into training / testing\n",
        "def get_train_test(dataset, split_percent, time_steps, horizon):\n",
        "    df = read_csv(dataset, usecols=[1], engine='python')\n",
        "    data = np.array(df.values.astype('float32'))\n",
        "    scaler = MinMaxScaler(feature_range=(0, 1))\n",
        "    # There is a kind of data leakage in the next command\n",
        "    data = scaler.fit_transform(data).flatten()\n",
        "    n = len(data)\n",
        "    df = DataFrame()\n",
        "    for i in range(0,time_steps):\n",
        "      df['t-' + str(time_steps-i-1)] = [data[j] for j in range(i, (len(data)-horizon-time_steps+i+1))]\n",
        "    for i in range(1,horizon+1):\n",
        "      df['t+' + str(i)] = [data[j] for j in range(time_steps+i-1, (len(data)-horizon+i))]\n",
        "    print(df)\n",
        "    df1 = df.copy()\n",
        "    for i in range(1,horizon+1):\n",
        "      df1 = df1.drop(['t+' + str(i)], axis = 1)\n",
        "    dataX = np.array(df1) #separacao de dados de time_steps\n",
        "    df2 = df['t+1']\n",
        "    for i in range(2,horizon+1):\n",
        "      df2 = pd.concat([df2, df['t+' + str(i)]], axis=1)\n",
        "    datay = np.array(df2) #separacao de dados de horizon\n",
        "    # Point for splitting data into train and test\n",
        "    split = int(n*split_percent)\n",
        "    X = dataX[range(split),:]\n",
        "    y = datay[range(split)]\n",
        "    Xt = dataX[split:,:]\n",
        "    yt = datay[split:]\n",
        "    return X, y, Xt, yt\n",
        "\n",
        "time_steps = 11\n",
        "horizon = 3\n",
        "# Here you will decide which dataset to consider.\n",
        "# X, y, Xt, yt = get_train_test('unemployment_rate.csv', 0.8, time_steps, horizon)\n",
        "X, y, Xt, yt = get_train_test('monthly_sunspot.csv', 0.8, time_steps, horizon)"
      ]
    },
    {
      "cell_type": "code",
      "execution_count": null,
      "metadata": {
        "id": "NRgJCL8BTP3-"
      },
      "outputs": [],
      "source": [
        "print(X.shape)\n",
        "print(y.shape)"
      ]
    },
    {
      "cell_type": "markdown",
      "metadata": {
        "id": "Mz-QpStjs7Vc"
      },
      "source": [
        "## **Implementing the simple recurrent neural network**"
      ]
    },
    {
      "cell_type": "code",
      "execution_count": null,
      "metadata": {
        "id": "5T1v_19Bj8Vi"
      },
      "outputs": [],
      "source": [
        "# Execute this cell or the cell associated with one of the other predictors. They are mutually exclusive.\n",
        "def create_RNN(hidden_units, dense_units, input_shape, activation):\n",
        "        model = Sequential()\n",
        "        model.add(SimpleRNN(hidden_units, activation=activation[0], input_shape=input_shape))\n",
        "        model.add(Dense(units=dense_units, activation=activation[1]))\n",
        "        model.compile(loss='mean_squared_error', optimizer='adam')\n",
        "        return model\n",
        "\n",
        "def RNN_predictor (X, y, time_steps):\n",
        "    model = create_RNN(hidden_units=30, dense_units=horizon, input_shape=(time_steps,1), activation=['tanh', 'tanh'])\n",
        "    train_predict = model.fit(X, y, epochs=20, batch_size=1, verbose=2)\n",
        "    return model\n",
        "\n",
        "RNN_model = RNN_predictor(X, y, time_steps)"
      ]
    },
    {
      "cell_type": "code",
      "execution_count": 5,
      "metadata": {
        "colab": {
          "base_uri": "https://localhost:8080/",
          "height": 317
        },
        "id": "SdPjXt0z54C6",
        "outputId": "8091d8b5-2366-47a7-dc70-02178967189c"
      },
      "outputs": [
        {
          "data": {
            "image/png": "[encoded data removed]",
            "text/plain": [
              "<IPython.core.display.Image object>"
            ]
          },
          "execution_count": 5,
          "metadata": {
            "image/png": {
              "height": 300,
              "width": 600
            }
          },
          "output_type": "execute_result"
        }
      ],
      "source": [
        "# [Do not run this cell] or [Upload the PNG file and then run].\n",
        "# Configuration of the simple RNN\n",
        "from IPython.display import Image\n",
        "Image(\"RNN_info_flow.png\", width = 600, height = 300)"
      ]
    },
    {
      "cell_type": "code",
      "execution_count": null,
      "metadata": {
        "id": "ybUIzRLxTP3_"
      },
      "outputs": [],
      "source": [
        "wx = RNN_model.get_weights()[0]\n",
        "wh = RNN_model.get_weights()[1]\n",
        "bh = RNN_model.get_weights()[2]\n",
        "wy = RNN_model.get_weights()[3]\n",
        "by = RNN_model.get_weights()[4]\n",
        "print(wx.shape)\n",
        "print(wh.shape)\n",
        "print(bh.shape)\n",
        "print(wy.shape)\n",
        "print(by.shape)"
      ]
    },
    {
      "cell_type": "markdown",
      "metadata": {
        "id": "TmUd4TdXtHZQ"
      },
      "source": [
        "## **Implementing a linear predictor**"
      ]
    },
    {
      "cell_type": "code",
      "execution_count": null,
      "metadata": {
        "id": "oBw4IvAf2Dln"
      },
      "outputs": [],
      "source": [
        "# Execute this cell or the cell associated with one of the other predictors. They are mutually exclusive.\n",
        "def linear_predictor(X,y):\n",
        "    model = LinearRegression()\n",
        "    train_predict = model.fit(X, y)\n",
        "    print(model.coef_)\n",
        "    print(model.intercept_)\n",
        "\n",
        "    return model\n",
        "\n",
        "linear_model = linear_predictor(X,y)"
      ]
    },
    {
      "cell_type": "markdown",
      "metadata": {
        "id": "IeloQ-Ed188S"
      },
      "source": [
        "## **Implementing the multilayer perceptron neural network (MLP)**"
      ]
    },
    {
      "cell_type": "code",
      "execution_count": null,
      "metadata": {
        "id": "t0mZaTB2IKNW"
      },
      "outputs": [],
      "source": [
        "# Execute this cell or the cell associated with one of the other predictors. They are mutually exclusive.\n",
        "def MLP_predictor():\n",
        "  model = tf.keras.models.Sequential([\n",
        "    tf.keras.layers.Flatten(),\n",
        "    tf.keras.layers.Dense(80, activation=tf.nn.tanh),\n",
        "    tf.keras.layers.Dropout(0.3),\n",
        "    tf.keras.layers.Dense(horizon, activation='linear')\n",
        "  ])\n",
        "  model.compile(optimizer='adam', loss='mean_squared_error')\n",
        "  train_predict = model.fit(X, y, epochs=100)\n",
        "  model.summary()\n",
        "\n",
        "  return model\n",
        "\n",
        "MLP_model = MLP_predictor()"
      ]
    },
    {
      "cell_type": "markdown",
      "metadata": {
        "id": "_HdXJk0O5BLg"
      },
      "source": [
        "## **Implementing the long short-term memory network (LSTM)**"
      ]
    },
    {
      "cell_type": "code",
      "execution_count": null,
      "metadata": {
        "id": "ZMdB_5Xb5UjV"
      },
      "outputs": [],
      "source": [
        "def LSTM_predictor(X, y, time_steps):\n",
        "    X1 = X.reshape(X.shape[0],time_steps,1)\n",
        "    model=Sequential()\n",
        "    model.add(LSTM(25,input_shape=(time_steps,1)))\n",
        "    model.add(Dense(horizon,activation='linear'))\n",
        "    model.compile(loss='mean_squared_error',optimizer='adam')\n",
        "\n",
        "    train_predict = model.fit(X1,y,epochs=200,verbose=2)\n",
        "\n",
        "    return model\n",
        "\n",
        "LSTM_model = LSTM_predictor(X, y, time_steps)\n",
        "print(LSTM_model.summary())"
      ]
    },
    {
      "cell_type": "code",
      "execution_count": 10,
      "metadata": {
        "id": "tcklZ_zGkOEZ"
      },
      "outputs": [],
      "source": [
        "def print_error(trainY, testY, train_predict, test_predict,i):\n",
        "    # Error of predictions\n",
        "    train_rmse = math.sqrt(mean_squared_error(trainY, train_predict))\n",
        "    test_rmse = math.sqrt(mean_squared_error(testY, test_predict))\n",
        "    # Print RMSE\n",
        "    print('t+%d RMSE train: %.3f RMSE' % (i+1, train_rmse))\n",
        "    print('t+%d RMSE test: %.3f RMSE' % (i+1, test_rmse))\n",
        "    return [train_rmse, test_rmse]\n",
        "\n",
        "\n",
        "def RMSE(train_predict, test_predict):\n",
        "  rmse = []\n",
        "  for i in range(horizon):\n",
        "    if(horizon == 1):\n",
        "      y1_pred = train_predict\n",
        "      y1_pred_t = test_predict\n",
        "      y1 = y\n",
        "      y1_t = yt\n",
        "    elif(horizon > 1):\n",
        "      y1_pred = train_predict[:,i]\n",
        "      y1_pred_t = test_predict[:,i]\n",
        "      y1 = y[:,i]\n",
        "      y1_t = yt[:,i]\n",
        "\n",
        "    erro = print_error(y1, y1_t, y1_pred, y1_pred_t,i)\n",
        "    rmse.append(erro)\n",
        "\n",
        "  # Create a DataFrame from the rmse values for each horizon\n",
        "  df = pd.DataFrame(rmse)\n",
        "  df.columns = ['train', 'test']\n",
        "  return df\n"
      ]
    },
    {
      "cell_type": "code",
      "execution_count": 11,
      "metadata": {
        "id": "pmlX2bwWkhfR"
      },
      "outputs": [],
      "source": [
        "# Plot the predictions together with the actual values\n",
        "def plot_result(trainY, testY, train_predict, test_predict,i):\n",
        "    actual = np.append(trainY, testY)\n",
        "    predictions = np.append(train_predict, test_predict)\n",
        "    rows = len(actual)\n",
        "    plt.figure(figsize=(30, 6), dpi=300)\n",
        "    plt.plot(range(rows), actual)\n",
        "    plt.plot(range(rows), predictions)\n",
        "    plt.axvline(x=len(trainY), color='r')\n",
        "    plt.legend(['Actual', 'Predictions'])\n",
        "    plt.xlabel('Time steps')\n",
        "    plt.ylabel('Actual and Predicted Values')\n",
        "    plt.title('t+%d Predition (The Red Line Separates The Training And Test Examples)' % (i+1))\n",
        "    plt.grid(True)\n",
        "\n",
        "def plot_predict(train_predict, test_predict, y, yt):\n",
        "  for i in range(horizon):\n",
        "    if(horizon == 1):\n",
        "      y1_pred = train_predict\n",
        "      y1_pred_t = test_predict\n",
        "      y1 = y\n",
        "      y1_t = yt\n",
        "    elif(horizon > 1):\n",
        "      y1_pred = train_predict[:,i]\n",
        "      y1_pred_t = test_predict[:,i]\n",
        "      y1 = y[:,i]\n",
        "      y1_t = yt[:,i]\n",
        "    plot_result(y1, y1_t, y1_pred, y1_pred_t,i)\n"
      ]
    },
    {
      "cell_type": "code",
      "execution_count": null,
      "metadata": {
        "id": "tv0ZHQnlTP4B"
      },
      "outputs": [],
      "source": [
        "print ('***** RNN MODEL *****')\n",
        "train_predict = RNN_model.predict(X)\n",
        "test_predict = RNN_model.predict(Xt)\n",
        "df1 = RMSE(train_predict, test_predict)\n",
        "plot_predict(train_predict, test_predict, y, yt)"
      ]
    },
    {
      "cell_type": "code",
      "execution_count": null,
      "metadata": {
        "id": "Ui1NWJRwTP4B"
      },
      "outputs": [],
      "source": [
        "print ('***** LINEAR MODEL *****')\n",
        "train_predict = linear_model.predict(X)\n",
        "test_predict = linear_model.predict(Xt)\n",
        "df2 = RMSE(train_predict, test_predict)\n",
        "plot_predict(train_predict, test_predict, y, yt)"
      ]
    },
    {
      "cell_type": "code",
      "execution_count": null,
      "metadata": {
        "id": "s4OJEab3TP4B"
      },
      "outputs": [],
      "source": [
        "print ('***** MLP MODEL *****')\n",
        "train_predict = MLP_model.predict(X)\n",
        "test_predict = MLP_model.predict(Xt)\n",
        "df3 = RMSE(train_predict, test_predict)\n",
        "plot_predict(train_predict, test_predict, y, yt)"
      ]
    },
    {
      "cell_type": "code",
      "execution_count": null,
      "metadata": {
        "id": "OOkC5E-8TP4B"
      },
      "outputs": [],
      "source": [
        "print ('***** LSTM MODEL *****')\n",
        "train_predict = LSTM_model.predict(X)\n",
        "test_predict = LSTM_model.predict(Xt)\n",
        "df4 = RMSE(train_predict, test_predict)\n",
        "plot_predict(train_predict, test_predict, y, yt)"
      ]
    },
    {
      "cell_type": "code",
      "execution_count": 16,
      "metadata": {
        "id": "M4qQjSqZ1Es3"
      },
      "outputs": [],
      "source": [
        "# Plot the prediction error\n",
        "def plot_result2(trainY, testY, train_predict, test_predict,i):\n",
        "    actual = np.append(trainY, testY)\n",
        "    predictions = np.append(train_predict, test_predict)\n",
        "    rows = len(actual)\n",
        "    plt.figure(figsize=(30, 6), dpi=300)\n",
        "    plt.plot(range(rows), actual - predictions)\n",
        "    plt.axvline(x=len(trainY), color='r')\n",
        "    plt.xlabel('Time steps')\n",
        "    plt.ylabel('Actual minus Predicted Values')\n",
        "    plt.title('t+%d Predition Error (The Red Line Separates The Training And Test Examples)' % (i+1))\n",
        "    plt.ylim(-0.5, +1.0) # Please, set the interval appropriately, considering all the graphs.\n",
        "    plt.grid(True)\n",
        "\n",
        "def plot_error_predict(train_predict, test_predict, y, yt):\n",
        "    for i in range(horizon):\n",
        "      if(horizon == 1):\n",
        "        y1_pred = train_predict\n",
        "        y1_pred_t = test_predict\n",
        "        y1 = y\n",
        "        y1_t = yt\n",
        "      elif(horizon > 1):\n",
        "        y1_pred = train_predict[:,i]\n",
        "        y1_pred_t = test_predict[:,i]\n",
        "        y1 = y[:,i]\n",
        "        y1_t = yt[:,i]\n",
        "      plot_result2(y1, y1_t, y1_pred, y1_pred_t,i)"
      ]
    },
    {
      "cell_type": "code",
      "execution_count": null,
      "metadata": {
        "id": "W0b7_fsPTP4C"
      },
      "outputs": [],
      "source": [
        "print ('***** RNN MODEL *****')\n",
        "train_predict = RNN_model.predict(X)\n",
        "test_predict = RNN_model.predict(Xt)\n",
        "plot_error_predict(train_predict, test_predict, y, yt)\n"
      ]
    },
    {
      "cell_type": "code",
      "execution_count": null,
      "metadata": {
        "id": "-znDmv7YTP4C"
      },
      "outputs": [],
      "source": [
        "print ('***** LINEAR MODEL *****')\n",
        "train_predict = linear_model.predict(X)\n",
        "test_predict = linear_model.predict(Xt)\n",
        "plot_error_predict(train_predict, test_predict, y, yt)"
      ]
    },
    {
      "cell_type": "code",
      "execution_count": null,
      "metadata": {
        "id": "r4rrA445TP4C"
      },
      "outputs": [],
      "source": [
        "print ('***** MLP MODEL *****')\n",
        "train_predict = MLP_model.predict(X)\n",
        "test_predict = MLP_model.predict(Xt)\n",
        "plot_error_predict(train_predict, test_predict, y, yt)"
      ]
    },
    {
      "cell_type": "code",
      "execution_count": null,
      "metadata": {
        "id": "savZ2AQ5TP4C"
      },
      "outputs": [],
      "source": [
        "print ('***** LSTM MODEL *****')\n",
        "train_predict = LSTM_model.predict(X)\n",
        "test_predict = LSTM_model.predict(Xt)\n",
        "plot_error_predict(train_predict, test_predict, y, yt)"
      ]
    },
    {
      "cell_type": "markdown",
      "metadata": {
        "id": "yWUCc_hYafYu"
      },
      "source": [
        "## **Exhibit a dataframe with the final results for each predictor**"
      ]
    },
    {
      "cell_type": "code",
      "execution_count": null,
      "metadata": {
        "id": "_Jkq3RtcTP4H"
      },
      "outputs": [],
      "source": [
        "DF_results = pd.concat([df1, df2, df3, df4], axis=1, keys=['RNN', 'LINEAR', 'MLP', 'LSTM'])\n",
        "DF_results.index = ['t+1', 't+2', 't+3']\n",
        "DF_results"
      ]
    },
    {
      "cell_type": "markdown",
      "metadata": {
        "id": "8vs1DdoweztO"
      },
      "source": [
        "## **Use the SimpleRNN model to make a search for the best [time_steps].**"
      ]
    },
    {
      "cell_type": "code",
      "execution_count": null,
      "metadata": {
        "id": "SgBxpguFSC4a"
      },
      "outputs": [],
      "source": [
        "time_steps = [1, 2, 7, 11, 50]\n",
        "horizon = 3\n",
        "DF1 = pd.DataFrame()\n",
        "\n",
        "for timesteps in time_steps:\n",
        "    X, y, Xt, yt = get_train_test('unemployment_rate.csv', 0.8, timesteps, horizon)\n",
        "    RNN_model = RNN_predictor(X, y, timesteps)\n",
        "    train_predict = RNN_model.predict(X)\n",
        "    test_predict = RNN_model.predict(Xt)\n",
        "    rmse  = RMSE(train_predict, test_predict)\n",
        "    rmse.columns = pd.MultiIndex.from_product([[timesteps], rmse.columns])\n",
        "    DF1 = pd.concat([DF1, rmse], axis=1)"
      ]
    },
    {
      "cell_type": "code",
      "execution_count": null,
      "metadata": {
        "id": "musYyay8SdtV"
      },
      "outputs": [],
      "source": [
        "DF1.index = ['t+1', 't+2', 't+3']\n",
        "DF1"
      ]
    },
    {
      "cell_type": "markdown",
      "metadata": {
        "id": "3H6j1YS1a2ny"
      },
      "source": [
        "## **Use the LSTM model to make a search for the best [time_steps].**"
      ]
    },
    {
      "cell_type": "code",
      "execution_count": null,
      "metadata": {
        "id": "8RkeCVB3TP4D"
      },
      "outputs": [],
      "source": [
        "time_steps = [1, 2, 7, 11, 50]\n",
        "horizon = 3\n",
        "DF2 = pd.DataFrame()\n",
        "\n",
        "for timesteps in time_steps:\n",
        "    X, y, Xt, yt = get_train_test('unemployment_rate.csv', 0.8, timesteps, horizon)\n",
        "    LSTM_model = LSTM_predictor(X, y, timesteps)\n",
        "    train_predict = LSTM_model.predict(X)\n",
        "    test_predict = LSTM_model.predict(Xt)\n",
        "    rmse  = RMSE(train_predict, test_predict)\n",
        "    rmse.columns = pd.MultiIndex.from_product([[timesteps], rmse.columns])\n",
        "    DF2 = pd.concat([DF2, rmse], axis=1)"
      ]
    },
    {
      "cell_type": "code",
      "execution_count": null,
      "metadata": {
        "id": "hxpcllfUTP4D"
      },
      "outputs": [],
      "source": [
        "DF2.index = ['t+1', 't+2', 't+3']\n",
        "DF2"
      ]
    },
    {
      "cell_type": "markdown",
      "metadata": {
        "id": "q2dhxWXGGoYX"
      },
      "source": [
        "(a)\tExplique o papel dos parâmetros de projeto [time_steps] e [horizon]."
      ]
    },
    {
      "cell_type": "markdown",
      "metadata": {
        "id": "Q3i3Vjn2Gsgn"
      },
      "source": [
        "**Resposta:**<BR>"
      ]
    },
    {
      "cell_type": "markdown",
      "metadata": {
        "id": "z_xJWGBSGz0L"
      },
      "source": [
        "(b)\tQual a diferença no uso do parâmetro [time_steps] no caso dos preditores não-recorrentes e no caso do bloco LSTM?"
      ]
    },
    {
      "cell_type": "markdown",
      "metadata": {
        "id": "tFBD-6WLGz0V"
      },
      "source": [
        "**Resposta:**<BR>"
      ]
    },
    {
      "cell_type": "markdown",
      "metadata": {
        "id": "W9WByQd9G0BL"
      },
      "source": [
        "(c)\tQual modelo de predição levou a um melhor desempenho junto aos dados de teste em cada caso?"
      ]
    },
    {
      "cell_type": "markdown",
      "metadata": {
        "id": "EIkfi8vGG0BM"
      },
      "source": [
        "**Resposta:**<BR>"
      ]
    },
    {
      "cell_type": "markdown",
      "metadata": {
        "id": "KjdH8YOlG0Lp"
      },
      "source": [
        "(d)\tAo se variar o [horizon], apresente uma hipótese para a perda de desempenho conforme [horizon] cresce de 1 até 3, comportamento produzido por todos os modelos de predição, nos dois casos de estudo."
      ]
    },
    {
      "cell_type": "markdown",
      "metadata": {
        "id": "tBAQPjgCG0Lp"
      },
      "source": [
        "**Resposta:**<BR>"
      ]
    },
    {
      "cell_type": "markdown",
      "metadata": {
        "id": "e6krcnlYG0W6"
      },
      "source": [
        "(e)\tAo se variar o [time_steps] especificamente para os modelos SimpleRNN e LSTM, procure explicar o comportamento observado em cada caso de estudo."
      ]
    },
    {
      "cell_type": "markdown",
      "metadata": {
        "id": "8gxOesaLG0W6"
      },
      "source": [
        "**Resposta:**<BR>"
      ]
    }
  ],
  "metadata": {
    "colab": {
      "provenance": []
    },
    "kernelspec": {
      "display_name": "Python 3",
      "name": "python3"
    },
    "language_info": {
      "codemirror_mode": {
        "name": "ipython",
        "version": 3
      },
      "file_extension": ".py",
      "mimetype": "text/x-python",
      "name": "python",
      "nbconvert_exporter": "python",
      "pygments_lexer": "ipython3",
      "version": "3.11.2"
    }
  },
  "nbformat": 4,
  "nbformat_minor": 0
}

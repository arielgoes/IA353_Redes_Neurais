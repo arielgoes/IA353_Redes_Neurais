{
  "nbformat": 4,
  "nbformat_minor": 0,
  "metadata": {
    "colab": {
      "provenance": []
    },
    "kernelspec": {
      "name": "python3",
      "display_name": "Python 3"
    },
    "language_info": {
      "name": "python"
    }
  },
  "cells": [
    {
      "cell_type": "markdown",
      "source": [
        "## **Notebook PC#07**\n",
        "## Self-Organizing Map (SOM) for the Travelling Salesperson Problem (TSP)<BR>\n",
        "Code based on [this content](https://github.com/diego-vicente/som-tsp). <BR>\n",
        "\n",
        "**Professor:** Fernando J. Von Zuben <br>\n",
        "**Aluno(a):** <br>\n",
        "**Aluno(a):**"
      ],
      "metadata": {
        "id": "xMsNyA3WPrER"
      }
    },
    {
      "cell_type": "code",
      "source": [
        "# plot.py\n",
        "import matplotlib.pyplot as plt\n",
        "import matplotlib as mpl\n",
        "\n",
        "def plot_network(cities, neurons, name='diagram.png', ax=None):\n",
        "    \"\"\"Plot a graphical representation of the problem\"\"\"\n",
        "    mpl.rcParams['agg.path.chunksize'] = 10000\n",
        "\n",
        "    if not ax:\n",
        "        fig = plt.figure(figsize=(5, 5), frameon = False)\n",
        "        axis = fig.add_axes([0,0,1,1])\n",
        "\n",
        "        axis.set_aspect('equal', adjustable='datalim')\n",
        "        plt.axis('off')\n",
        "\n",
        "        axis.scatter(cities['x'], cities['y'], color='red', s=4)\n",
        "        axis.plot(neurons[:,0], neurons[:,1], 'r.', ls='-', color='#0063ba', markersize=2)\n",
        "\n",
        "        plt.savefig(name, bbox_inches='tight', pad_inches=0, dpi=200)\n",
        "        plt.close()\n",
        "\n",
        "    else:\n",
        "        ax.scatter(cities['x'], cities['y'], color='red', s=4)\n",
        "        ax.plot(neurons[:,0], neurons[:,1], 'r.', ls='-', color='#0063ba', markersize=2)\n",
        "        return ax\n",
        "\n",
        "def plot_route(cities, route, name='diagram.png', ax=None):\n",
        "    \"\"\"Plot a graphical representation of the route obtained\"\"\"\n",
        "    mpl.rcParams['agg.path.chunksize'] = 10000\n",
        "\n",
        "    if not ax:\n",
        "        fig = plt.figure(figsize=(5, 5), frameon = False)\n",
        "        axis = fig.add_axes([0,0,1,1])\n",
        "\n",
        "        axis.set_aspect('equal', adjustable='datalim')\n",
        "        plt.axis('off')\n",
        "\n",
        "        axis.scatter(cities['x'], cities['y'], color='red', s=4)\n",
        "        route = cities.reindex(route)\n",
        "        route.loc[route.shape[0]] = route.iloc[0]\n",
        "        axis.plot(route['x'], route['y'], color='purple', linewidth=1)\n",
        "\n",
        "        plt.savefig(name, bbox_inches='tight', pad_inches=0, dpi=200)\n",
        "        plt.close()\n",
        "\n",
        "    else:\n",
        "        ax.scatter(cities['x'], cities['y'], color='red', s=4)\n",
        "        route = cities.reindex(route)\n",
        "        route.loc[route.shape[0]] = route.iloc[0]\n",
        "        ax.plot(route['x'], route['y'], color='purple', linewidth=1)\n",
        "        return ax"
      ],
      "metadata": {
        "id": "pzJWFDhDLxbd"
      },
      "execution_count": 1,
      "outputs": []
    },
    {
      "cell_type": "code",
      "source": [
        "# neuron.py\n",
        "import numpy as np\n",
        "\n",
        "def generate_network(size):\n",
        "    \"\"\"\n",
        "    Generate a neuron network of a given size.\n",
        "\n",
        "    Return a vector of two dimensional points in the interval [0,1].\n",
        "    \"\"\"\n",
        "    return np.random.rand(size, 2)\n",
        "\n",
        "def get_neighborhood(center, radix, domain):\n",
        "    \"\"\"Get the range gaussian of given radix around a center index.\"\"\"\n",
        "\n",
        "    # Impose an upper bound on the radix to prevent NaN and blocks\n",
        "    if radix < 1:\n",
        "        radix = 1\n",
        "\n",
        "    # Compute the circular network distance to the center\n",
        "    deltas = np.absolute(center - np.arange(domain))\n",
        "    distances = np.minimum(deltas, domain - deltas)\n",
        "\n",
        "    # Compute Gaussian distribution around the given center\n",
        "    return np.exp(-(distances*distances) / (2*(radix*radix)))\n",
        "\n",
        "def get_route(cities, network):\n",
        "    \"\"\"Return the route computed by a network.\"\"\"\n",
        "    cities['winner'] = cities[['x', 'y']].apply(\n",
        "        lambda c: select_closest(network, c),\n",
        "        axis=1, raw=True)\n",
        "\n",
        "    return cities.sort_values('winner').index"
      ],
      "metadata": {
        "id": "AzoNklZ3Mj-n"
      },
      "execution_count": 2,
      "outputs": []
    },
    {
      "cell_type": "code",
      "source": [
        "# io_helper.py\n",
        "import pandas as pd\n",
        "\n",
        "def read_tsp(filename):\n",
        "    \"\"\"\n",
        "    Read a file in .tsp format into a pandas DataFrame\n",
        "\n",
        "    The .tsp files can be found in the TSPLIB project. Currently, the library\n",
        "    only considers the possibility of a 2D map.\n",
        "    \"\"\"\n",
        "    with open(filename) as f:\n",
        "        node_coord_start = None\n",
        "        dimension = None\n",
        "        lines = f.readlines()\n",
        "\n",
        "        # Obtain the information about the .tsp\n",
        "        i = 0\n",
        "        while not dimension or not node_coord_start:\n",
        "            line = lines[i]\n",
        "            if line.startswith('DIMENSION :'):\n",
        "                dimension = int(line.split()[-1])\n",
        "            elif line.startswith('DIMENSION:'):\n",
        "                dimension = int(line.split()[-1])\n",
        "            if line.startswith('NODE_COORD_SECTION'):\n",
        "                node_coord_start = i\n",
        "            i = i+1\n",
        "\n",
        "        print('Problem with {} cities read.'.format(dimension))\n",
        "\n",
        "        f.seek(0)\n",
        "\n",
        "        # Read a data frame out of the file descriptor\n",
        "        cities = pd.read_csv(\n",
        "            f,\n",
        "            skiprows=node_coord_start + 1,\n",
        "            sep=' ',\n",
        "            names=['city', 'y', 'x'],\n",
        "            dtype={'city': str, 'x': np.float64, 'y': np.float64},\n",
        "            header=None,\n",
        "            nrows=dimension,\n",
        "            skipinitialspace=True\n",
        "        )\n",
        "\n",
        "        # cities.set_index('city', inplace=True)\n",
        "\n",
        "        return cities\n",
        "\n",
        "def normalize(points):\n",
        "    \"\"\"\n",
        "    Return the normalized version of a given vector of points.\n",
        "\n",
        "    For a given array of n-dimensions, normalize each dimension by removing the\n",
        "    initial offset and normalizing the points in a proportional interval: [0,1]\n",
        "    on y, maintining the original ratio on x.\n",
        "    \"\"\"\n",
        "    ratio = (points.x.max() - points.x.min()) / (points.y.max() - points.y.min()), 1\n",
        "    ratio = np.array(ratio) / max(ratio)\n",
        "    norm = points.apply(lambda c: (c - c.min()) / (c.max() - c.min()))\n",
        "    return norm.apply(lambda p: ratio * p, axis=1)"
      ],
      "metadata": {
        "id": "Kb8coV2gMxwq"
      },
      "execution_count": 3,
      "outputs": []
    },
    {
      "cell_type": "code",
      "source": [
        "# distance.py\n",
        "\n",
        "def select_closest(candidates, origin):\n",
        "    \"\"\"Return the index of the closest candidate to a given point.\"\"\"\n",
        "    return euclidean_distance(candidates, origin).argmin()\n",
        "\n",
        "def euclidean_distance(a, b):\n",
        "    \"\"\"Return the array of distances of two numpy arrays of points.\"\"\"\n",
        "    return np.linalg.norm(a - b, axis=1)\n",
        "\n",
        "def route_distance(cities):\n",
        "    \"\"\"Return the cost of traversing a route of cities in a certain order.\"\"\"\n",
        "    points = cities[['x', 'y']]\n",
        "    distances = euclidean_distance(points, np.roll(points, 1, axis=0))\n",
        "    return np.sum(distances)"
      ],
      "metadata": {
        "id": "7uKIUHkzM_7D"
      },
      "execution_count": 4,
      "outputs": []
    },
    {
      "cell_type": "code",
      "execution_count": null,
      "metadata": {
        "id": "UTKoZAB5Lnku"
      },
      "outputs": [],
      "source": [
        "# main.py\n",
        "\n",
        "def main():\n",
        "\n",
        "    problem = read_tsp('qa194.tsp')\n",
        "\n",
        "    route = som(problem, 100000)\n",
        "\n",
        "    problem = problem.reindex(route)\n",
        "\n",
        "    distance = route_distance(problem)\n",
        "\n",
        "    print('Route found of length {}'.format(distance))\n",
        "\n",
        "\n",
        "def som(problem, iterations, learning_rate=0.8):\n",
        "    \"\"\"Solve the TSP using a Self-Organizing Map.\"\"\"\n",
        "\n",
        "    # Obtain the normalized set of cities (w/ coord in [0,1])\n",
        "    cities = problem.copy()\n",
        "\n",
        "    cities[['x', 'y']] = normalize(cities[['x', 'y']])\n",
        "\n",
        "    # The population size is 8 times the number of cities\n",
        "    n = cities.shape[0] * 8\n",
        "\n",
        "    # Generate an adequate network of neurons:\n",
        "    network = generate_network(n)\n",
        "    print('Network of {} neurons created. Starting the iterations:'.format(n))\n",
        "\n",
        "    for i in range(iterations):\n",
        "        if not i % 100:\n",
        "            print('\\t> Iteration {}/{}'.format(i, iterations), end=\"\\r\")\n",
        "        # Choose a random city\n",
        "        city = cities.sample(1)[['x', 'y']].values\n",
        "        winner_idx = select_closest(network, city)\n",
        "        # Generate a filter that applies changes to the winner's gaussian\n",
        "        gaussian = get_neighborhood(winner_idx, n//10, network.shape[0])\n",
        "        # Update the network's weights (closer to the city)\n",
        "        network += gaussian[:,np.newaxis] * learning_rate * (city - network)\n",
        "        # Decay the variables\n",
        "        learning_rate = learning_rate * 0.99997\n",
        "        n = n * 0.9997\n",
        "\n",
        "        # Check for plotting interval\n",
        "        if not i % 2000:\n",
        "          if i > 0:\n",
        "            plot_network(cities, network, name='{:05d}.png'.format(i))\n",
        "\n",
        "        # Check if any parameter has completely decayed.\n",
        "        if n < 1:\n",
        "            print('Radius has completely decayed, finishing execution',\n",
        "            'at {} iterations'.format(i))\n",
        "            break\n",
        "        if learning_rate < 0.001:\n",
        "            print('Learning rate has completely decayed, finishing execution',\n",
        "            'at {} iterations'.format(i))\n",
        "            break\n",
        "    else:\n",
        "        print('Completed {} iterations.'.format(iterations))\n",
        "\n",
        "    plot_network(cities, network, name='final.png')\n",
        "\n",
        "    route = get_route(cities, network)\n",
        "    plot_route(cities, route, 'route.png')\n",
        "    return route\n",
        "\n",
        "if __name__ == '__main__':\n",
        "    main()"
      ]
    },
    {
      "cell_type": "code",
      "source": [
        "problem = read_tsp('qa194.tsp')\n",
        "with pd.option_context('display.max_rows', None,):\n",
        "    print(problem)"
      ],
      "metadata": {
        "id": "5qiZqRYtj6nk"
      },
      "execution_count": null,
      "outputs": []
    },
    {
      "cell_type": "code",
      "source": [
        "from IPython.display import Image\n",
        "\n",
        "Image('movie.gif', width=500, height=500)"
      ],
      "metadata": {
        "id": "wSb_vs5_nzWd"
      },
      "execution_count": null,
      "outputs": []
    },
    {
      "cell_type": "markdown",
      "source": [
        "Instruções para a atividade seguinte: Após concluir a execução das células anteriores, escolha alguma nova instância de TSP disponível\n",
        "[aqui](http://comopt.ifi.uni-heidelberg.de/software/TSPLIB95/tsp/), carregue o respectivo arquivo no ambiente Colab, apague os atuais arquivos [*.png] com o comando a seguir e execute as células na sequência, incluindo o nome do arquivo que você escolheu no local devido, o qual contém as coordenadas das cidades."
      ],
      "metadata": {
        "id": "dlvuhqUutNBR"
      }
    },
    {
      "cell_type": "code",
      "source": [
        "!rm *.png"
      ],
      "metadata": {
        "id": "4uNXaV1AtLUo"
      },
      "execution_count": 16,
      "outputs": []
    },
    {
      "cell_type": "code",
      "execution_count": null,
      "metadata": {
        "id": "70ZQJWkFuqra"
      },
      "outputs": [],
      "source": [
        "# main2.py\n",
        "\n",
        "def main():\n",
        "\n",
        "    problem2 = read_tsp('??????.tsp') # Please, insert here the new filename.\n",
        "\n",
        "    route2 = som(problem2, 100000)\n",
        "\n",
        "    problem2 = problem2.reindex(route2)\n",
        "\n",
        "    distance2 = route_distance(problem2)\n",
        "\n",
        "    print('Route found of length {}'.format(distance2))\n",
        "\n",
        "\n",
        "def som(problem, iterations, learning_rate=0.8):\n",
        "    \"\"\"Solve the TSP using a Self-Organizing Map.\"\"\"\n",
        "\n",
        "    # Obtain the normalized set of cities (w/ coord in [0,1])\n",
        "    cities = problem.copy()\n",
        "\n",
        "    cities[['x', 'y']] = normalize(cities[['x', 'y']])\n",
        "\n",
        "    # The population size is 8 times the number of cities\n",
        "    n = cities.shape[0] * 8\n",
        "\n",
        "    # Generate an adequate network of neurons:\n",
        "    network = generate_network(n)\n",
        "    print('Network of {} neurons created. Starting the iterations:'.format(n))\n",
        "\n",
        "    for i in range(iterations):\n",
        "        if not i % 100:\n",
        "            print('\\t> Iteration {}/{}'.format(i, iterations), end=\"\\r\")\n",
        "        # Choose a random city\n",
        "        city = cities.sample(1)[['x', 'y']].values\n",
        "        winner_idx = select_closest(network, city)\n",
        "        # Generate a filter that applies changes to the winner's gaussian\n",
        "        gaussian = get_neighborhood(winner_idx, n//10, network.shape[0])\n",
        "        # Update the network's weights (closer to the city)\n",
        "        network += gaussian[:,np.newaxis] * learning_rate * (city - network)\n",
        "        # Decay the variables\n",
        "        learning_rate = learning_rate * 0.99997\n",
        "        n = n * 0.9997\n",
        "\n",
        "        # Check for plotting interval\n",
        "        if not i % 2000:\n",
        "          if i > 0:\n",
        "            plot_network(cities, network, name='{:05d}.png'.format(i))\n",
        "\n",
        "        # Check if any parameter has completely decayed.\n",
        "        if n < 1:\n",
        "            print('Radius has completely decayed, finishing execution',\n",
        "            'at {} iterations'.format(i))\n",
        "            break\n",
        "        if learning_rate < 0.001:\n",
        "            print('Learning rate has completely decayed, finishing execution',\n",
        "            'at {} iterations'.format(i))\n",
        "            break\n",
        "    else:\n",
        "        print('Completed {} iterations.'.format(iterations))\n",
        "\n",
        "    plot_network(cities, network, name='final.png')\n",
        "\n",
        "    route = get_route(cities, network)\n",
        "    plot_route(cities, route, 'route.png')\n",
        "    return route\n",
        "\n",
        "if __name__ == '__main__':\n",
        "    main()"
      ]
    },
    {
      "cell_type": "code",
      "source": [
        "problem2 = read_tsp('??????.tsp') # Please, insert here the new filename.\n",
        "with pd.option_context('display.max_rows', None,):\n",
        "    print(problem2)"
      ],
      "metadata": {
        "id": "_5ImnmcxpY4F"
      },
      "execution_count": null,
      "outputs": []
    },
    {
      "cell_type": "code",
      "source": [
        "# Code based on: https://stackoverflow.com/questions/41228209/making-gif-from-images-using-imageio-in-python\n",
        "import os\n",
        "import imageio\n",
        "\n",
        "png_dir = '.'\n",
        "images = []\n",
        "for file_name in sorted(os.listdir(png_dir)):\n",
        "    if file_name.endswith('.png'):\n",
        "        file_path = os.path.join(png_dir, file_name)\n",
        "        images.append(imageio.imread(file_path))\n",
        "\n",
        "# Make it pause at the end so that the viewers can ponder\n",
        "for _ in range(10):\n",
        "    images.append(imageio.imread(file_path))\n",
        "\n",
        "imageio.mimsave('movie2.gif', images)"
      ],
      "metadata": {
        "id": "_Z4AujBItzLJ"
      },
      "execution_count": null,
      "outputs": []
    },
    {
      "cell_type": "code",
      "source": [
        "Image('movie2.gif', width=500, height=500)"
      ],
      "metadata": {
        "id": "7oRi9_got4c5"
      },
      "execution_count": null,
      "outputs": []
    }
  ]
}
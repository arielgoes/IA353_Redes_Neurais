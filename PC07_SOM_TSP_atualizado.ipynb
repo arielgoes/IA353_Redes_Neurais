{
  "cells": [
    {
      "cell_type": "markdown",
      "metadata": {
        "id": "xMsNyA3WPrER"
      },
      "source": [
        "## **Notebook PC#07**\n",
        "## Self-Organizing Map (SOM) for the Travelling Salesperson Problem (TSP)<BR>\n",
        "Code based on [this content](https://github.com/diego-vicente/som-tsp). <BR>\n",
        "\n",
        "**Professor:** Fernando J. Von Zuben <br>\n",
        "**Aluno(a):** Ariel Góes de Castro <br>\n",
        "**Aluno(a):** Francisco Germano Vogt"
      ]
    },
    {
      "cell_type": "code",
      "execution_count": 1,
      "metadata": {
        "id": "pzJWFDhDLxbd"
      },
      "outputs": [],
      "source": [
        "# plot.py\n",
        "import matplotlib.pyplot as plt\n",
        "import matplotlib as mpl\n",
        "\n",
        "def plot_network(cities, neurons, name='diagram.png', ax=None):\n",
        "    \"\"\"Plot a graphical representation of the problem\"\"\"\n",
        "    mpl.rcParams['agg.path.chunksize'] = 10000\n",
        "\n",
        "    if not ax:\n",
        "        fig = plt.figure(figsize=(5, 5), frameon = False)\n",
        "        axis = fig.add_axes([0,0,1,1])\n",
        "\n",
        "        axis.set_aspect('equal', adjustable='datalim')\n",
        "        plt.axis('off')\n",
        "\n",
        "        axis.scatter(cities['x'], cities['y'], color='red', s=4)\n",
        "        axis.plot(neurons[:,0], neurons[:,1], 'r.', ls='-', color='#0063ba', markersize=2)\n",
        "\n",
        "        plt.savefig(name, bbox_inches='tight', pad_inches=0, dpi=200)\n",
        "        plt.close()\n",
        "\n",
        "    else:\n",
        "        ax.scatter(cities['x'], cities['y'], color='red', s=4)\n",
        "        ax.plot(neurons[:,0], neurons[:,1], 'r.', ls='-', color='#0063ba', markersize=2)\n",
        "        return ax\n",
        "\n",
        "def plot_route(cities, route, name='diagram.png', ax=None):\n",
        "    \"\"\"Plot a graphical representation of the route obtained\"\"\"\n",
        "    mpl.rcParams['agg.path.chunksize'] = 10000\n",
        "\n",
        "    if not ax:\n",
        "        fig = plt.figure(figsize=(5, 5), frameon = False)\n",
        "        axis = fig.add_axes([0,0,1,1])\n",
        "\n",
        "        axis.set_aspect('equal', adjustable='datalim')\n",
        "        plt.axis('off')\n",
        "\n",
        "        axis.scatter(cities['x'], cities['y'], color='red', s=4)\n",
        "        route = cities.reindex(route)\n",
        "        route.loc[route.shape[0]] = route.iloc[0]\n",
        "        axis.plot(route['x'], route['y'], color='purple', linewidth=1)\n",
        "\n",
        "        plt.savefig(name, bbox_inches='tight', pad_inches=0, dpi=200)\n",
        "        plt.close()\n",
        "\n",
        "    else:\n",
        "        ax.scatter(cities['x'], cities['y'], color='red', s=4)\n",
        "        route = cities.reindex(route)\n",
        "        route.loc[route.shape[0]] = route.iloc[0]\n",
        "        ax.plot(route['x'], route['y'], color='purple', linewidth=1)\n",
        "        return ax"
      ]
    },
    {
      "cell_type": "code",
      "execution_count": 2,
      "metadata": {
        "id": "AzoNklZ3Mj-n"
      },
      "outputs": [],
      "source": [
        "# neuron.py\n",
        "import numpy as np\n",
        "\n",
        "def generate_network(size):\n",
        "    \"\"\"\n",
        "    Generate a neuron network of a given size.\n",
        "\n",
        "    Return a vector of two dimensional points in the interval [0,1].\n",
        "    \"\"\"\n",
        "    return np.random.rand(size, 2)\n",
        "\n",
        "def get_neighborhood(center, radix, domain):\n",
        "    \"\"\"Get the range gaussian of given radix around a center index.\"\"\"\n",
        "\n",
        "    # Impose an upper bound on the radix to prevent NaN and blocks\n",
        "    if radix < 1:\n",
        "        radix = 1\n",
        "\n",
        "    # Compute the circular network distance to the center\n",
        "    deltas = np.absolute(center - np.arange(domain))\n",
        "    distances = np.minimum(deltas, domain - deltas)\n",
        "\n",
        "    # Compute Gaussian distribution around the given center\n",
        "    return np.exp(-(distances*distances) / (2*(radix*radix)))\n",
        "\n",
        "def get_route(cities, network):\n",
        "    \"\"\"Return the route computed by a network.\"\"\"\n",
        "    cities['winner'] = cities[['x', 'y']].apply(\n",
        "        lambda c: select_closest(network, c),\n",
        "        axis=1, raw=True)\n",
        "\n",
        "    return cities.sort_values('winner').index"
      ]
    },
    {
      "cell_type": "code",
      "execution_count": 3,
      "metadata": {
        "id": "Kb8coV2gMxwq"
      },
      "outputs": [],
      "source": [
        "# io_helper.py\n",
        "import pandas as pd\n",
        "\n",
        "def read_tsp(filename):\n",
        "    \"\"\"\n",
        "    Read a file in .tsp format into a pandas DataFrame\n",
        "\n",
        "    The .tsp files can be found in the TSPLIB project. Currently, the library\n",
        "    only considers the possibility of a 2D map.\n",
        "    \"\"\"\n",
        "    with open(filename) as f:\n",
        "        node_coord_start = None\n",
        "        dimension = None\n",
        "        lines = f.readlines()\n",
        "\n",
        "        # Obtain the information about the .tsp\n",
        "        i = 0\n",
        "        while not dimension or not node_coord_start:\n",
        "            line = lines[i]\n",
        "            if line.startswith('DIMENSION :'):\n",
        "                dimension = int(line.split()[-1])\n",
        "            elif line.startswith('DIMENSION:'):\n",
        "                dimension = int(line.split()[-1])\n",
        "            if line.startswith('NODE_COORD_SECTION'):\n",
        "                node_coord_start = i\n",
        "            i = i+1\n",
        "\n",
        "        print('Problem with {} cities read.'.format(dimension))\n",
        "\n",
        "        f.seek(0)\n",
        "\n",
        "        # Read a data frame out of the file descriptor\n",
        "        cities = pd.read_csv(\n",
        "            f,\n",
        "            skiprows=node_coord_start + 1,\n",
        "            sep=' ',\n",
        "            names=['city', 'y', 'x'],\n",
        "            dtype={'city': str, 'x': np.float64, 'y': np.float64},\n",
        "            header=None,\n",
        "            nrows=dimension,\n",
        "            skipinitialspace=True\n",
        "        )\n",
        "\n",
        "        # cities.set_index('city', inplace=True)\n",
        "\n",
        "        return cities\n",
        "\n",
        "def normalize(points):\n",
        "    \"\"\"\n",
        "    Return the normalized version of a given vector of points.\n",
        "\n",
        "    For a given array of n-dimensions, normalize each dimension by removing the\n",
        "    initial offset and normalizing the points in a proportional interval: [0,1]\n",
        "    on y, maintining the original ratio on x.\n",
        "    \"\"\"\n",
        "    ratio = (points.x.max() - points.x.min()) / (points.y.max() - points.y.min()), 1\n",
        "    ratio = np.array(ratio) / max(ratio)\n",
        "    norm = points.apply(lambda c: (c - c.min()) / (c.max() - c.min()))\n",
        "    return norm.apply(lambda p: ratio * p, axis=1)"
      ]
    },
    {
      "cell_type": "code",
      "execution_count": 4,
      "metadata": {
        "id": "7uKIUHkzM_7D"
      },
      "outputs": [],
      "source": [
        "# distance.py\n",
        "\n",
        "def select_closest(candidates, origin):\n",
        "    \"\"\"Return the index of the closest candidate to a given point.\"\"\"\n",
        "    return euclidean_distance(candidates, origin).argmin()\n",
        "\n",
        "def euclidean_distance(a, b):\n",
        "    \"\"\"Return the array of distances of two numpy arrays of points.\"\"\"\n",
        "    return np.linalg.norm(a - b, axis=1)\n",
        "\n",
        "def route_distance(cities):\n",
        "    \"\"\"Return the cost of traversing a route of cities in a certain order.\"\"\"\n",
        "    points = cities[['x', 'y']]\n",
        "    distances = euclidean_distance(points, np.roll(points, 1, axis=0))\n",
        "    return np.sum(distances)"
      ]
    },
    {
      "cell_type": "code",
      "execution_count": 5,
      "metadata": {
        "id": "UTKoZAB5Lnku"
      },
      "outputs": [
        {
          "name": "stdout",
          "output_type": "stream",
          "text": [
            "Problem with 194 cities read.\n",
            "Network of 1552 neurons created. Starting the iterations:\n",
            "\t> Iteration 2000/100000\r"
          ]
        },
        {
          "name": "stderr",
          "output_type": "stream",
          "text": [
            "/tmp/ipykernel_53326/1916241185.py:17: UserWarning: color is redundantly defined by the 'color' keyword argument and the fmt string \"r.\" (-> color='r'). The keyword argument will take precedence.\n",
            "  axis.plot(neurons[:,0], neurons[:,1], 'r.', ls='-', color='#0063ba', markersize=2)\n"
          ]
        },
        {
          "name": "stdout",
          "output_type": "stream",
          "text": [
            "\t> Iteration 4000/100000\r"
          ]
        },
        {
          "name": "stderr",
          "output_type": "stream",
          "text": [
            "/tmp/ipykernel_53326/1916241185.py:17: UserWarning: color is redundantly defined by the 'color' keyword argument and the fmt string \"r.\" (-> color='r'). The keyword argument will take precedence.\n",
            "  axis.plot(neurons[:,0], neurons[:,1], 'r.', ls='-', color='#0063ba', markersize=2)\n"
          ]
        },
        {
          "name": "stdout",
          "output_type": "stream",
          "text": [
            "\t> Iteration 6000/100000\r"
          ]
        },
        {
          "name": "stderr",
          "output_type": "stream",
          "text": [
            "/tmp/ipykernel_53326/1916241185.py:17: UserWarning: color is redundantly defined by the 'color' keyword argument and the fmt string \"r.\" (-> color='r'). The keyword argument will take precedence.\n",
            "  axis.plot(neurons[:,0], neurons[:,1], 'r.', ls='-', color='#0063ba', markersize=2)\n"
          ]
        },
        {
          "name": "stdout",
          "output_type": "stream",
          "text": [
            "\t> Iteration 8000/100000\r"
          ]
        },
        {
          "name": "stderr",
          "output_type": "stream",
          "text": [
            "/tmp/ipykernel_53326/1916241185.py:17: UserWarning: color is redundantly defined by the 'color' keyword argument and the fmt string \"r.\" (-> color='r'). The keyword argument will take precedence.\n",
            "  axis.plot(neurons[:,0], neurons[:,1], 'r.', ls='-', color='#0063ba', markersize=2)\n"
          ]
        },
        {
          "name": "stdout",
          "output_type": "stream",
          "text": [
            "\t> Iteration 10000/100000\r"
          ]
        },
        {
          "name": "stderr",
          "output_type": "stream",
          "text": [
            "/tmp/ipykernel_53326/1916241185.py:17: UserWarning: color is redundantly defined by the 'color' keyword argument and the fmt string \"r.\" (-> color='r'). The keyword argument will take precedence.\n",
            "  axis.plot(neurons[:,0], neurons[:,1], 'r.', ls='-', color='#0063ba', markersize=2)\n"
          ]
        },
        {
          "name": "stdout",
          "output_type": "stream",
          "text": [
            "\t> Iteration 12000/100000\r"
          ]
        },
        {
          "name": "stderr",
          "output_type": "stream",
          "text": [
            "/tmp/ipykernel_53326/1916241185.py:17: UserWarning: color is redundantly defined by the 'color' keyword argument and the fmt string \"r.\" (-> color='r'). The keyword argument will take precedence.\n",
            "  axis.plot(neurons[:,0], neurons[:,1], 'r.', ls='-', color='#0063ba', markersize=2)\n"
          ]
        },
        {
          "name": "stdout",
          "output_type": "stream",
          "text": [
            "\t> Iteration 14000/100000\r"
          ]
        },
        {
          "name": "stderr",
          "output_type": "stream",
          "text": [
            "/tmp/ipykernel_53326/1916241185.py:17: UserWarning: color is redundantly defined by the 'color' keyword argument and the fmt string \"r.\" (-> color='r'). The keyword argument will take precedence.\n",
            "  axis.plot(neurons[:,0], neurons[:,1], 'r.', ls='-', color='#0063ba', markersize=2)\n"
          ]
        },
        {
          "name": "stdout",
          "output_type": "stream",
          "text": [
            "\t> Iteration 16000/100000\r"
          ]
        },
        {
          "name": "stderr",
          "output_type": "stream",
          "text": [
            "/tmp/ipykernel_53326/1916241185.py:17: UserWarning: color is redundantly defined by the 'color' keyword argument and the fmt string \"r.\" (-> color='r'). The keyword argument will take precedence.\n",
            "  axis.plot(neurons[:,0], neurons[:,1], 'r.', ls='-', color='#0063ba', markersize=2)\n"
          ]
        },
        {
          "name": "stdout",
          "output_type": "stream",
          "text": [
            "\t> Iteration 18000/100000\r"
          ]
        },
        {
          "name": "stderr",
          "output_type": "stream",
          "text": [
            "/tmp/ipykernel_53326/1916241185.py:17: UserWarning: color is redundantly defined by the 'color' keyword argument and the fmt string \"r.\" (-> color='r'). The keyword argument will take precedence.\n",
            "  axis.plot(neurons[:,0], neurons[:,1], 'r.', ls='-', color='#0063ba', markersize=2)\n"
          ]
        },
        {
          "name": "stdout",
          "output_type": "stream",
          "text": [
            "\t> Iteration 20000/100000\r"
          ]
        },
        {
          "name": "stderr",
          "output_type": "stream",
          "text": [
            "/tmp/ipykernel_53326/1916241185.py:17: UserWarning: color is redundantly defined by the 'color' keyword argument and the fmt string \"r.\" (-> color='r'). The keyword argument will take precedence.\n",
            "  axis.plot(neurons[:,0], neurons[:,1], 'r.', ls='-', color='#0063ba', markersize=2)\n"
          ]
        },
        {
          "name": "stdout",
          "output_type": "stream",
          "text": [
            "\t> Iteration 22000/100000\r"
          ]
        },
        {
          "name": "stderr",
          "output_type": "stream",
          "text": [
            "/tmp/ipykernel_53326/1916241185.py:17: UserWarning: color is redundantly defined by the 'color' keyword argument and the fmt string \"r.\" (-> color='r'). The keyword argument will take precedence.\n",
            "  axis.plot(neurons[:,0], neurons[:,1], 'r.', ls='-', color='#0063ba', markersize=2)\n"
          ]
        },
        {
          "name": "stdout",
          "output_type": "stream",
          "text": [
            "\t> Iteration 24000/100000\r"
          ]
        },
        {
          "name": "stderr",
          "output_type": "stream",
          "text": [
            "/tmp/ipykernel_53326/1916241185.py:17: UserWarning: color is redundantly defined by the 'color' keyword argument and the fmt string \"r.\" (-> color='r'). The keyword argument will take precedence.\n",
            "  axis.plot(neurons[:,0], neurons[:,1], 'r.', ls='-', color='#0063ba', markersize=2)\n"
          ]
        },
        {
          "name": "stdout",
          "output_type": "stream",
          "text": [
            "Radius has completely decayed, finishing execution at 24487 iterations\n"
          ]
        },
        {
          "name": "stderr",
          "output_type": "stream",
          "text": [
            "/tmp/ipykernel_53326/1916241185.py:17: UserWarning: color is redundantly defined by the 'color' keyword argument and the fmt string \"r.\" (-> color='r'). The keyword argument will take precedence.\n",
            "  axis.plot(neurons[:,0], neurons[:,1], 'r.', ls='-', color='#0063ba', markersize=2)\n"
          ]
        },
        {
          "name": "stdout",
          "output_type": "stream",
          "text": [
            "Route found of length 9908.093254184285\n"
          ]
        }
      ],
      "source": [
        "# main.py\n",
        "\n",
        "def main():\n",
        "\n",
        "    problem = read_tsp('qa194.tsp')\n",
        "\n",
        "    route = som(problem, 100000)\n",
        "\n",
        "    problem = problem.reindex(route)\n",
        "\n",
        "    distance = route_distance(problem)\n",
        "\n",
        "    print('Route found of length {}'.format(distance))\n",
        "\n",
        "\n",
        "def som(problem, iterations, learning_rate=0.8):\n",
        "    \"\"\"Solve the TSP using a Self-Organizing Map.\"\"\"\n",
        "\n",
        "    # Obtain the normalized set of cities (w/ coord in [0,1])\n",
        "    cities = problem.copy()\n",
        "\n",
        "    cities[['x', 'y']] = normalize(cities[['x', 'y']])\n",
        "\n",
        "    # The population size is 8 times the number of cities\n",
        "    n = cities.shape[0] * 8\n",
        "\n",
        "    # Generate an adequate network of neurons:\n",
        "    network = generate_network(n)\n",
        "    print('Network of {} neurons created. Starting the iterations:'.format(n))\n",
        "\n",
        "    for i in range(iterations):\n",
        "        if not i % 100:\n",
        "            print('\\t> Iteration {}/{}'.format(i, iterations), end=\"\\r\")\n",
        "        # Choose a random city\n",
        "        city = cities.sample(1)[['x', 'y']].values\n",
        "        winner_idx = select_closest(network, city)\n",
        "        # Generate a filter that applies changes to the winner's gaussian\n",
        "        gaussian = get_neighborhood(winner_idx, n//10, network.shape[0])\n",
        "        # Update the network's weights (closer to the city)\n",
        "        network += gaussian[:,np.newaxis] * learning_rate * (city - network)\n",
        "        # Decay the variables\n",
        "        learning_rate = learning_rate * 0.99997\n",
        "        n = n * 0.9997\n",
        "\n",
        "        # Check for plotting interval\n",
        "        if not i % 2000:\n",
        "          if i > 0:\n",
        "            plot_network(cities, network, name='{:05d}.png'.format(i))\n",
        "\n",
        "        # Check if any parameter has completely decayed.\n",
        "        if n < 1:\n",
        "            print('Radius has completely decayed, finishing execution',\n",
        "            'at {} iterations'.format(i))\n",
        "            break\n",
        "        if learning_rate < 0.001:\n",
        "            print('Learning rate has completely decayed, finishing execution',\n",
        "            'at {} iterations'.format(i))\n",
        "            break\n",
        "    else:\n",
        "        print('Completed {} iterations.'.format(iterations))\n",
        "\n",
        "    plot_network(cities, network, name='final.png')\n",
        "\n",
        "    route = get_route(cities, network)\n",
        "    plot_route(cities, route, 'route.png')\n",
        "    return route\n",
        "\n",
        "if __name__ == '__main__':\n",
        "    main()"
      ]
    },
    {
      "cell_type": "code",
      "execution_count": 6,
      "metadata": {
        "id": "5qiZqRYtj6nk"
      },
      "outputs": [
        {
          "name": "stdout",
          "output_type": "stream",
          "text": [
            "Problem with 194 cities read.\n",
            "    city           y           x\n",
            "0      1  24748.3333  50840.0000\n",
            "1      2  24758.8889  51211.9444\n",
            "2      3  24827.2222  51394.7222\n",
            "3      4  24904.4444  51175.0000\n",
            "4      5  24996.1111  51548.8889\n",
            "5      6  25010.0000  51039.4444\n",
            "6      7  25030.8333  51275.2778\n",
            "7      8  25067.7778  51077.5000\n",
            "8      9  25100.0000  51516.6667\n",
            "9     10  25103.3333  51521.6667\n",
            "10    11  25121.9444  51218.3333\n",
            "11    12  25150.8333  51537.7778\n",
            "12    13  25158.3333  51163.6111\n",
            "13    14  25162.2222  51220.8333\n",
            "14    15  25167.7778  51606.9444\n",
            "15    16  25168.8889  51086.3889\n",
            "16    17  25173.8889  51269.4444\n",
            "17    18  25210.8333  51394.1667\n",
            "18    19  25211.3889  51619.1667\n",
            "19    20  25214.1667  50807.2222\n",
            "20    21  25214.4444  51378.8889\n",
            "21    22  25223.3333  51451.6667\n",
            "22    23  25224.1667  51174.4444\n",
            "23    24  25233.3333  51333.3333\n",
            "24    25  25234.1667  51203.0556\n",
            "25    26  25235.5556  51330.0000\n",
            "26    27  25235.5556  51495.5556\n",
            "27    28  25242.7778  51428.8889\n",
            "28    29  25243.0556  51452.5000\n",
            "29    30  25252.5000  51559.1667\n",
            "30    31  25253.8889  51535.2778\n",
            "31    32  25253.8889  51549.7222\n",
            "32    33  25256.9444  51398.8889\n",
            "33    34  25263.6111  51516.3889\n",
            "34    35  25265.8333  51545.2778\n",
            "35    36  25266.6667  50969.1667\n",
            "36    37  25266.6667  51483.3333\n",
            "37    38  25270.5556  51532.7778\n",
            "38    39  25270.8333  51505.8333\n",
            "39    40  25270.8333  51523.0556\n",
            "40    41  25275.8333  51533.6111\n",
            "41    42  25277.2222  51547.7778\n",
            "42    43  25278.3333  51525.5556\n",
            "43    44  25278.3333  51541.3889\n",
            "44    45  25279.1667  51445.5556\n",
            "45    46  25281.1111  51535.0000\n",
            "46    47  25281.3889  51512.5000\n",
            "47    48  25283.3333  51533.3333\n",
            "48    49  25283.6111  51546.6667\n",
            "49    50  25284.7222  51555.2778\n",
            "50    51  25286.1111  51504.1667\n",
            "51    52  25286.1111  51534.1667\n",
            "52    53  25286.6667  51533.3333\n",
            "53    54  25287.5000  51537.7778\n",
            "54    55  25288.0556  51546.6667\n",
            "55    56  25290.8333  51528.3333\n",
            "56    57  25291.9444  51424.4444\n",
            "57    58  25292.5000  51520.8333\n",
            "58    59  25298.6111  51001.6667\n",
            "59    60  25300.8333  51394.4444\n",
            "60    61  25306.9444  51507.7778\n",
            "61    62  25311.9444  51003.0556\n",
            "62    63  25313.8889  50883.3333\n",
            "63    64  25315.2778  51438.6111\n",
            "64    65  25316.6667  50766.6667\n",
            "65    66  25320.5556  51495.5556\n",
            "66    67  25322.5000  51507.7778\n",
            "67    68  25325.2778  51470.0000\n",
            "68    69  25326.6667  51350.2778\n",
            "69    70  25337.5000  51425.0000\n",
            "70    71  25339.1667  51173.3333\n",
            "71    72  25340.5556  51293.6111\n",
            "72    73  25341.9444  51507.5000\n",
            "73    74  25358.8889  51333.6111\n",
            "74    75  25363.6111  51281.1111\n",
            "75    76  25368.6111  51226.3889\n",
            "76    77  25374.4444  51436.6667\n",
            "77    78  25377.7778  51294.7222\n",
            "78    79  25396.9444  51422.5000\n",
            "79    80  25400.0000  51183.3333\n",
            "80    81  25400.0000  51425.0000\n",
            "81    82  25404.7222  51073.0556\n",
            "82    83  25416.9444  51403.8889\n",
            "83    84  25416.9444  51457.7778\n",
            "84    85  25419.4444  50793.6111\n",
            "85    86  25429.7222  50785.8333\n",
            "86    87  25433.3333  51220.0000\n",
            "87    88  25440.8333  51378.0556\n",
            "88    89  25444.4444  50958.3333\n",
            "89    90  25451.3889  50925.0000\n",
            "90    91  25459.1667  51316.6667\n",
            "91    92  25469.7222  51397.5000\n",
            "92    93  25478.0556  51362.5000\n",
            "93    94  25480.5556  50938.8889\n",
            "94    95  25483.3333  51383.3333\n",
            "95    96  25490.5556  51373.6111\n",
            "96    97  25492.2222  51400.2778\n",
            "97    98  25495.0000  50846.6667\n",
            "98    99  25495.0000  50965.2778\n",
            "99   100  25497.5000  51485.2778\n",
            "100  101  25500.8333  50980.5556\n",
            "101  102  25510.5556  51242.2222\n",
            "102  103  25531.9444  51304.4444\n",
            "103  104  25533.3333  50977.2222\n",
            "104  105  25538.8889  51408.3333\n",
            "105  106  25545.8333  51387.5000\n",
            "106  107  25549.7222  51431.9444\n",
            "107  108  25550.0000  51433.3333\n",
            "108  109  25560.2778  51158.6111\n",
            "109  110  25566.9444  51484.7222\n",
            "110  111  25567.5000  50958.8889\n",
            "111  112  25574.7222  51486.3889\n",
            "112  113  25585.5556  51151.3889\n",
            "113  114  25609.4444  51092.2222\n",
            "114  115  25610.2778  51475.2778\n",
            "115  116  25622.5000  51454.4444\n",
            "116  117  25645.8333  51450.0000\n",
            "117  118  25650.0000  51372.2222\n",
            "118  119  25666.9444  51174.4444\n",
            "119  120  25683.8889  51505.8333\n",
            "120  121  25686.3889  51468.8889\n",
            "121  122  25696.1111  51260.8333\n",
            "122  123  25700.8333  51584.7222\n",
            "123  124  25708.3333  51591.6667\n",
            "124  125  25716.6667  51050.0000\n",
            "125  126  25717.5000  51057.7778\n",
            "126  127  25723.0556  51004.1667\n",
            "127  128  25734.7222  51547.5000\n",
            "128  129  25751.1111  51449.1667\n",
            "129  130  25751.9444  50920.8333\n",
            "130  131  25758.3333  51395.8333\n",
            "131  132  25765.2778  51019.7222\n",
            "132  133  25772.2222  51483.3333\n",
            "133  134  25775.8333  51023.0556\n",
            "134  135  25779.1667  51449.7222\n",
            "135  136  25793.3333  51409.4444\n",
            "136  137  25808.3333  51060.5556\n",
            "137  138  25816.6667  51133.3333\n",
            "138  139  25823.6111  51152.5000\n",
            "139  140  25826.6667  51043.8889\n",
            "140  141  25829.7222  51245.2778\n",
            "141  142  25833.3333  51072.2222\n",
            "142  143  25839.1667  51465.2778\n",
            "143  144  25847.7778  51205.8333\n",
            "144  145  25850.0000  51033.3333\n",
            "145  146  25856.6667  51083.3333\n",
            "146  147  25857.5000  51298.8889\n",
            "147  148  25857.5000  51441.3889\n",
            "148  149  25866.6667  51066.6667\n",
            "149  150  25867.7778  51205.5556\n",
            "150  151  25871.9444  51354.7222\n",
            "151  152  25872.5000  51258.3333\n",
            "152  153  25880.8333  51221.3889\n",
            "153  154  25883.0556  51185.2778\n",
            "154  155  25888.0556  51386.3889\n",
            "155  156  25900.0000  51000.0000\n",
            "156  157  25904.1667  51201.6667\n",
            "157  158  25928.3333  51337.5000\n",
            "158  159  25937.5000  51313.3333\n",
            "159  160  25944.7222  51456.3889\n",
            "160  161  25950.0000  51066.6667\n",
            "161  162  25951.6667  51349.7222\n",
            "162  163  25957.7778  51075.2778\n",
            "163  164  25958.3333  51099.4444\n",
            "164  165  25966.6667  51283.3333\n",
            "165  166  25983.3333  51400.0000\n",
            "166  167  25983.6111  51328.0556\n",
            "167  168  26000.2778  51294.4444\n",
            "168  169  26008.6111  51083.6111\n",
            "169  170  26016.6667  51333.3333\n",
            "170  171  26021.6667  51366.9444\n",
            "171  172  26033.3333  51116.6667\n",
            "172  173  26033.3333  51166.6667\n",
            "173  174  26033.6111  51163.8889\n",
            "174  175  26033.6111  51200.2778\n",
            "175  176  26048.8889  51056.9444\n",
            "176  177  26050.0000  51250.0000\n",
            "177  178  26050.2778  51297.5000\n",
            "178  179  26050.5556  51135.8333\n",
            "179  180  26055.0000  51316.1111\n",
            "180  181  26067.2222  51258.6111\n",
            "181  182  26074.7222  51083.6111\n",
            "182  183  26076.6667  51166.9444\n",
            "183  184  26077.2222  51222.2222\n",
            "184  185  26078.0556  51361.6667\n",
            "185  186  26083.6111  51147.2222\n",
            "186  187  26099.7222  51161.1111\n",
            "187  188  26108.0556  51244.7222\n",
            "188  189  26116.6667  51216.6667\n",
            "189  190  26123.6111  51169.1667\n",
            "190  191  26123.6111  51222.7778\n",
            "191  192  26133.3333  51216.6667\n",
            "192  193  26133.3333  51300.0000\n",
            "193  194  26150.2778  51108.0556\n"
          ]
        }
      ],
      "source": [
        "problem = read_tsp('qa194.tsp')\n",
        "with pd.option_context('display.max_rows', None,):\n",
        "    print(problem)"
      ]
    },
    {
      "cell_type": "code",
      "execution_count": 7,
      "metadata": {
        "id": "wSb_vs5_nzWd"
      },
      "outputs": [
        {
          "ename": "FileNotFoundError",
          "evalue": "No such file or directory: 'movie.gif'",
          "output_type": "error",
          "traceback": [
            "\u001b[0;31m---------------------------------------------------------------------------\u001b[0m",
            "\u001b[0;31mTypeError\u001b[0m                                 Traceback (most recent call last)",
            "File \u001b[0;32m~/anaconda3/envs/tf_gpu_python-3-10/lib/python3.10/site-packages/IPython/core/display.py:1045\u001b[0m, in \u001b[0;36mImage._data_and_metadata\u001b[0;34m(self, always_both)\u001b[0m\n\u001b[1;32m   1044\u001b[0m \u001b[38;5;28;01mtry\u001b[39;00m:\n\u001b[0;32m-> 1045\u001b[0m     b64_data \u001b[38;5;241m=\u001b[39m \u001b[43mb2a_base64\u001b[49m\u001b[43m(\u001b[49m\u001b[38;5;28;43mself\u001b[39;49m\u001b[38;5;241;43m.\u001b[39;49m\u001b[43mdata\u001b[49m\u001b[43m,\u001b[49m\u001b[43m \u001b[49m\u001b[43mnewline\u001b[49m\u001b[38;5;241;43m=\u001b[39;49m\u001b[38;5;28;43;01mFalse\u001b[39;49;00m\u001b[43m)\u001b[49m\u001b[38;5;241m.\u001b[39mdecode(\u001b[38;5;124m\"\u001b[39m\u001b[38;5;124mascii\u001b[39m\u001b[38;5;124m\"\u001b[39m)\n\u001b[1;32m   1046\u001b[0m \u001b[38;5;28;01mexcept\u001b[39;00m \u001b[38;5;167;01mTypeError\u001b[39;00m \u001b[38;5;28;01mas\u001b[39;00m e:\n",
            "\u001b[0;31mTypeError\u001b[0m: a bytes-like object is required, not 'str'",
            "\nThe above exception was the direct cause of the following exception:\n",
            "\u001b[0;31mFileNotFoundError\u001b[0m                         Traceback (most recent call last)",
            "File \u001b[0;32m~/anaconda3/envs/tf_gpu_python-3-10/lib/python3.10/site-packages/IPython/core/formatters.py:977\u001b[0m, in \u001b[0;36mMimeBundleFormatter.__call__\u001b[0;34m(self, obj, include, exclude)\u001b[0m\n\u001b[1;32m    974\u001b[0m     method \u001b[38;5;241m=\u001b[39m get_real_method(obj, \u001b[38;5;28mself\u001b[39m\u001b[38;5;241m.\u001b[39mprint_method)\n\u001b[1;32m    976\u001b[0m     \u001b[38;5;28;01mif\u001b[39;00m method \u001b[38;5;129;01mis\u001b[39;00m \u001b[38;5;129;01mnot\u001b[39;00m \u001b[38;5;28;01mNone\u001b[39;00m:\n\u001b[0;32m--> 977\u001b[0m         \u001b[38;5;28;01mreturn\u001b[39;00m \u001b[43mmethod\u001b[49m\u001b[43m(\u001b[49m\u001b[43minclude\u001b[49m\u001b[38;5;241;43m=\u001b[39;49m\u001b[43minclude\u001b[49m\u001b[43m,\u001b[49m\u001b[43m \u001b[49m\u001b[43mexclude\u001b[49m\u001b[38;5;241;43m=\u001b[39;49m\u001b[43mexclude\u001b[49m\u001b[43m)\u001b[49m\n\u001b[1;32m    978\u001b[0m     \u001b[38;5;28;01mreturn\u001b[39;00m \u001b[38;5;28;01mNone\u001b[39;00m\n\u001b[1;32m    979\u001b[0m \u001b[38;5;28;01melse\u001b[39;00m:\n",
            "File \u001b[0;32m~/anaconda3/envs/tf_gpu_python-3-10/lib/python3.10/site-packages/IPython/core/display.py:1035\u001b[0m, in \u001b[0;36mImage._repr_mimebundle_\u001b[0;34m(self, include, exclude)\u001b[0m\n\u001b[1;32m   1033\u001b[0m \u001b[38;5;28;01mif\u001b[39;00m \u001b[38;5;28mself\u001b[39m\u001b[38;5;241m.\u001b[39membed:\n\u001b[1;32m   1034\u001b[0m     mimetype \u001b[38;5;241m=\u001b[39m \u001b[38;5;28mself\u001b[39m\u001b[38;5;241m.\u001b[39m_mimetype\n\u001b[0;32m-> 1035\u001b[0m     data, metadata \u001b[38;5;241m=\u001b[39m \u001b[38;5;28;43mself\u001b[39;49m\u001b[38;5;241;43m.\u001b[39;49m\u001b[43m_data_and_metadata\u001b[49m\u001b[43m(\u001b[49m\u001b[43malways_both\u001b[49m\u001b[38;5;241;43m=\u001b[39;49m\u001b[38;5;28;43;01mTrue\u001b[39;49;00m\u001b[43m)\u001b[49m\n\u001b[1;32m   1036\u001b[0m     \u001b[38;5;28;01mif\u001b[39;00m metadata:\n\u001b[1;32m   1037\u001b[0m         metadata \u001b[38;5;241m=\u001b[39m {mimetype: metadata}\n",
            "File \u001b[0;32m~/anaconda3/envs/tf_gpu_python-3-10/lib/python3.10/site-packages/IPython/core/display.py:1047\u001b[0m, in \u001b[0;36mImage._data_and_metadata\u001b[0;34m(self, always_both)\u001b[0m\n\u001b[1;32m   1045\u001b[0m     b64_data \u001b[38;5;241m=\u001b[39m b2a_base64(\u001b[38;5;28mself\u001b[39m\u001b[38;5;241m.\u001b[39mdata, newline\u001b[38;5;241m=\u001b[39m\u001b[38;5;28;01mFalse\u001b[39;00m)\u001b[38;5;241m.\u001b[39mdecode(\u001b[38;5;124m\"\u001b[39m\u001b[38;5;124mascii\u001b[39m\u001b[38;5;124m\"\u001b[39m)\n\u001b[1;32m   1046\u001b[0m \u001b[38;5;28;01mexcept\u001b[39;00m \u001b[38;5;167;01mTypeError\u001b[39;00m \u001b[38;5;28;01mas\u001b[39;00m e:\n\u001b[0;32m-> 1047\u001b[0m     \u001b[38;5;28;01mraise\u001b[39;00m \u001b[38;5;167;01mFileNotFoundError\u001b[39;00m(\n\u001b[1;32m   1048\u001b[0m         \u001b[38;5;124m\"\u001b[39m\u001b[38;5;124mNo such file or directory: \u001b[39m\u001b[38;5;124m'\u001b[39m\u001b[38;5;132;01m%s\u001b[39;00m\u001b[38;5;124m'\u001b[39m\u001b[38;5;124m\"\u001b[39m \u001b[38;5;241m%\u001b[39m (\u001b[38;5;28mself\u001b[39m\u001b[38;5;241m.\u001b[39mdata)) \u001b[38;5;28;01mfrom\u001b[39;00m \u001b[38;5;21;01me\u001b[39;00m\n\u001b[1;32m   1049\u001b[0m md \u001b[38;5;241m=\u001b[39m {}\n\u001b[1;32m   1050\u001b[0m \u001b[38;5;28;01mif\u001b[39;00m \u001b[38;5;28mself\u001b[39m\u001b[38;5;241m.\u001b[39mmetadata:\n",
            "\u001b[0;31mFileNotFoundError\u001b[0m: No such file or directory: 'movie.gif'"
          ]
        },
        {
          "ename": "FileNotFoundError",
          "evalue": "No such file or directory: 'movie.gif'",
          "output_type": "error",
          "traceback": [
            "\u001b[0;31m---------------------------------------------------------------------------\u001b[0m",
            "\u001b[0;31mTypeError\u001b[0m                                 Traceback (most recent call last)",
            "File \u001b[0;32m~/anaconda3/envs/tf_gpu_python-3-10/lib/python3.10/site-packages/IPython/core/display.py:1045\u001b[0m, in \u001b[0;36mImage._data_and_metadata\u001b[0;34m(self, always_both)\u001b[0m\n\u001b[1;32m   1044\u001b[0m \u001b[38;5;28;01mtry\u001b[39;00m:\n\u001b[0;32m-> 1045\u001b[0m     b64_data \u001b[38;5;241m=\u001b[39m \u001b[43mb2a_base64\u001b[49m\u001b[43m(\u001b[49m\u001b[38;5;28;43mself\u001b[39;49m\u001b[38;5;241;43m.\u001b[39;49m\u001b[43mdata\u001b[49m\u001b[43m,\u001b[49m\u001b[43m \u001b[49m\u001b[43mnewline\u001b[49m\u001b[38;5;241;43m=\u001b[39;49m\u001b[38;5;28;43;01mFalse\u001b[39;49;00m\u001b[43m)\u001b[49m\u001b[38;5;241m.\u001b[39mdecode(\u001b[38;5;124m\"\u001b[39m\u001b[38;5;124mascii\u001b[39m\u001b[38;5;124m\"\u001b[39m)\n\u001b[1;32m   1046\u001b[0m \u001b[38;5;28;01mexcept\u001b[39;00m \u001b[38;5;167;01mTypeError\u001b[39;00m \u001b[38;5;28;01mas\u001b[39;00m e:\n",
            "\u001b[0;31mTypeError\u001b[0m: a bytes-like object is required, not 'str'",
            "\nThe above exception was the direct cause of the following exception:\n",
            "\u001b[0;31mFileNotFoundError\u001b[0m                         Traceback (most recent call last)",
            "File \u001b[0;32m~/anaconda3/envs/tf_gpu_python-3-10/lib/python3.10/site-packages/IPython/core/formatters.py:347\u001b[0m, in \u001b[0;36mBaseFormatter.__call__\u001b[0;34m(self, obj)\u001b[0m\n\u001b[1;32m    345\u001b[0m     method \u001b[38;5;241m=\u001b[39m get_real_method(obj, \u001b[38;5;28mself\u001b[39m\u001b[38;5;241m.\u001b[39mprint_method)\n\u001b[1;32m    346\u001b[0m     \u001b[38;5;28;01mif\u001b[39;00m method \u001b[38;5;129;01mis\u001b[39;00m \u001b[38;5;129;01mnot\u001b[39;00m \u001b[38;5;28;01mNone\u001b[39;00m:\n\u001b[0;32m--> 347\u001b[0m         \u001b[38;5;28;01mreturn\u001b[39;00m \u001b[43mmethod\u001b[49m\u001b[43m(\u001b[49m\u001b[43m)\u001b[49m\n\u001b[1;32m    348\u001b[0m     \u001b[38;5;28;01mreturn\u001b[39;00m \u001b[38;5;28;01mNone\u001b[39;00m\n\u001b[1;32m    349\u001b[0m \u001b[38;5;28;01melse\u001b[39;00m:\n",
            "File \u001b[0;32m~/anaconda3/envs/tf_gpu_python-3-10/lib/python3.10/site-packages/IPython/core/display.py:1067\u001b[0m, in \u001b[0;36mImage._repr_png_\u001b[0;34m(self)\u001b[0m\n\u001b[1;32m   1065\u001b[0m \u001b[38;5;28;01mdef\u001b[39;00m \u001b[38;5;21m_repr_png_\u001b[39m(\u001b[38;5;28mself\u001b[39m):\n\u001b[1;32m   1066\u001b[0m     \u001b[38;5;28;01mif\u001b[39;00m \u001b[38;5;28mself\u001b[39m\u001b[38;5;241m.\u001b[39membed \u001b[38;5;129;01mand\u001b[39;00m \u001b[38;5;28mself\u001b[39m\u001b[38;5;241m.\u001b[39mformat \u001b[38;5;241m==\u001b[39m \u001b[38;5;28mself\u001b[39m\u001b[38;5;241m.\u001b[39m_FMT_PNG:\n\u001b[0;32m-> 1067\u001b[0m         \u001b[38;5;28;01mreturn\u001b[39;00m \u001b[38;5;28;43mself\u001b[39;49m\u001b[38;5;241;43m.\u001b[39;49m\u001b[43m_data_and_metadata\u001b[49m\u001b[43m(\u001b[49m\u001b[43m)\u001b[49m\n",
            "File \u001b[0;32m~/anaconda3/envs/tf_gpu_python-3-10/lib/python3.10/site-packages/IPython/core/display.py:1047\u001b[0m, in \u001b[0;36mImage._data_and_metadata\u001b[0;34m(self, always_both)\u001b[0m\n\u001b[1;32m   1045\u001b[0m     b64_data \u001b[38;5;241m=\u001b[39m b2a_base64(\u001b[38;5;28mself\u001b[39m\u001b[38;5;241m.\u001b[39mdata, newline\u001b[38;5;241m=\u001b[39m\u001b[38;5;28;01mFalse\u001b[39;00m)\u001b[38;5;241m.\u001b[39mdecode(\u001b[38;5;124m\"\u001b[39m\u001b[38;5;124mascii\u001b[39m\u001b[38;5;124m\"\u001b[39m)\n\u001b[1;32m   1046\u001b[0m \u001b[38;5;28;01mexcept\u001b[39;00m \u001b[38;5;167;01mTypeError\u001b[39;00m \u001b[38;5;28;01mas\u001b[39;00m e:\n\u001b[0;32m-> 1047\u001b[0m     \u001b[38;5;28;01mraise\u001b[39;00m \u001b[38;5;167;01mFileNotFoundError\u001b[39;00m(\n\u001b[1;32m   1048\u001b[0m         \u001b[38;5;124m\"\u001b[39m\u001b[38;5;124mNo such file or directory: \u001b[39m\u001b[38;5;124m'\u001b[39m\u001b[38;5;132;01m%s\u001b[39;00m\u001b[38;5;124m'\u001b[39m\u001b[38;5;124m\"\u001b[39m \u001b[38;5;241m%\u001b[39m (\u001b[38;5;28mself\u001b[39m\u001b[38;5;241m.\u001b[39mdata)) \u001b[38;5;28;01mfrom\u001b[39;00m \u001b[38;5;21;01me\u001b[39;00m\n\u001b[1;32m   1049\u001b[0m md \u001b[38;5;241m=\u001b[39m {}\n\u001b[1;32m   1050\u001b[0m \u001b[38;5;28;01mif\u001b[39;00m \u001b[38;5;28mself\u001b[39m\u001b[38;5;241m.\u001b[39mmetadata:\n",
            "\u001b[0;31mFileNotFoundError\u001b[0m: No such file or directory: 'movie.gif'"
          ]
        },
        {
          "data": {
            "text/plain": [
              "<IPython.core.display.Image object>"
            ]
          },
          "execution_count": 7,
          "metadata": {},
          "output_type": "execute_result"
        }
      ],
      "source": [
        "from IPython.display import Image\n",
        "\n",
        "Image('movie.gif', width=500, height=500)"
      ]
    },
    {
      "cell_type": "markdown",
      "metadata": {
        "id": "dlvuhqUutNBR"
      },
      "source": [
        "Instruções para a atividade seguinte: Após concluir a execução das células anteriores, escolha alguma nova instância de TSP disponível\n",
        "[aqui](http://comopt.ifi.uni-heidelberg.de/software/TSPLIB95/tsp/), carregue o respectivo arquivo no ambiente Colab, apague os atuais arquivos [*.png] com o comando a seguir e execute as células na sequência, incluindo o nome do arquivo que você escolheu no local devido, o qual contém as coordenadas das cidades."
      ]
    },
    {
      "cell_type": "code",
      "execution_count": 8,
      "metadata": {
        "id": "4uNXaV1AtLUo"
      },
      "outputs": [],
      "source": [
        "!rm *.png"
      ]
    },
    {
      "cell_type": "code",
      "execution_count": 9,
      "metadata": {
        "id": "70ZQJWkFuqra"
      },
      "outputs": [
        {
          "name": "stdout",
          "output_type": "stream",
          "text": [
            "Problem with 194 cities read.\n",
            "Network of 1552 neurons created. Starting the iterations:\n",
            "\t> Iteration 2000/100000\r"
          ]
        },
        {
          "name": "stderr",
          "output_type": "stream",
          "text": [
            "/tmp/ipykernel_53326/1916241185.py:17: UserWarning: color is redundantly defined by the 'color' keyword argument and the fmt string \"r.\" (-> color='r'). The keyword argument will take precedence.\n",
            "  axis.plot(neurons[:,0], neurons[:,1], 'r.', ls='-', color='#0063ba', markersize=2)\n"
          ]
        },
        {
          "name": "stdout",
          "output_type": "stream",
          "text": [
            "\t> Iteration 4000/100000\r"
          ]
        },
        {
          "name": "stderr",
          "output_type": "stream",
          "text": [
            "/tmp/ipykernel_53326/1916241185.py:17: UserWarning: color is redundantly defined by the 'color' keyword argument and the fmt string \"r.\" (-> color='r'). The keyword argument will take precedence.\n",
            "  axis.plot(neurons[:,0], neurons[:,1], 'r.', ls='-', color='#0063ba', markersize=2)\n"
          ]
        },
        {
          "name": "stdout",
          "output_type": "stream",
          "text": [
            "\t> Iteration 6000/100000\r"
          ]
        },
        {
          "name": "stderr",
          "output_type": "stream",
          "text": [
            "/tmp/ipykernel_53326/1916241185.py:17: UserWarning: color is redundantly defined by the 'color' keyword argument and the fmt string \"r.\" (-> color='r'). The keyword argument will take precedence.\n",
            "  axis.plot(neurons[:,0], neurons[:,1], 'r.', ls='-', color='#0063ba', markersize=2)\n"
          ]
        },
        {
          "name": "stdout",
          "output_type": "stream",
          "text": [
            "\t> Iteration 8000/100000\r"
          ]
        },
        {
          "name": "stderr",
          "output_type": "stream",
          "text": [
            "/tmp/ipykernel_53326/1916241185.py:17: UserWarning: color is redundantly defined by the 'color' keyword argument and the fmt string \"r.\" (-> color='r'). The keyword argument will take precedence.\n",
            "  axis.plot(neurons[:,0], neurons[:,1], 'r.', ls='-', color='#0063ba', markersize=2)\n"
          ]
        },
        {
          "name": "stdout",
          "output_type": "stream",
          "text": [
            "\t> Iteration 10000/100000\r"
          ]
        },
        {
          "name": "stderr",
          "output_type": "stream",
          "text": [
            "/tmp/ipykernel_53326/1916241185.py:17: UserWarning: color is redundantly defined by the 'color' keyword argument and the fmt string \"r.\" (-> color='r'). The keyword argument will take precedence.\n",
            "  axis.plot(neurons[:,0], neurons[:,1], 'r.', ls='-', color='#0063ba', markersize=2)\n"
          ]
        },
        {
          "name": "stdout",
          "output_type": "stream",
          "text": [
            "\t> Iteration 12000/100000\r"
          ]
        },
        {
          "name": "stderr",
          "output_type": "stream",
          "text": [
            "/tmp/ipykernel_53326/1916241185.py:17: UserWarning: color is redundantly defined by the 'color' keyword argument and the fmt string \"r.\" (-> color='r'). The keyword argument will take precedence.\n",
            "  axis.plot(neurons[:,0], neurons[:,1], 'r.', ls='-', color='#0063ba', markersize=2)\n"
          ]
        },
        {
          "name": "stdout",
          "output_type": "stream",
          "text": [
            "\t> Iteration 14000/100000\r"
          ]
        },
        {
          "name": "stderr",
          "output_type": "stream",
          "text": [
            "/tmp/ipykernel_53326/1916241185.py:17: UserWarning: color is redundantly defined by the 'color' keyword argument and the fmt string \"r.\" (-> color='r'). The keyword argument will take precedence.\n",
            "  axis.plot(neurons[:,0], neurons[:,1], 'r.', ls='-', color='#0063ba', markersize=2)\n"
          ]
        },
        {
          "name": "stdout",
          "output_type": "stream",
          "text": [
            "\t> Iteration 16000/100000\r"
          ]
        },
        {
          "name": "stderr",
          "output_type": "stream",
          "text": [
            "/tmp/ipykernel_53326/1916241185.py:17: UserWarning: color is redundantly defined by the 'color' keyword argument and the fmt string \"r.\" (-> color='r'). The keyword argument will take precedence.\n",
            "  axis.plot(neurons[:,0], neurons[:,1], 'r.', ls='-', color='#0063ba', markersize=2)\n"
          ]
        },
        {
          "name": "stdout",
          "output_type": "stream",
          "text": [
            "\t> Iteration 18000/100000\r"
          ]
        },
        {
          "name": "stderr",
          "output_type": "stream",
          "text": [
            "/tmp/ipykernel_53326/1916241185.py:17: UserWarning: color is redundantly defined by the 'color' keyword argument and the fmt string \"r.\" (-> color='r'). The keyword argument will take precedence.\n",
            "  axis.plot(neurons[:,0], neurons[:,1], 'r.', ls='-', color='#0063ba', markersize=2)\n"
          ]
        },
        {
          "name": "stdout",
          "output_type": "stream",
          "text": [
            "\t> Iteration 20000/100000\r"
          ]
        },
        {
          "name": "stderr",
          "output_type": "stream",
          "text": [
            "/tmp/ipykernel_53326/1916241185.py:17: UserWarning: color is redundantly defined by the 'color' keyword argument and the fmt string \"r.\" (-> color='r'). The keyword argument will take precedence.\n",
            "  axis.plot(neurons[:,0], neurons[:,1], 'r.', ls='-', color='#0063ba', markersize=2)\n"
          ]
        },
        {
          "name": "stdout",
          "output_type": "stream",
          "text": [
            "\t> Iteration 22000/100000\r"
          ]
        },
        {
          "name": "stderr",
          "output_type": "stream",
          "text": [
            "/tmp/ipykernel_53326/1916241185.py:17: UserWarning: color is redundantly defined by the 'color' keyword argument and the fmt string \"r.\" (-> color='r'). The keyword argument will take precedence.\n",
            "  axis.plot(neurons[:,0], neurons[:,1], 'r.', ls='-', color='#0063ba', markersize=2)\n"
          ]
        },
        {
          "name": "stdout",
          "output_type": "stream",
          "text": [
            "\t> Iteration 24000/100000\r"
          ]
        },
        {
          "name": "stderr",
          "output_type": "stream",
          "text": [
            "/tmp/ipykernel_53326/1916241185.py:17: UserWarning: color is redundantly defined by the 'color' keyword argument and the fmt string \"r.\" (-> color='r'). The keyword argument will take precedence.\n",
            "  axis.plot(neurons[:,0], neurons[:,1], 'r.', ls='-', color='#0063ba', markersize=2)\n"
          ]
        },
        {
          "name": "stdout",
          "output_type": "stream",
          "text": [
            "Radius has completely decayed, finishing execution at 24487 iterations\n"
          ]
        },
        {
          "name": "stderr",
          "output_type": "stream",
          "text": [
            "/tmp/ipykernel_53326/1916241185.py:17: UserWarning: color is redundantly defined by the 'color' keyword argument and the fmt string \"r.\" (-> color='r'). The keyword argument will take precedence.\n",
            "  axis.plot(neurons[:,0], neurons[:,1], 'r.', ls='-', color='#0063ba', markersize=2)\n"
          ]
        },
        {
          "name": "stdout",
          "output_type": "stream",
          "text": [
            "Route found of length 9948.365027569696\n"
          ]
        }
      ],
      "source": [
        "# main2.py\n",
        "\n",
        "def main():\n",
        "\n",
        "    problem2 = read_tsp('qa194.tsp') # Please, insert here the new filename.\n",
        "\n",
        "    route2 = som(problem2, 100000)\n",
        "\n",
        "    problem2 = problem2.reindex(route2)\n",
        "\n",
        "    distance2 = route_distance(problem2)\n",
        "\n",
        "    print('Route found of length {}'.format(distance2))\n",
        "\n",
        "\n",
        "def som(problem, iterations, learning_rate=0.8):\n",
        "    \"\"\"Solve the TSP using a Self-Organizing Map.\"\"\"\n",
        "\n",
        "    # Obtain the normalized set of cities (w/ coord in [0,1])\n",
        "    cities = problem.copy()\n",
        "\n",
        "    cities[['x', 'y']] = normalize(cities[['x', 'y']])\n",
        "\n",
        "    # The population size is 8 times the number of cities\n",
        "    n = cities.shape[0] * 8\n",
        "\n",
        "    # Generate an adequate network of neurons:\n",
        "    network = generate_network(n)\n",
        "    print('Network of {} neurons created. Starting the iterations:'.format(n))\n",
        "\n",
        "    for i in range(iterations):\n",
        "        if not i % 100:\n",
        "            print('\\t> Iteration {}/{}'.format(i, iterations), end=\"\\r\")\n",
        "        # Choose a random city\n",
        "        city = cities.sample(1)[['x', 'y']].values\n",
        "        winner_idx = select_closest(network, city)\n",
        "        # Generate a filter that applies changes to the winner's gaussian\n",
        "        gaussian = get_neighborhood(winner_idx, n//10, network.shape[0])\n",
        "        # Update the network's weights (closer to the city)\n",
        "        network += gaussian[:,np.newaxis] * learning_rate * (city - network)\n",
        "        # Decay the variables\n",
        "        learning_rate = learning_rate * 0.99997\n",
        "        n = n * 0.9997\n",
        "\n",
        "        # Check for plotting interval\n",
        "        if not i % 2000:\n",
        "          if i > 0:\n",
        "            plot_network(cities, network, name='{:05d}.png'.format(i))\n",
        "\n",
        "        # Check if any parameter has completely decayed.\n",
        "        if n < 1:\n",
        "            print('Radius has completely decayed, finishing execution',\n",
        "            'at {} iterations'.format(i))\n",
        "            break\n",
        "        if learning_rate < 0.001:\n",
        "            print('Learning rate has completely decayed, finishing execution',\n",
        "            'at {} iterations'.format(i))\n",
        "            break\n",
        "    else:\n",
        "        print('Completed {} iterations.'.format(iterations))\n",
        "\n",
        "    plot_network(cities, network, name='final.png')\n",
        "\n",
        "    route = get_route(cities, network)\n",
        "    plot_route(cities, route, 'route.png')\n",
        "    return route\n",
        "\n",
        "if __name__ == '__main__':\n",
        "    main()"
      ]
    },
    {
      "cell_type": "code",
      "execution_count": 10,
      "metadata": {
        "id": "_5ImnmcxpY4F"
      },
      "outputs": [
        {
          "ename": "FileNotFoundError",
          "evalue": "[Errno 2] No such file or directory: '??????.tsp'",
          "output_type": "error",
          "traceback": [
            "\u001b[0;31m---------------------------------------------------------------------------\u001b[0m",
            "\u001b[0;31mFileNotFoundError\u001b[0m                         Traceback (most recent call last)",
            "Cell \u001b[0;32mIn[10], line 1\u001b[0m\n\u001b[0;32m----> 1\u001b[0m problem2 \u001b[38;5;241m=\u001b[39m \u001b[43mread_tsp\u001b[49m\u001b[43m(\u001b[49m\u001b[38;5;124;43m'\u001b[39;49m\u001b[38;5;124;43m??????.tsp\u001b[39;49m\u001b[38;5;124;43m'\u001b[39;49m\u001b[43m)\u001b[49m \u001b[38;5;66;03m# Please, insert here the new filename.\u001b[39;00m\n\u001b[1;32m      2\u001b[0m \u001b[38;5;28;01mwith\u001b[39;00m pd\u001b[38;5;241m.\u001b[39moption_context(\u001b[38;5;124m'\u001b[39m\u001b[38;5;124mdisplay.max_rows\u001b[39m\u001b[38;5;124m'\u001b[39m, \u001b[38;5;28;01mNone\u001b[39;00m,):\n\u001b[1;32m      3\u001b[0m     \u001b[38;5;28mprint\u001b[39m(problem2)\n",
            "Cell \u001b[0;32mIn[3], line 11\u001b[0m, in \u001b[0;36mread_tsp\u001b[0;34m(filename)\u001b[0m\n\u001b[1;32m      4\u001b[0m \u001b[38;5;28;01mdef\u001b[39;00m \u001b[38;5;21mread_tsp\u001b[39m(filename):\n\u001b[1;32m      5\u001b[0m \u001b[38;5;250m    \u001b[39m\u001b[38;5;124;03m\"\"\"\u001b[39;00m\n\u001b[1;32m      6\u001b[0m \u001b[38;5;124;03m    Read a file in .tsp format into a pandas DataFrame\u001b[39;00m\n\u001b[1;32m      7\u001b[0m \n\u001b[1;32m      8\u001b[0m \u001b[38;5;124;03m    The .tsp files can be found in the TSPLIB project. Currently, the library\u001b[39;00m\n\u001b[1;32m      9\u001b[0m \u001b[38;5;124;03m    only considers the possibility of a 2D map.\u001b[39;00m\n\u001b[1;32m     10\u001b[0m \u001b[38;5;124;03m    \"\"\"\u001b[39;00m\n\u001b[0;32m---> 11\u001b[0m     \u001b[38;5;28;01mwith\u001b[39;00m \u001b[38;5;28;43mopen\u001b[39;49m\u001b[43m(\u001b[49m\u001b[43mfilename\u001b[49m\u001b[43m)\u001b[49m \u001b[38;5;28;01mas\u001b[39;00m f:\n\u001b[1;32m     12\u001b[0m         node_coord_start \u001b[38;5;241m=\u001b[39m \u001b[38;5;28;01mNone\u001b[39;00m\n\u001b[1;32m     13\u001b[0m         dimension \u001b[38;5;241m=\u001b[39m \u001b[38;5;28;01mNone\u001b[39;00m\n",
            "File \u001b[0;32m~/anaconda3/envs/tf_gpu_python-3-10/lib/python3.10/site-packages/IPython/core/interactiveshell.py:324\u001b[0m, in \u001b[0;36m_modified_open\u001b[0;34m(file, *args, **kwargs)\u001b[0m\n\u001b[1;32m    317\u001b[0m \u001b[38;5;28;01mif\u001b[39;00m file \u001b[38;5;129;01min\u001b[39;00m {\u001b[38;5;241m0\u001b[39m, \u001b[38;5;241m1\u001b[39m, \u001b[38;5;241m2\u001b[39m}:\n\u001b[1;32m    318\u001b[0m     \u001b[38;5;28;01mraise\u001b[39;00m \u001b[38;5;167;01mValueError\u001b[39;00m(\n\u001b[1;32m    319\u001b[0m         \u001b[38;5;124mf\u001b[39m\u001b[38;5;124m\"\u001b[39m\u001b[38;5;124mIPython won\u001b[39m\u001b[38;5;124m'\u001b[39m\u001b[38;5;124mt let you open fd=\u001b[39m\u001b[38;5;132;01m{\u001b[39;00mfile\u001b[38;5;132;01m}\u001b[39;00m\u001b[38;5;124m by default \u001b[39m\u001b[38;5;124m\"\u001b[39m\n\u001b[1;32m    320\u001b[0m         \u001b[38;5;124m\"\u001b[39m\u001b[38;5;124mas it is likely to crash IPython. If you know what you are doing, \u001b[39m\u001b[38;5;124m\"\u001b[39m\n\u001b[1;32m    321\u001b[0m         \u001b[38;5;124m\"\u001b[39m\u001b[38;5;124myou can use builtins\u001b[39m\u001b[38;5;124m'\u001b[39m\u001b[38;5;124m open.\u001b[39m\u001b[38;5;124m\"\u001b[39m\n\u001b[1;32m    322\u001b[0m     )\n\u001b[0;32m--> 324\u001b[0m \u001b[38;5;28;01mreturn\u001b[39;00m \u001b[43mio_open\u001b[49m\u001b[43m(\u001b[49m\u001b[43mfile\u001b[49m\u001b[43m,\u001b[49m\u001b[43m \u001b[49m\u001b[38;5;241;43m*\u001b[39;49m\u001b[43margs\u001b[49m\u001b[43m,\u001b[49m\u001b[43m \u001b[49m\u001b[38;5;241;43m*\u001b[39;49m\u001b[38;5;241;43m*\u001b[39;49m\u001b[43mkwargs\u001b[49m\u001b[43m)\u001b[49m\n",
            "\u001b[0;31mFileNotFoundError\u001b[0m: [Errno 2] No such file or directory: '??????.tsp'"
          ]
        }
      ],
      "source": [
        "problem2 = read_tsp('??????.tsp') # Please, insert here the new filename.\n",
        "with pd.option_context('display.max_rows', None,):\n",
        "    print(problem2)"
      ]
    },
    {
      "cell_type": "code",
      "execution_count": null,
      "metadata": {
        "id": "_Z4AujBItzLJ"
      },
      "outputs": [],
      "source": [
        "# Code based on: https://stackoverflow.com/questions/41228209/making-gif-from-images-using-imageio-in-python\n",
        "import os\n",
        "import imageio\n",
        "\n",
        "png_dir = '.'\n",
        "images = []\n",
        "for file_name in sorted(os.listdir(png_dir)):\n",
        "    if file_name.endswith('.png'):\n",
        "        file_path = os.path.join(png_dir, file_name)\n",
        "        images.append(imageio.imread(file_path))\n",
        "\n",
        "# Make it pause at the end so that the viewers can ponder\n",
        "for _ in range(10):\n",
        "    images.append(imageio.imread(file_path))\n",
        "\n",
        "imageio.mimsave('movie2.gif', images)"
      ]
    },
    {
      "cell_type": "code",
      "execution_count": null,
      "metadata": {
        "id": "7oRi9_got4c5"
      },
      "outputs": [],
      "source": [
        "Image('movie2.gif', width=500, height=500)"
      ]
    }
  ],
  "metadata": {
    "colab": {
      "provenance": []
    },
    "kernelspec": {
      "display_name": "tf_gpu_python-3-10",
      "language": "python",
      "name": "tf_gpu_python-3-10"
    },
    "language_info": {
      "codemirror_mode": {
        "name": "ipython",
        "version": 3
      },
      "file_extension": ".py",
      "mimetype": "text/x-python",
      "name": "python",
      "nbconvert_exporter": "python",
      "pygments_lexer": "ipython3",
      "version": "3.10.13"
    }
  },
  "nbformat": 4,
  "nbformat_minor": 0
}

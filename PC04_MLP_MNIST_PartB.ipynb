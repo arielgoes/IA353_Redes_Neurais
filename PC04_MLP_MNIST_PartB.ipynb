{
  "cells": [
    {
      "cell_type": "markdown",
      "metadata": {
        "id": "xMsNyA3WPrER"
      },
      "source": [
        "# **Notebook PC#04 (Part B)**\n",
        "# MLP classifier for the MNIST database.\n",
        "#### Grid search for the hyperparameters. Code produced by previous students of IA353. Thank you for making PC#04 still more complete and informative.\n",
        "**Professor:** Fernando J. Von Zuben <br>\n",
        "**Aluno(a):** <br>\n",
        "**Aluno(a):**"
      ]
    },
    {
      "cell_type": "code",
      "execution_count": null,
      "metadata": {
        "id": "feKIgQlnaT7U"
      },
      "outputs": [],
      "source": [
        "import matplotlib.pyplot as plt\n",
        "from tqdm.notebook import tqdm\n",
        "import tensorflow as tf\n",
        "import pandas as pd\n",
        "import numpy as np\n",
        "import os\n",
        "import gc\n",
        "\n",
        "mnist = tf.keras.datasets.mnist\n",
        "\n",
        "(x_train, y_train),(x_test, y_test) = mnist.load_data()\n",
        "x_train, x_test = x_train / 255.0, x_test / 255.0"
      ]
    },
    {
      "cell_type": "code",
      "execution_count": null,
      "metadata": {
        "id": "MH_I88sRYMQR"
      },
      "outputs": [],
      "source": [
        "def model_and_evaluate(n_neurons = 512,\n",
        "                       n_layers  = 1,\n",
        "                       dropout   = 0.25,\n",
        "                       epochs    = 5,\n",
        "                       optimizer = 'adam',\n",
        "                       verbose   = 1):\n",
        "    gc.collect()\n",
        "    tf.keras.backend.clear_session()\n",
        "\n",
        "    model = tf.keras.models.Sequential([\n",
        "          tf.keras.layers.Flatten(),\n",
        "          tf.keras.layers.Dense(n_neurons,activation=tf.nn.relu),\n",
        "          tf.keras.layers.Dropout(dropout)])\n",
        "\n",
        "    if n_layers > 1:\n",
        "        for _ in range(n_layers-1):\n",
        "            model.add(tf.keras.layers.Dense(n_neurons,activation=tf.nn.relu))\n",
        "            model.add(tf.keras.layers.Dropout(dropout))\n",
        "\n",
        "    model.add(tf.keras.layers.Dense(10, activation=tf.nn.softmax))\n",
        "    model.compile(optimizer=optimizer,\n",
        "                  loss='sparse_categorical_crossentropy',\n",
        "                  metrics=['accuracy'])\n",
        "\n",
        "    model.fit(x_train, y_train, epochs=epochs, verbose=verbose)\n",
        "\n",
        "    loss, accuracy = model.evaluate(x_test, y_test,verbose=verbose)\n",
        "\n",
        "    if verbose:\n",
        "        model.summary()\n",
        "        # Evaluate the model on the test data using `evaluate`\n",
        "        print(\"Evaluate on test data\")\n",
        "        print(\"test loss, test acc:\", loss, accuracy)\n",
        "\n",
        "    train_result = dict(n_neurons = n_neurons,\n",
        "                        n_layers  = n_layers,\n",
        "                        optimizer = optimizer,\n",
        "                        dropout   = dropout,\n",
        "                        epochs    = epochs,\n",
        "                        loss      = loss,\n",
        "                        accuracy  = accuracy)\n",
        "    return loss, accuracy"
      ]
    },
    {
      "cell_type": "code",
      "execution_count": null,
      "metadata": {
        "id": "YdFzu9J-WgWO"
      },
      "outputs": [],
      "source": [
        "n_repetitions = 5\n",
        "DEFAULT = {\n",
        "    'n_neurons' : 512,\n",
        "    'n_layers'  : 1,\n",
        "    'dropout'   : 0.25,\n",
        "    'epochs'    : 5,\n",
        "    'optimizer' : 'adam'\n",
        "}\n",
        "\n",
        "df = pd.DataFrame(columns=['n_neurons', 'n_layers', 'dropout', 'epochs','optimizer'] + \\\n",
        "                          [f\"{metric} {iteration}\" for iteration in range(1, n_repetitions+1) for metric in ['loss', 'accuracy']])"
      ]
    },
    {
      "cell_type": "code",
      "execution_count": null,
      "metadata": {
        "id": "_gnl-yKziHBk"
      },
      "outputs": [],
      "source": [
        "args = DEFAULT.copy()\n",
        "row = list(args.values())\n",
        "for iter in tqdm(range(n_repetitions)):\n",
        "        loss, accuracy = model_and_evaluate(verbose=0)\n",
        "\n",
        "        row.append(loss)\n",
        "        row.append(accuracy)\n",
        "df.loc[0] = row"
      ]
    },
    {
      "cell_type": "code",
      "execution_count": null,
      "metadata": {
        "id": "xZ-lbPruWgWO"
      },
      "outputs": [],
      "source": [
        "for n_neurons in [1024, 2048, 4096]:\n",
        "    args = DEFAULT.copy()\n",
        "    args['n_neurons'] = n_neurons\n",
        "\n",
        "    row = list(args.values())\n",
        "\n",
        "    for iter in tqdm(range(n_repetitions)):\n",
        "        loss, accuracy = model_and_evaluate(n_neurons=n_neurons, verbose=0)\n",
        "\n",
        "        row.append(loss)\n",
        "        row.append(accuracy)\n",
        "\n",
        "    df.loc[f'n_neurons={n_neurons}'] = row\n"
      ]
    },
    {
      "cell_type": "code",
      "execution_count": null,
      "metadata": {
        "id": "42sb--VnWgWP"
      },
      "outputs": [],
      "source": [
        "for n_layers in [2, 3, 4]:\n",
        "    args = DEFAULT.copy()\n",
        "    args['n_layers'] = n_layers\n",
        "\n",
        "    row = list(args.values())\n",
        "\n",
        "    for iter in tqdm(range(n_repetitions)):\n",
        "        loss, accuracy = model_and_evaluate(n_layers=n_layers, verbose=0)\n",
        "\n",
        "        row.append(loss)\n",
        "        row.append(accuracy)\n",
        "\n",
        "    df.loc[f'n_layers={n_layers}'] = row"
      ]
    },
    {
      "cell_type": "code",
      "execution_count": null,
      "metadata": {
        "id": "-DPXsJa1WgWP"
      },
      "outputs": [],
      "source": [
        "for dropout in [0, 0.5]:\n",
        "    args = DEFAULT.copy()\n",
        "    args['dropout'] = dropout\n",
        "\n",
        "    row = list(args.values())\n",
        "\n",
        "    for iter in tqdm(range(n_repetitions)):\n",
        "        loss, accuracy = model_and_evaluate(dropout=dropout, verbose=0)\n",
        "\n",
        "        row.append(loss)\n",
        "        row.append(accuracy)\n",
        "\n",
        "    df.loc[f'dropout={dropout}'] = row"
      ]
    },
    {
      "cell_type": "code",
      "execution_count": null,
      "metadata": {
        "id": "g7sL1VTbWgWQ"
      },
      "outputs": [],
      "source": [
        "for optimizer in ['RMSprop', 'SGD']:\n",
        "    args = DEFAULT.copy()\n",
        "    args['optimizer'] = optimizer\n",
        "\n",
        "    row = list(args.values())\n",
        "\n",
        "    for iter in tqdm(range(n_repetitions)):\n",
        "        loss, accuracy = model_and_evaluate(optimizer=optimizer, verbose=0)\n",
        "\n",
        "        row.append(loss)\n",
        "        row.append(accuracy)\n",
        "\n",
        "    df.loc[f'optimizer={optimizer}'] = row"
      ]
    },
    {
      "cell_type": "code",
      "execution_count": null,
      "metadata": {
        "id": "UjqkU0jSWgWQ"
      },
      "outputs": [],
      "source": [
        "for epochs in [10, 20, 30]:\n",
        "    args = DEFAULT.copy()\n",
        "    args['epochs'] = epochs\n",
        "\n",
        "    row = list(args.values())\n",
        "\n",
        "    for iter in tqdm(range(n_repetitions)):\n",
        "        loss, accuracy = model_and_evaluate(epochs=epochs, verbose=0)\n",
        "\n",
        "        row.append(loss)\n",
        "        row.append(accuracy)\n",
        "\n",
        "    df.loc[f'epochs={epochs}'] = row"
      ]
    },
    {
      "cell_type": "code",
      "execution_count": null,
      "metadata": {
        "id": "fwjImmahSJV6",
        "scrolled": true
      },
      "outputs": [],
      "source": [
        "df.to_csv('mnist_PC04_MLP_analysis.csv',index=False)\n",
        "df.head()"
      ]
    },
    {
      "cell_type": "code",
      "execution_count": null,
      "metadata": {
        "id": "KEElqZwZfBYj"
      },
      "outputs": [],
      "source": [
        "df = pd.read_csv('mnist_PC04_MLP_analysis.csv')\n",
        "df.head()"
      ]
    },
    {
      "cell_type": "code",
      "execution_count": null,
      "metadata": {
        "id": "b1XF7sp6wfyF"
      },
      "outputs": [],
      "source": [
        "losses = np.zeros((n_repetitions, 4))\n",
        "accurs = np.zeros((n_repetitions, 4))\n",
        "\n",
        "for i, n_neurons in enumerate([512,1024,2048,4096]):\n",
        "    sample = df[(df['n_neurons'] == n_neurons) & (df['n_layers'] == 1) & (df['dropout'] == 0.25) & (df['optimizer'] == 'adam') & (df['epochs'] == 5)]\n",
        "    loss   = sample[[f'loss {i}' for i in range(1, n_repetitions+1)]].to_numpy()\n",
        "    accy   = sample[[f'accuracy {i}' for i in range(1, n_repetitions+1)]].to_numpy()\n",
        "\n",
        "    losses[:, i] = loss\n",
        "    accurs[:, i] = accy\n",
        "\n",
        "fig,ax=plt.subplots(2,1,figsize=(4,4),dpi=120,sharex=True)\n",
        "\n",
        "ax[0].boxplot(accurs, labels=[512,1024,2048,4096])\n",
        "ax[1].boxplot(losses, labels=[512,1024,2048,4096])\n",
        "\n",
        "ax[0].set_ylabel('Accuracy')\n",
        "ax[1].set_ylabel('Loss')\n",
        "ax[1].set_xlabel('Number of artificial neurons')\n",
        "fig.align_ylabels()\n",
        "plt.tight_layout()\n"
      ]
    },
    {
      "cell_type": "code",
      "execution_count": null,
      "metadata": {
        "id": "WJakFAknziv0"
      },
      "outputs": [],
      "source": [
        "losses = np.zeros((n_repetitions, 4))\n",
        "accurs = np.zeros((n_repetitions, 4))\n",
        "\n",
        "for i, n_layers in enumerate([1,2,3,4]):\n",
        "    sample = df[(df['n_neurons'] == 512) & (df['n_layers'] == n_layers)& (df['dropout'] == 0.25) & (df['optimizer'] == 'adam') & (df['epochs'] == 5)]\n",
        "    loss   = sample[[f'loss {i}' for i in  range(1, n_repetitions+1)]].to_numpy()\n",
        "    accy   = sample[[f'accuracy {i}' for i in  range(1, n_repetitions+1)]].to_numpy()\n",
        "\n",
        "    losses[:, i] = loss\n",
        "    accurs[:, i] = accy\n",
        "\n",
        "fig,ax=plt.subplots(2,1,figsize=(4,4),dpi=120,sharex=True)\n",
        "\n",
        "ax[0].boxplot(accurs, labels=[1,2,3,4])\n",
        "ax[1].boxplot(losses, labels=[1,2,3,4])\n",
        "\n",
        "ax[0].set_ylabel('Accuracy')\n",
        "ax[1].set_ylabel('Loss')\n",
        "ax[1].set_xlabel('Number of hidden layers')\n",
        "fig.align_ylabels()\n",
        "plt.tight_layout()"
      ]
    },
    {
      "cell_type": "code",
      "execution_count": null,
      "metadata": {
        "id": "LhGykygaz5dm"
      },
      "outputs": [],
      "source": [
        "losses = np.zeros((n_repetitions, 3))\n",
        "accurs = np.zeros((n_repetitions, 3))\n",
        "\n",
        "for i, dropout in enumerate([0, 0.25, 0.5]):\n",
        "    sample = df[(df['n_neurons'] == 512) & (df['n_layers'] == 1)& (df['dropout'] == dropout) & (df['optimizer'] == 'adam') & (df['epochs'] == 5)]\n",
        "    loss   = sample[[f'loss {i}' for i in  range(1, n_repetitions+1)]].to_numpy()\n",
        "    accy   = sample[[f'accuracy {i}' for i in  range(1, n_repetitions+1)]].to_numpy()\n",
        "\n",
        "    losses[:, i] = loss\n",
        "    accurs[:, i] = accy\n",
        "\n",
        "fig,ax=plt.subplots(2,1,figsize=(4,4),dpi=120,sharex=True)\n",
        "\n",
        "ax[0].boxplot(accurs, labels=[0,0.25,0.5])\n",
        "ax[1].boxplot(losses, labels=[0,0.25,0.5])\n",
        "\n",
        "ax[0].set_ylabel('Accuracy')\n",
        "ax[1].set_ylabel('Loss')\n",
        "ax[1].set_xlabel('Dropout')\n",
        "fig.align_ylabels()\n",
        "plt.tight_layout()"
      ]
    },
    {
      "cell_type": "code",
      "execution_count": null,
      "metadata": {
        "id": "4OKePqKW0UPU"
      },
      "outputs": [],
      "source": [
        "losses = np.zeros((n_repetitions, 3))\n",
        "accurs = np.zeros((n_repetitions, 3))\n",
        "\n",
        "for i, optimizer in enumerate(['adam','SGD','RMSprop']):\n",
        "    sample = df[(df['n_neurons'] == 512) & (df['n_layers'] == 1)& (df['dropout'] == 0.25) & (df['optimizer'] == optimizer) & (df['epochs'] == 5)]\n",
        "    loss   = sample[[f'loss {i}' for i in  range(1, n_repetitions+1)]].to_numpy()\n",
        "    accy   = sample[[f'accuracy {i}' for i in  range(1, n_repetitions+1)]].to_numpy()\n",
        "\n",
        "    losses[:, i] = loss\n",
        "    accurs[:, i] = accy\n",
        "\n",
        "fig,ax=plt.subplots(2,1,figsize=(4,4),dpi=120,sharex=True)\n",
        "\n",
        "ax[0].boxplot(accurs, labels=['adam','SGD','RMSprop'])\n",
        "ax[1].boxplot(losses, labels=['adam','SGD','RMSprop'])\n",
        "\n",
        "ax[0].set_ylabel('Accuracy')\n",
        "ax[1].set_ylabel('Loss')\n",
        "ax[1].set_xlabel('Optimizer')\n",
        "fig.align_ylabels()\n",
        "plt.tight_layout()"
      ]
    },
    {
      "cell_type": "code",
      "execution_count": null,
      "metadata": {
        "id": "H7k3KTdi1Iil"
      },
      "outputs": [],
      "source": [
        "losses = np.zeros((n_repetitions, 4))\n",
        "accurs = np.zeros((n_repetitions, 4))\n",
        "\n",
        "for i, epochs in enumerate([5,10,20,30]):\n",
        "    sample = df[(df['n_neurons'] == 512) & (df['n_layers'] == 1)& (df['dropout'] == 0.25) & (df['optimizer'] == 'adam') & (df['epochs'] == epochs)]\n",
        "    loss   = sample[[f'loss {i}' for i in  range(1, n_repetitions+1)]].to_numpy()\n",
        "    accy   = sample[[f'accuracy {i}' for i in  range(1, n_repetitions+1)]].to_numpy()\n",
        "\n",
        "    losses[:, i] = loss\n",
        "    accurs[:, i] = accy\n",
        "\n",
        "fig,ax=plt.subplots(2,1,figsize=(4,4),dpi=120,sharex=True)\n",
        "\n",
        "ax[0].boxplot(accurs, labels=[5,10,20,30])\n",
        "ax[1].boxplot(losses, labels=[5,10,20,30])\n",
        "\n",
        "ax[0].set_ylabel('Accuracy')\n",
        "ax[1].set_ylabel('Loss')\n",
        "ax[1].set_xlabel('Epochs')\n",
        "fig.align_ylabels()\n",
        "plt.tight_layout()"
      ]
    },
    {
      "cell_type": "code",
      "execution_count": null,
      "metadata": {
        "id": "W-NuUsLIfBYm"
      },
      "outputs": [],
      "source": [
        "# Please, replace the values obtained by the simplified grid search here and execute the code\n",
        "d = model_and_evaluate(n_neurons=???,\n",
        "                       n_layers=???,\n",
        "                       dropout=???,\n",
        "                       optimizer='???',\n",
        "                       epochs=???)"
      ]
    }
  ],
  "metadata": {
    "accelerator": "GPU",
    "colab": {
      "gpuType": "T4",
      "provenance": []
    },
    "gpuClass": "standard",
    "kernelspec": {
      "display_name": "Python 3",
      "language": "python",
      "name": "python3"
    },
    "language_info": {
      "codemirror_mode": {
        "name": "ipython",
        "version": 3
      },
      "file_extension": ".py",
      "mimetype": "text/x-python",
      "name": "python",
      "nbconvert_exporter": "python",
      "pygments_lexer": "ipython3",
      "version": "3.8.10 (default, Mar 13 2023, 10:26:41) \n[GCC 9.4.0]"
    },
    "vscode": {
      "interpreter": {
        "hash": "916dbcbb3f70747c44a77c7bcd40155683ae19c65e1c03b4aa3499c5328201f1"
      }
    }
  },
  "nbformat": 4,
  "nbformat_minor": 0
}
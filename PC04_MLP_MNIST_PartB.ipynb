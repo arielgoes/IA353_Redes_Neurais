{
  "cells": [
    {
      "cell_type": "markdown",
      "metadata": {
        "id": "xMsNyA3WPrER"
      },
      "source": [
        "# **Notebook PC#04 (Part B)**\n",
        "# MLP classifier for the MNIST database.\n",
        "#### Grid search for the hyperparameters. Code produced by previous students of IA353. Thank you for making PC#04 still more complete and informative.\n",
        "**Professor:** Fernando J. Von Zuben <br>\n",
        "**Aluno(a):** Ariel Góes de Castro <br>\n",
        "**Aluno(a):** Francisco Germano Vogt <br>"
      ]
    },
    {
      "cell_type": "code",
      "execution_count": 1,
      "metadata": {
        "id": "feKIgQlnaT7U"
      },
      "outputs": [
        {
          "name": "stderr",
          "output_type": "stream",
          "text": [
            "2024-04-10 13:54:25.754761: I tensorflow/core/util/port.cc:113] oneDNN custom operations are on. You may see slightly different numerical results due to floating-point round-off errors from different computation orders. To turn them off, set the environment variable `TF_ENABLE_ONEDNN_OPTS=0`.\n",
            "2024-04-10 13:54:25.802583: E external/local_xla/xla/stream_executor/cuda/cuda_dnn.cc:9261] Unable to register cuDNN factory: Attempting to register factory for plugin cuDNN when one has already been registered\n",
            "2024-04-10 13:54:25.802625: E external/local_xla/xla/stream_executor/cuda/cuda_fft.cc:607] Unable to register cuFFT factory: Attempting to register factory for plugin cuFFT when one has already been registered\n",
            "2024-04-10 13:54:25.803827: E external/local_xla/xla/stream_executor/cuda/cuda_blas.cc:1515] Unable to register cuBLAS factory: Attempting to register factory for plugin cuBLAS when one has already been registered\n",
            "2024-04-10 13:54:25.811704: I tensorflow/core/platform/cpu_feature_guard.cc:182] This TensorFlow binary is optimized to use available CPU instructions in performance-critical operations.\n",
            "To enable the following instructions: AVX2 AVX_VNNI FMA, in other operations, rebuild TensorFlow with the appropriate compiler flags.\n",
            "2024-04-10 13:54:26.752805: W tensorflow/compiler/tf2tensorrt/utils/py_utils.cc:38] TF-TRT Warning: Could not find TensorRT\n"
          ]
        }
      ],
      "source": [
        "import matplotlib.pyplot as plt\n",
        "from tqdm.notebook import tqdm\n",
        "import tensorflow as tf\n",
        "import pandas as pd\n",
        "import numpy as np\n",
        "import os\n",
        "import gc\n",
        "\n",
        "mnist = tf.keras.datasets.mnist\n",
        "\n",
        "(x_train, y_train),(x_test, y_test) = mnist.load_data()\n",
        "x_train, x_test = x_train / 255.0, x_test / 255.0"
      ]
    },
    {
      "cell_type": "code",
      "execution_count": 2,
      "metadata": {
        "id": "MH_I88sRYMQR"
      },
      "outputs": [],
      "source": [
        "def model_and_evaluate(n_neurons = 512,\n",
        "                       n_layers  = 1,\n",
        "                       dropout   = 0.25,\n",
        "                       epochs    = 5,\n",
        "                       optimizer = 'adam',\n",
        "                       verbose   = 1):\n",
        "    gc.collect()\n",
        "    tf.keras.backend.clear_session()\n",
        "\n",
        "    model = tf.keras.models.Sequential([\n",
        "          tf.keras.layers.Flatten(),\n",
        "          tf.keras.layers.Dense(n_neurons,activation=tf.nn.relu),\n",
        "          tf.keras.layers.Dropout(dropout)])\n",
        "\n",
        "    if n_layers > 1:\n",
        "        for _ in range(n_layers-1):\n",
        "            model.add(tf.keras.layers.Dense(n_neurons,activation=tf.nn.relu))\n",
        "            model.add(tf.keras.layers.Dropout(dropout))\n",
        "\n",
        "    model.add(tf.keras.layers.Dense(10, activation=tf.nn.softmax))\n",
        "    model.compile(optimizer=optimizer,\n",
        "                  loss='sparse_categorical_crossentropy',\n",
        "                  metrics=['accuracy'])\n",
        "\n",
        "    model.fit(x_train, y_train, epochs=epochs, verbose=verbose)\n",
        "\n",
        "    loss, accuracy = model.evaluate(x_test, y_test,verbose=verbose)\n",
        "\n",
        "    if verbose:\n",
        "        model.summary()\n",
        "        # Evaluate the model on the test data using `evaluate`\n",
        "        print(\"Evaluate on test data\")\n",
        "        print(\"test loss, test acc:\", loss, accuracy)\n",
        "\n",
        "    train_result = dict(n_neurons = n_neurons,\n",
        "                        n_layers  = n_layers,\n",
        "                        optimizer = optimizer,\n",
        "                        dropout   = dropout,\n",
        "                        epochs    = epochs,\n",
        "                        loss      = loss,\n",
        "                        accuracy  = accuracy)\n",
        "    return loss, accuracy"
      ]
    },
    {
      "cell_type": "code",
      "execution_count": 3,
      "metadata": {
        "id": "YdFzu9J-WgWO"
      },
      "outputs": [],
      "source": [
        "n_repetitions = 5\n",
        "DEFAULT = {\n",
        "    'n_neurons' : 512,\n",
        "    'n_layers'  : 1,\n",
        "    'dropout'   : 0.25,\n",
        "    'epochs'    : 5,\n",
        "    'optimizer' : 'adam'\n",
        "}\n",
        "\n",
        "df = pd.DataFrame(columns=['n_neurons', 'n_layers', 'dropout', 'epochs','optimizer'] + \\\n",
        "                          [f\"{metric} {iteration}\" for iteration in range(1, n_repetitions+1) for metric in ['loss', 'accuracy']])"
      ]
    },
    {
      "cell_type": "code",
      "execution_count": 4,
      "metadata": {
        "id": "_gnl-yKziHBk"
      },
      "outputs": [
        {
          "data": {
            "application/vnd.jupyter.widget-view+json": {
              "model_id": "d17d951982b149ccb99b086724551557",
              "version_major": 2,
              "version_minor": 0
            },
            "text/plain": [
              "  0%|          | 0/5 [00:00<?, ?it/s]"
            ]
          },
          "metadata": {},
          "output_type": "display_data"
        },
        {
          "name": "stderr",
          "output_type": "stream",
          "text": [
            "2024-04-10 13:54:28.408359: I external/local_xla/xla/stream_executor/cuda/cuda_executor.cc:901] successful NUMA node read from SysFS had negative value (-1), but there must be at least one NUMA node, so returning NUMA node zero. See more at https://github.com/torvalds/linux/blob/v6.0/Documentation/ABI/testing/sysfs-bus-pci#L344-L355\n",
            "2024-04-10 13:54:28.447012: I external/local_xla/xla/stream_executor/cuda/cuda_executor.cc:901] successful NUMA node read from SysFS had negative value (-1), but there must be at least one NUMA node, so returning NUMA node zero. See more at https://github.com/torvalds/linux/blob/v6.0/Documentation/ABI/testing/sysfs-bus-pci#L344-L355\n",
            "2024-04-10 13:54:28.447223: I external/local_xla/xla/stream_executor/cuda/cuda_executor.cc:901] successful NUMA node read from SysFS had negative value (-1), but there must be at least one NUMA node, so returning NUMA node zero. See more at https://github.com/torvalds/linux/blob/v6.0/Documentation/ABI/testing/sysfs-bus-pci#L344-L355\n",
            "2024-04-10 13:54:28.449925: I external/local_xla/xla/stream_executor/cuda/cuda_executor.cc:901] successful NUMA node read from SysFS had negative value (-1), but there must be at least one NUMA node, so returning NUMA node zero. See more at https://github.com/torvalds/linux/blob/v6.0/Documentation/ABI/testing/sysfs-bus-pci#L344-L355\n",
            "2024-04-10 13:54:28.450127: I external/local_xla/xla/stream_executor/cuda/cuda_executor.cc:901] successful NUMA node read from SysFS had negative value (-1), but there must be at least one NUMA node, so returning NUMA node zero. See more at https://github.com/torvalds/linux/blob/v6.0/Documentation/ABI/testing/sysfs-bus-pci#L344-L355\n",
            "2024-04-10 13:54:28.450255: I external/local_xla/xla/stream_executor/cuda/cuda_executor.cc:901] successful NUMA node read from SysFS had negative value (-1), but there must be at least one NUMA node, so returning NUMA node zero. See more at https://github.com/torvalds/linux/blob/v6.0/Documentation/ABI/testing/sysfs-bus-pci#L344-L355\n",
            "2024-04-10 13:54:28.533644: I external/local_xla/xla/stream_executor/cuda/cuda_executor.cc:901] successful NUMA node read from SysFS had negative value (-1), but there must be at least one NUMA node, so returning NUMA node zero. See more at https://github.com/torvalds/linux/blob/v6.0/Documentation/ABI/testing/sysfs-bus-pci#L344-L355\n",
            "2024-04-10 13:54:28.533841: I external/local_xla/xla/stream_executor/cuda/cuda_executor.cc:901] successful NUMA node read from SysFS had negative value (-1), but there must be at least one NUMA node, so returning NUMA node zero. See more at https://github.com/torvalds/linux/blob/v6.0/Documentation/ABI/testing/sysfs-bus-pci#L344-L355\n",
            "2024-04-10 13:54:28.533985: I external/local_xla/xla/stream_executor/cuda/cuda_executor.cc:901] successful NUMA node read from SysFS had negative value (-1), but there must be at least one NUMA node, so returning NUMA node zero. See more at https://github.com/torvalds/linux/blob/v6.0/Documentation/ABI/testing/sysfs-bus-pci#L344-L355\n",
            "2024-04-10 13:54:28.534093: I tensorflow/core/common_runtime/gpu/gpu_device.cc:1929] Created device /job:localhost/replica:0/task:0/device:GPU:0 with 2315 MB memory:  -> device: 0, name: NVIDIA GeForce GTX 1650, pci bus id: 0000:01:00.0, compute capability: 7.5\n",
            "2024-04-10 13:54:29.583310: I external/local_tsl/tsl/platform/default/subprocess.cc:304] Start cannot spawn child process: No such file or directory\n",
            "2024-04-10 13:54:30.392484: I external/local_xla/xla/service/service.cc:168] XLA service 0x7f32fd8e2da0 initialized for platform CUDA (this does not guarantee that XLA will be used). Devices:\n",
            "2024-04-10 13:54:30.392530: I external/local_xla/xla/service/service.cc:176]   StreamExecutor device (0): NVIDIA GeForce GTX 1650, Compute Capability 7.5\n",
            "2024-04-10 13:54:30.399270: I tensorflow/compiler/mlir/tensorflow/utils/dump_mlir_util.cc:269] disabling MLIR crash reproducer, set env var `MLIR_CRASH_REPRODUCER_DIRECTORY` to enable.\n",
            "2024-04-10 13:54:30.419227: I external/local_xla/xla/stream_executor/cuda/cuda_dnn.cc:454] Loaded cuDNN version 8904\n",
            "WARNING: All log messages before absl::InitializeLog() is called are written to STDERR\n",
            "I0000 00:00:1712768070.532886   10131 device_compiler.h:186] Compiled cluster using XLA!  This line is logged at most once for the lifetime of the process.\n"
          ]
        }
      ],
      "source": [
        "args = DEFAULT.copy()\n",
        "row = list(args.values())\n",
        "for iter in tqdm(range(n_repetitions)):\n",
        "        loss, accuracy = model_and_evaluate(verbose=0)\n",
        "\n",
        "        row.append(loss)\n",
        "        row.append(accuracy)\n",
        "df.loc[0] = row"
      ]
    },
    {
      "cell_type": "code",
      "execution_count": 5,
      "metadata": {
        "id": "xZ-lbPruWgWO"
      },
      "outputs": [
        {
          "data": {
            "application/vnd.jupyter.widget-view+json": {
              "model_id": "16875d992a904cecb663c8b75c175806",
              "version_major": 2,
              "version_minor": 0
            },
            "text/plain": [
              "  0%|          | 0/5 [00:00<?, ?it/s]"
            ]
          },
          "metadata": {},
          "output_type": "display_data"
        },
        {
          "data": {
            "application/vnd.jupyter.widget-view+json": {
              "model_id": "2408cf404c5744048a8c60ded8b9aa54",
              "version_major": 2,
              "version_minor": 0
            },
            "text/plain": [
              "  0%|          | 0/5 [00:00<?, ?it/s]"
            ]
          },
          "metadata": {},
          "output_type": "display_data"
        },
        {
          "data": {
            "application/vnd.jupyter.widget-view+json": {
              "model_id": "b1dbebd46e8b42399bf040c1ca006e2f",
              "version_major": 2,
              "version_minor": 0
            },
            "text/plain": [
              "  0%|          | 0/5 [00:00<?, ?it/s]"
            ]
          },
          "metadata": {},
          "output_type": "display_data"
        }
      ],
      "source": [
        "for n_neurons in [1024, 2048, 4096]:\n",
        "    args = DEFAULT.copy()\n",
        "    args['n_neurons'] = n_neurons\n",
        "\n",
        "    row = list(args.values())\n",
        "\n",
        "    for iter in tqdm(range(n_repetitions)):\n",
        "        loss, accuracy = model_and_evaluate(n_neurons=n_neurons, verbose=0)\n",
        "\n",
        "        row.append(loss)\n",
        "        row.append(accuracy)\n",
        "\n",
        "    df.loc[f'n_neurons={n_neurons}'] = row\n"
      ]
    },
    {
      "cell_type": "code",
      "execution_count": 6,
      "metadata": {
        "id": "42sb--VnWgWP"
      },
      "outputs": [
        {
          "data": {
            "application/vnd.jupyter.widget-view+json": {
              "model_id": "d5fe68e2491741cab382f0b86f8884b7",
              "version_major": 2,
              "version_minor": 0
            },
            "text/plain": [
              "  0%|          | 0/5 [00:00<?, ?it/s]"
            ]
          },
          "metadata": {},
          "output_type": "display_data"
        },
        {
          "data": {
            "application/vnd.jupyter.widget-view+json": {
              "model_id": "110fce31713e4bc2ac37a834db192550",
              "version_major": 2,
              "version_minor": 0
            },
            "text/plain": [
              "  0%|          | 0/5 [00:00<?, ?it/s]"
            ]
          },
          "metadata": {},
          "output_type": "display_data"
        },
        {
          "data": {
            "application/vnd.jupyter.widget-view+json": {
              "model_id": "7f42092111644fc0aa583c3c796d0853",
              "version_major": 2,
              "version_minor": 0
            },
            "text/plain": [
              "  0%|          | 0/5 [00:00<?, ?it/s]"
            ]
          },
          "metadata": {},
          "output_type": "display_data"
        }
      ],
      "source": [
        "for n_layers in [2, 3, 4]:\n",
        "    args = DEFAULT.copy()\n",
        "    args['n_layers'] = n_layers\n",
        "\n",
        "    row = list(args.values())\n",
        "\n",
        "    for iter in tqdm(range(n_repetitions)):\n",
        "        loss, accuracy = model_and_evaluate(n_layers=n_layers, verbose=0)\n",
        "\n",
        "        row.append(loss)\n",
        "        row.append(accuracy)\n",
        "\n",
        "    df.loc[f'n_layers={n_layers}'] = row"
      ]
    },
    {
      "cell_type": "code",
      "execution_count": 7,
      "metadata": {
        "id": "-DPXsJa1WgWP"
      },
      "outputs": [
        {
          "data": {
            "application/vnd.jupyter.widget-view+json": {
              "model_id": "f4ea8dca02d64b90a3268fb4a7b09641",
              "version_major": 2,
              "version_minor": 0
            },
            "text/plain": [
              "  0%|          | 0/5 [00:00<?, ?it/s]"
            ]
          },
          "metadata": {},
          "output_type": "display_data"
        },
        {
          "data": {
            "application/vnd.jupyter.widget-view+json": {
              "model_id": "0ae253088f344292880fd3a68fa78e8c",
              "version_major": 2,
              "version_minor": 0
            },
            "text/plain": [
              "  0%|          | 0/5 [00:00<?, ?it/s]"
            ]
          },
          "metadata": {},
          "output_type": "display_data"
        }
      ],
      "source": [
        "for dropout in [0, 0.5]:\n",
        "    args = DEFAULT.copy()\n",
        "    args['dropout'] = dropout\n",
        "\n",
        "    row = list(args.values())\n",
        "\n",
        "    for iter in tqdm(range(n_repetitions)):\n",
        "        loss, accuracy = model_and_evaluate(dropout=dropout, verbose=0)\n",
        "\n",
        "        row.append(loss)\n",
        "        row.append(accuracy)\n",
        "\n",
        "    df.loc[f'dropout={dropout}'] = row"
      ]
    },
    {
      "cell_type": "code",
      "execution_count": 8,
      "metadata": {
        "id": "g7sL1VTbWgWQ"
      },
      "outputs": [
        {
          "data": {
            "application/vnd.jupyter.widget-view+json": {
              "model_id": "ef9267b0af154ca1a6f735a950084d40",
              "version_major": 2,
              "version_minor": 0
            },
            "text/plain": [
              "  0%|          | 0/5 [00:00<?, ?it/s]"
            ]
          },
          "metadata": {},
          "output_type": "display_data"
        },
        {
          "data": {
            "application/vnd.jupyter.widget-view+json": {
              "model_id": "b068b83c8a4544518c491f7eeffc72ba",
              "version_major": 2,
              "version_minor": 0
            },
            "text/plain": [
              "  0%|          | 0/5 [00:00<?, ?it/s]"
            ]
          },
          "metadata": {},
          "output_type": "display_data"
        }
      ],
      "source": [
        "for optimizer in ['RMSprop', 'SGD']:\n",
        "    args = DEFAULT.copy()\n",
        "    args['optimizer'] = optimizer\n",
        "\n",
        "    row = list(args.values())\n",
        "\n",
        "    for iter in tqdm(range(n_repetitions)):\n",
        "        loss, accuracy = model_and_evaluate(optimizer=optimizer, verbose=0)\n",
        "\n",
        "        row.append(loss)\n",
        "        row.append(accuracy)\n",
        "\n",
        "    df.loc[f'optimizer={optimizer}'] = row"
      ]
    },
    {
      "cell_type": "code",
      "execution_count": 9,
      "metadata": {
        "id": "UjqkU0jSWgWQ"
      },
      "outputs": [
        {
          "data": {
            "application/vnd.jupyter.widget-view+json": {
              "model_id": "488ec123bb4443caa41f608f8c75b034",
              "version_major": 2,
              "version_minor": 0
            },
            "text/plain": [
              "  0%|          | 0/5 [00:00<?, ?it/s]"
            ]
          },
          "metadata": {},
          "output_type": "display_data"
        },
        {
          "data": {
            "application/vnd.jupyter.widget-view+json": {
              "model_id": "0406e9268d114306a8c8be26429ef403",
              "version_major": 2,
              "version_minor": 0
            },
            "text/plain": [
              "  0%|          | 0/5 [00:00<?, ?it/s]"
            ]
          },
          "metadata": {},
          "output_type": "display_data"
        },
        {
          "data": {
            "application/vnd.jupyter.widget-view+json": {
              "model_id": "6a1d093cfbed4a37813892f0ef7fef61",
              "version_major": 2,
              "version_minor": 0
            },
            "text/plain": [
              "  0%|          | 0/5 [00:00<?, ?it/s]"
            ]
          },
          "metadata": {},
          "output_type": "display_data"
        }
      ],
      "source": [
        "for epochs in [10, 20, 30]:\n",
        "    args = DEFAULT.copy()\n",
        "    args['epochs'] = epochs\n",
        "\n",
        "    row = list(args.values())\n",
        "\n",
        "    for iter in tqdm(range(n_repetitions)):\n",
        "        loss, accuracy = model_and_evaluate(epochs=epochs, verbose=0)\n",
        "\n",
        "        row.append(loss)\n",
        "        row.append(accuracy)\n",
        "\n",
        "    df.loc[f'epochs={epochs}'] = row"
      ]
    },
    {
      "cell_type": "code",
      "execution_count": 23,
      "metadata": {
        "id": "fwjImmahSJV6",
        "scrolled": true
      },
      "outputs": [],
      "source": [
        "df.to_csv('mnist_PC04_MLP_analysis.csv',index=False)\n",
        "#df.head()\n",
        "#df"
      ]
    },
    {
      "cell_type": "code",
      "execution_count": 19,
      "metadata": {
        "id": "KEElqZwZfBYj"
      },
      "outputs": [
        {
          "data": {
            "text/html": [
              "<div>\n",
              "<style scoped>\n",
              "    .dataframe tbody tr th:only-of-type {\n",
              "        vertical-align: middle;\n",
              "    }\n",
              "\n",
              "    .dataframe tbody tr th {\n",
              "        vertical-align: top;\n",
              "    }\n",
              "\n",
              "    .dataframe thead th {\n",
              "        text-align: right;\n",
              "    }\n",
              "</style>\n",
              "<table border=\"1\" class=\"dataframe\">\n",
              "  <thead>\n",
              "    <tr style=\"text-align: right;\">\n",
              "      <th></th>\n",
              "      <th>n_neurons</th>\n",
              "      <th>n_layers</th>\n",
              "      <th>dropout</th>\n",
              "      <th>epochs</th>\n",
              "      <th>optimizer</th>\n",
              "      <th>loss 1</th>\n",
              "      <th>accuracy 1</th>\n",
              "      <th>loss 2</th>\n",
              "      <th>accuracy 2</th>\n",
              "      <th>loss 3</th>\n",
              "      <th>accuracy 3</th>\n",
              "      <th>loss 4</th>\n",
              "      <th>accuracy 4</th>\n",
              "      <th>loss 5</th>\n",
              "      <th>accuracy 5</th>\n",
              "    </tr>\n",
              "  </thead>\n",
              "  <tbody>\n",
              "    <tr>\n",
              "      <th>0</th>\n",
              "      <td>512</td>\n",
              "      <td>1</td>\n",
              "      <td>0.25</td>\n",
              "      <td>5</td>\n",
              "      <td>adam</td>\n",
              "      <td>0.063584</td>\n",
              "      <td>0.9800</td>\n",
              "      <td>0.065366</td>\n",
              "      <td>0.9799</td>\n",
              "      <td>0.060666</td>\n",
              "      <td>0.9810</td>\n",
              "      <td>0.075447</td>\n",
              "      <td>0.9782</td>\n",
              "      <td>0.060783</td>\n",
              "      <td>0.9810</td>\n",
              "    </tr>\n",
              "    <tr>\n",
              "      <th>1</th>\n",
              "      <td>1024</td>\n",
              "      <td>1</td>\n",
              "      <td>0.25</td>\n",
              "      <td>5</td>\n",
              "      <td>adam</td>\n",
              "      <td>0.064024</td>\n",
              "      <td>0.9798</td>\n",
              "      <td>0.069597</td>\n",
              "      <td>0.9798</td>\n",
              "      <td>0.069296</td>\n",
              "      <td>0.9808</td>\n",
              "      <td>0.072827</td>\n",
              "      <td>0.9786</td>\n",
              "      <td>0.075089</td>\n",
              "      <td>0.9780</td>\n",
              "    </tr>\n",
              "    <tr>\n",
              "      <th>2</th>\n",
              "      <td>2048</td>\n",
              "      <td>1</td>\n",
              "      <td>0.25</td>\n",
              "      <td>5</td>\n",
              "      <td>adam</td>\n",
              "      <td>0.076037</td>\n",
              "      <td>0.9776</td>\n",
              "      <td>0.095803</td>\n",
              "      <td>0.9768</td>\n",
              "      <td>0.081909</td>\n",
              "      <td>0.9763</td>\n",
              "      <td>0.067331</td>\n",
              "      <td>0.9807</td>\n",
              "      <td>0.077522</td>\n",
              "      <td>0.9791</td>\n",
              "    </tr>\n",
              "    <tr>\n",
              "      <th>3</th>\n",
              "      <td>4096</td>\n",
              "      <td>1</td>\n",
              "      <td>0.25</td>\n",
              "      <td>5</td>\n",
              "      <td>adam</td>\n",
              "      <td>0.076889</td>\n",
              "      <td>0.9812</td>\n",
              "      <td>0.101023</td>\n",
              "      <td>0.9740</td>\n",
              "      <td>0.083719</td>\n",
              "      <td>0.9772</td>\n",
              "      <td>0.066843</td>\n",
              "      <td>0.9829</td>\n",
              "      <td>0.094265</td>\n",
              "      <td>0.9744</td>\n",
              "    </tr>\n",
              "    <tr>\n",
              "      <th>4</th>\n",
              "      <td>512</td>\n",
              "      <td>2</td>\n",
              "      <td>0.25</td>\n",
              "      <td>5</td>\n",
              "      <td>adam</td>\n",
              "      <td>0.069791</td>\n",
              "      <td>0.9791</td>\n",
              "      <td>0.077362</td>\n",
              "      <td>0.9773</td>\n",
              "      <td>0.072583</td>\n",
              "      <td>0.9801</td>\n",
              "      <td>0.069737</td>\n",
              "      <td>0.9813</td>\n",
              "      <td>0.079043</td>\n",
              "      <td>0.9768</td>\n",
              "    </tr>\n",
              "    <tr>\n",
              "      <th>5</th>\n",
              "      <td>512</td>\n",
              "      <td>3</td>\n",
              "      <td>0.25</td>\n",
              "      <td>5</td>\n",
              "      <td>adam</td>\n",
              "      <td>0.083548</td>\n",
              "      <td>0.9770</td>\n",
              "      <td>0.081891</td>\n",
              "      <td>0.9777</td>\n",
              "      <td>0.084201</td>\n",
              "      <td>0.9778</td>\n",
              "      <td>0.087515</td>\n",
              "      <td>0.9767</td>\n",
              "      <td>0.066853</td>\n",
              "      <td>0.9815</td>\n",
              "    </tr>\n",
              "    <tr>\n",
              "      <th>6</th>\n",
              "      <td>512</td>\n",
              "      <td>4</td>\n",
              "      <td>0.25</td>\n",
              "      <td>5</td>\n",
              "      <td>adam</td>\n",
              "      <td>0.096859</td>\n",
              "      <td>0.9770</td>\n",
              "      <td>0.087405</td>\n",
              "      <td>0.9758</td>\n",
              "      <td>0.085669</td>\n",
              "      <td>0.9789</td>\n",
              "      <td>0.093471</td>\n",
              "      <td>0.9769</td>\n",
              "      <td>0.091648</td>\n",
              "      <td>0.9767</td>\n",
              "    </tr>\n",
              "    <tr>\n",
              "      <th>7</th>\n",
              "      <td>512</td>\n",
              "      <td>1</td>\n",
              "      <td>0.00</td>\n",
              "      <td>5</td>\n",
              "      <td>adam</td>\n",
              "      <td>0.072746</td>\n",
              "      <td>0.9792</td>\n",
              "      <td>0.084236</td>\n",
              "      <td>0.9768</td>\n",
              "      <td>0.078817</td>\n",
              "      <td>0.9763</td>\n",
              "      <td>0.063773</td>\n",
              "      <td>0.9804</td>\n",
              "      <td>0.070601</td>\n",
              "      <td>0.9785</td>\n",
              "    </tr>\n",
              "    <tr>\n",
              "      <th>8</th>\n",
              "      <td>512</td>\n",
              "      <td>1</td>\n",
              "      <td>0.50</td>\n",
              "      <td>5</td>\n",
              "      <td>adam</td>\n",
              "      <td>0.069985</td>\n",
              "      <td>0.9788</td>\n",
              "      <td>0.068193</td>\n",
              "      <td>0.9782</td>\n",
              "      <td>0.069156</td>\n",
              "      <td>0.9794</td>\n",
              "      <td>0.070422</td>\n",
              "      <td>0.9770</td>\n",
              "      <td>0.066050</td>\n",
              "      <td>0.9809</td>\n",
              "    </tr>\n",
              "    <tr>\n",
              "      <th>9</th>\n",
              "      <td>512</td>\n",
              "      <td>1</td>\n",
              "      <td>0.25</td>\n",
              "      <td>5</td>\n",
              "      <td>RMSprop</td>\n",
              "      <td>0.079694</td>\n",
              "      <td>0.9780</td>\n",
              "      <td>0.072654</td>\n",
              "      <td>0.9805</td>\n",
              "      <td>0.069790</td>\n",
              "      <td>0.9812</td>\n",
              "      <td>0.082971</td>\n",
              "      <td>0.9764</td>\n",
              "      <td>0.073966</td>\n",
              "      <td>0.9802</td>\n",
              "    </tr>\n",
              "    <tr>\n",
              "      <th>10</th>\n",
              "      <td>512</td>\n",
              "      <td>1</td>\n",
              "      <td>0.25</td>\n",
              "      <td>5</td>\n",
              "      <td>SGD</td>\n",
              "      <td>0.201151</td>\n",
              "      <td>0.9448</td>\n",
              "      <td>0.199718</td>\n",
              "      <td>0.9433</td>\n",
              "      <td>0.201779</td>\n",
              "      <td>0.9444</td>\n",
              "      <td>0.201706</td>\n",
              "      <td>0.9443</td>\n",
              "      <td>0.198433</td>\n",
              "      <td>0.9429</td>\n",
              "    </tr>\n",
              "    <tr>\n",
              "      <th>11</th>\n",
              "      <td>512</td>\n",
              "      <td>1</td>\n",
              "      <td>0.25</td>\n",
              "      <td>10</td>\n",
              "      <td>adam</td>\n",
              "      <td>0.067466</td>\n",
              "      <td>0.9832</td>\n",
              "      <td>0.069617</td>\n",
              "      <td>0.9834</td>\n",
              "      <td>0.064348</td>\n",
              "      <td>0.9831</td>\n",
              "      <td>0.072049</td>\n",
              "      <td>0.9819</td>\n",
              "      <td>0.068009</td>\n",
              "      <td>0.9824</td>\n",
              "    </tr>\n",
              "    <tr>\n",
              "      <th>12</th>\n",
              "      <td>512</td>\n",
              "      <td>1</td>\n",
              "      <td>0.25</td>\n",
              "      <td>20</td>\n",
              "      <td>adam</td>\n",
              "      <td>0.082371</td>\n",
              "      <td>0.9824</td>\n",
              "      <td>0.083964</td>\n",
              "      <td>0.9854</td>\n",
              "      <td>0.090952</td>\n",
              "      <td>0.9828</td>\n",
              "      <td>0.082435</td>\n",
              "      <td>0.9844</td>\n",
              "      <td>0.096537</td>\n",
              "      <td>0.9829</td>\n",
              "    </tr>\n",
              "    <tr>\n",
              "      <th>13</th>\n",
              "      <td>512</td>\n",
              "      <td>1</td>\n",
              "      <td>0.25</td>\n",
              "      <td>30</td>\n",
              "      <td>adam</td>\n",
              "      <td>0.111606</td>\n",
              "      <td>0.9833</td>\n",
              "      <td>0.104908</td>\n",
              "      <td>0.9832</td>\n",
              "      <td>0.110856</td>\n",
              "      <td>0.9833</td>\n",
              "      <td>0.096231</td>\n",
              "      <td>0.9846</td>\n",
              "      <td>0.107303</td>\n",
              "      <td>0.9831</td>\n",
              "    </tr>\n",
              "  </tbody>\n",
              "</table>\n",
              "</div>"
            ],
            "text/plain": [
              "    n_neurons  n_layers  dropout  epochs optimizer    loss 1  accuracy 1  \\\n",
              "0         512         1     0.25       5      adam  0.063584      0.9800   \n",
              "1        1024         1     0.25       5      adam  0.064024      0.9798   \n",
              "2        2048         1     0.25       5      adam  0.076037      0.9776   \n",
              "3        4096         1     0.25       5      adam  0.076889      0.9812   \n",
              "4         512         2     0.25       5      adam  0.069791      0.9791   \n",
              "5         512         3     0.25       5      adam  0.083548      0.9770   \n",
              "6         512         4     0.25       5      adam  0.096859      0.9770   \n",
              "7         512         1     0.00       5      adam  0.072746      0.9792   \n",
              "8         512         1     0.50       5      adam  0.069985      0.9788   \n",
              "9         512         1     0.25       5   RMSprop  0.079694      0.9780   \n",
              "10        512         1     0.25       5       SGD  0.201151      0.9448   \n",
              "11        512         1     0.25      10      adam  0.067466      0.9832   \n",
              "12        512         1     0.25      20      adam  0.082371      0.9824   \n",
              "13        512         1     0.25      30      adam  0.111606      0.9833   \n",
              "\n",
              "      loss 2  accuracy 2    loss 3  accuracy 3    loss 4  accuracy 4  \\\n",
              "0   0.065366      0.9799  0.060666      0.9810  0.075447      0.9782   \n",
              "1   0.069597      0.9798  0.069296      0.9808  0.072827      0.9786   \n",
              "2   0.095803      0.9768  0.081909      0.9763  0.067331      0.9807   \n",
              "3   0.101023      0.9740  0.083719      0.9772  0.066843      0.9829   \n",
              "4   0.077362      0.9773  0.072583      0.9801  0.069737      0.9813   \n",
              "5   0.081891      0.9777  0.084201      0.9778  0.087515      0.9767   \n",
              "6   0.087405      0.9758  0.085669      0.9789  0.093471      0.9769   \n",
              "7   0.084236      0.9768  0.078817      0.9763  0.063773      0.9804   \n",
              "8   0.068193      0.9782  0.069156      0.9794  0.070422      0.9770   \n",
              "9   0.072654      0.9805  0.069790      0.9812  0.082971      0.9764   \n",
              "10  0.199718      0.9433  0.201779      0.9444  0.201706      0.9443   \n",
              "11  0.069617      0.9834  0.064348      0.9831  0.072049      0.9819   \n",
              "12  0.083964      0.9854  0.090952      0.9828  0.082435      0.9844   \n",
              "13  0.104908      0.9832  0.110856      0.9833  0.096231      0.9846   \n",
              "\n",
              "      loss 5  accuracy 5  \n",
              "0   0.060783      0.9810  \n",
              "1   0.075089      0.9780  \n",
              "2   0.077522      0.9791  \n",
              "3   0.094265      0.9744  \n",
              "4   0.079043      0.9768  \n",
              "5   0.066853      0.9815  \n",
              "6   0.091648      0.9767  \n",
              "7   0.070601      0.9785  \n",
              "8   0.066050      0.9809  \n",
              "9   0.073966      0.9802  \n",
              "10  0.198433      0.9429  \n",
              "11  0.068009      0.9824  \n",
              "12  0.096537      0.9829  \n",
              "13  0.107303      0.9831  "
            ]
          },
          "execution_count": 19,
          "metadata": {},
          "output_type": "execute_result"
        }
      ],
      "source": [
        "df = pd.read_csv('mnist_PC04_MLP_analysis.csv')\n",
        "#df.head()\n",
        "df"
      ]
    },
    {
      "cell_type": "code",
      "execution_count": 12,
      "metadata": {
        "id": "b1XF7sp6wfyF"
      },
      "outputs": [
        {
          "data": {
            "image/png": "[encoded data removed]",
            "text/plain": [
              "<Figure size 480x480 with 2 Axes>"
            ]
          },
          "metadata": {},
          "output_type": "display_data"
        }
      ],
      "source": [
        "losses = np.zeros((n_repetitions, 4))\n",
        "accurs = np.zeros((n_repetitions, 4))\n",
        "\n",
        "for i, n_neurons in enumerate([512,1024,2048,4096]):\n",
        "    sample = df[(df['n_neurons'] == n_neurons) & (df['n_layers'] == 1) & (df['dropout'] == 0.25) & (df['optimizer'] == 'adam') & (df['epochs'] == 5)]\n",
        "    loss   = sample[[f'loss {i}' for i in range(1, n_repetitions+1)]].to_numpy()\n",
        "    accy   = sample[[f'accuracy {i}' for i in range(1, n_repetitions+1)]].to_numpy()\n",
        "\n",
        "    losses[:, i] = loss\n",
        "    accurs[:, i] = accy\n",
        "\n",
        "fig,ax=plt.subplots(2,1,figsize=(4,4),dpi=120,sharex=True)\n",
        "\n",
        "ax[0].boxplot(accurs, labels=[512,1024,2048,4096])\n",
        "ax[1].boxplot(losses, labels=[512,1024,2048,4096])\n",
        "\n",
        "ax[0].set_ylabel('Accuracy')\n",
        "ax[1].set_ylabel('Loss')\n",
        "ax[1].set_xlabel('Number of artificial neurons')\n",
        "fig.align_ylabels()\n",
        "plt.tight_layout()\n"
      ]
    },
    {
      "cell_type": "code",
      "execution_count": 13,
      "metadata": {
        "id": "WJakFAknziv0"
      },
      "outputs": [
        {
          "data": {
            "image/png": "[encoded data removed]",
            "text/plain": [
              "<Figure size 480x480 with 2 Axes>"
            ]
          },
          "metadata": {},
          "output_type": "display_data"
        }
      ],
      "source": [
        "losses = np.zeros((n_repetitions, 4))\n",
        "accurs = np.zeros((n_repetitions, 4))\n",
        "\n",
        "for i, n_layers in enumerate([1,2,3,4]):\n",
        "    sample = df[(df['n_neurons'] == 512) & (df['n_layers'] == n_layers)& (df['dropout'] == 0.25) & (df['optimizer'] == 'adam') & (df['epochs'] == 5)]\n",
        "    loss   = sample[[f'loss {i}' for i in  range(1, n_repetitions+1)]].to_numpy()\n",
        "    accy   = sample[[f'accuracy {i}' for i in  range(1, n_repetitions+1)]].to_numpy()\n",
        "\n",
        "    losses[:, i] = loss\n",
        "    accurs[:, i] = accy\n",
        "\n",
        "fig,ax=plt.subplots(2,1,figsize=(4,4),dpi=120,sharex=True)\n",
        "\n",
        "ax[0].boxplot(accurs, labels=[1,2,3,4])\n",
        "ax[1].boxplot(losses, labels=[1,2,3,4])\n",
        "\n",
        "ax[0].set_ylabel('Accuracy')\n",
        "ax[1].set_ylabel('Loss')\n",
        "ax[1].set_xlabel('Number of hidden layers')\n",
        "fig.align_ylabels()\n",
        "plt.tight_layout()"
      ]
    },
    {
      "cell_type": "code",
      "execution_count": 14,
      "metadata": {
        "id": "LhGykygaz5dm"
      },
      "outputs": [
        {
          "data": {
            "image/png": "[encoded data removed]",
            "text/plain": [
              "<Figure size 480x480 with 2 Axes>"
            ]
          },
          "metadata": {},
          "output_type": "display_data"
        }
      ],
      "source": [
        "losses = np.zeros((n_repetitions, 3))\n",
        "accurs = np.zeros((n_repetitions, 3))\n",
        "\n",
        "for i, dropout in enumerate([0, 0.25, 0.5]):\n",
        "    sample = df[(df['n_neurons'] == 512) & (df['n_layers'] == 1)& (df['dropout'] == dropout) & (df['optimizer'] == 'adam') & (df['epochs'] == 5)]\n",
        "    loss   = sample[[f'loss {i}' for i in  range(1, n_repetitions+1)]].to_numpy()\n",
        "    accy   = sample[[f'accuracy {i}' for i in  range(1, n_repetitions+1)]].to_numpy()\n",
        "\n",
        "    losses[:, i] = loss\n",
        "    accurs[:, i] = accy\n",
        "\n",
        "fig,ax=plt.subplots(2,1,figsize=(4,4),dpi=120,sharex=True)\n",
        "\n",
        "ax[0].boxplot(accurs, labels=[0,0.25,0.5])\n",
        "ax[1].boxplot(losses, labels=[0,0.25,0.5])\n",
        "\n",
        "ax[0].set_ylabel('Accuracy')\n",
        "ax[1].set_ylabel('Loss')\n",
        "ax[1].set_xlabel('Dropout')\n",
        "fig.align_ylabels()\n",
        "plt.tight_layout()"
      ]
    },
    {
      "cell_type": "code",
      "execution_count": 15,
      "metadata": {
        "id": "4OKePqKW0UPU"
      },
      "outputs": [
        {
          "data": {
            "image/png": "[encoded data removed]",
            "text/plain": [
              "<Figure size 480x480 with 2 Axes>"
            ]
          },
          "metadata": {},
          "output_type": "display_data"
        }
      ],
      "source": [
        "losses = np.zeros((n_repetitions, 3))\n",
        "accurs = np.zeros((n_repetitions, 3))\n",
        "\n",
        "for i, optimizer in enumerate(['adam','SGD','RMSprop']):\n",
        "    sample = df[(df['n_neurons'] == 512) & (df['n_layers'] == 1)& (df['dropout'] == 0.25) & (df['optimizer'] == optimizer) & (df['epochs'] == 5)]\n",
        "    loss   = sample[[f'loss {i}' for i in  range(1, n_repetitions+1)]].to_numpy()\n",
        "    accy   = sample[[f'accuracy {i}' for i in  range(1, n_repetitions+1)]].to_numpy()\n",
        "\n",
        "    losses[:, i] = loss\n",
        "    accurs[:, i] = accy\n",
        "\n",
        "fig,ax=plt.subplots(2,1,figsize=(4,4),dpi=120,sharex=True)\n",
        "\n",
        "ax[0].boxplot(accurs, labels=['adam','SGD','RMSprop'])\n",
        "ax[1].boxplot(losses, labels=['adam','SGD','RMSprop'])\n",
        "\n",
        "ax[0].set_ylabel('Accuracy')\n",
        "ax[1].set_ylabel('Loss')\n",
        "ax[1].set_xlabel('Optimizer')\n",
        "fig.align_ylabels()\n",
        "plt.tight_layout()"
      ]
    },
    {
      "cell_type": "code",
      "execution_count": 16,
      "metadata": {
        "id": "H7k3KTdi1Iil"
      },
      "outputs": [
        {
          "data": {
            "image/png": "[encoded data removed]",
            "text/plain": [
              "<Figure size 480x480 with 2 Axes>"
            ]
          },
          "metadata": {},
          "output_type": "display_data"
        }
      ],
      "source": [
        "losses = np.zeros((n_repetitions, 4))\n",
        "accurs = np.zeros((n_repetitions, 4))\n",
        "\n",
        "for i, epochs in enumerate([5,10,20,30]):\n",
        "    sample = df[(df['n_neurons'] == 512) & (df['n_layers'] == 1)& (df['dropout'] == 0.25) & (df['optimizer'] == 'adam') & (df['epochs'] == epochs)]\n",
        "    loss   = sample[[f'loss {i}' for i in  range(1, n_repetitions+1)]].to_numpy()\n",
        "    accy   = sample[[f'accuracy {i}' for i in  range(1, n_repetitions+1)]].to_numpy()\n",
        "\n",
        "    losses[:, i] = loss\n",
        "    accurs[:, i] = accy\n",
        "\n",
        "fig,ax=plt.subplots(2,1,figsize=(4,4),dpi=120,sharex=True)\n",
        "\n",
        "ax[0].boxplot(accurs, labels=[5,10,20,30])\n",
        "ax[1].boxplot(losses, labels=[5,10,20,30])\n",
        "\n",
        "ax[0].set_ylabel('Accuracy')\n",
        "ax[1].set_ylabel('Loss')\n",
        "ax[1].set_xlabel('Epochs')\n",
        "fig.align_ylabels()\n",
        "plt.tight_layout()"
      ]
    },
    {
      "cell_type": "code",
      "execution_count": 18,
      "metadata": {
        "id": "W-NuUsLIfBYm"
      },
      "outputs": [
        {
          "name": "stdout",
          "output_type": "stream",
          "text": [
            "Epoch 1/5\n",
            "1875/1875 [==============================] - 5s 2ms/step - loss: 0.2253 - accuracy: 0.9337\n",
            "Epoch 2/5\n",
            "1875/1875 [==============================] - 4s 2ms/step - loss: 0.1009 - accuracy: 0.9688\n",
            "Epoch 3/5\n",
            "1875/1875 [==============================] - 4s 2ms/step - loss: 0.0721 - accuracy: 0.9776\n",
            "Epoch 4/5\n",
            "1875/1875 [==============================] - 4s 2ms/step - loss: 0.0556 - accuracy: 0.9818\n",
            "Epoch 5/5\n",
            "1875/1875 [==============================] - 4s 2ms/step - loss: 0.0499 - accuracy: 0.9830\n",
            "313/313 [==============================] - 1s 2ms/step - loss: 0.0710 - accuracy: 0.9781\n",
            "Model: \"sequential\"\n",
            "_________________________________________________________________\n",
            " Layer (type)                Output Shape              Param #   \n",
            "=================================================================\n",
            " flatten (Flatten)           (None, 784)               0         \n",
            "                                                                 \n",
            " dense (Dense)               (None, 512)               401920    \n",
            "                                                                 \n",
            " dropout (Dropout)           (None, 512)               0         \n",
            "                                                                 \n",
            " dense_1 (Dense)             (None, 10)                5130      \n",
            "                                                                 \n",
            "=================================================================\n",
            "Total params: 407050 (1.55 MB)\n",
            "Trainable params: 407050 (1.55 MB)\n",
            "Non-trainable params: 0 (0.00 Byte)\n",
            "_________________________________________________________________\n",
            "Evaluate on test data\n",
            "test loss, test acc: 0.07103164494037628 0.9781000018119812\n"
          ]
        }
      ],
      "source": [
        "# Please, replace the values obtained by the simplified grid search here and execute the code\n",
        "d = model_and_evaluate(n_neurons=512,\n",
        "                       n_layers=1,\n",
        "                       dropout=0.25,\n",
        "                       optimizer='adam',\n",
        "                       epochs=5)"
      ]
    },
    {
      "cell_type": "code",
      "execution_count": 24,
      "metadata": {},
      "outputs": [
        {
          "name": "stdout",
          "output_type": "stream",
          "text": [
            "Epoch 1/20\n",
            "1875/1875 [==============================] - 5s 2ms/step - loss: 0.2248 - accuracy: 0.9339\n",
            "Epoch 2/20\n",
            "1875/1875 [==============================] - 4s 2ms/step - loss: 0.1001 - accuracy: 0.9696\n",
            "Epoch 3/20\n",
            "1875/1875 [==============================] - 4s 2ms/step - loss: 0.0755 - accuracy: 0.9763\n",
            "Epoch 4/20\n",
            "1875/1875 [==============================] - 5s 2ms/step - loss: 0.0585 - accuracy: 0.9813\n",
            "Epoch 5/20\n",
            "1875/1875 [==============================] - 5s 2ms/step - loss: 0.0479 - accuracy: 0.9848\n",
            "Epoch 6/20\n",
            "1875/1875 [==============================] - 4s 2ms/step - loss: 0.0406 - accuracy: 0.9869\n",
            "Epoch 7/20\n",
            "1875/1875 [==============================] - 4s 2ms/step - loss: 0.0346 - accuracy: 0.9883\n",
            "Epoch 8/20\n",
            "1875/1875 [==============================] - 4s 2ms/step - loss: 0.0322 - accuracy: 0.9897\n",
            "Epoch 9/20\n",
            "1875/1875 [==============================] - 4s 2ms/step - loss: 0.0276 - accuracy: 0.9905\n",
            "Epoch 10/20\n",
            "1875/1875 [==============================] - 4s 2ms/step - loss: 0.0263 - accuracy: 0.9909\n",
            "Epoch 11/20\n",
            "1875/1875 [==============================] - 4s 2ms/step - loss: 0.0252 - accuracy: 0.9914\n",
            "Epoch 12/20\n",
            "1875/1875 [==============================] - 5s 3ms/step - loss: 0.0226 - accuracy: 0.9927\n",
            "Epoch 13/20\n",
            "1875/1875 [==============================] - 4s 2ms/step - loss: 0.0214 - accuracy: 0.9929\n",
            "Epoch 14/20\n",
            "1875/1875 [==============================] - 4s 2ms/step - loss: 0.0187 - accuracy: 0.9938\n",
            "Epoch 15/20\n",
            "1875/1875 [==============================] - 4s 2ms/step - loss: 0.0195 - accuracy: 0.9934\n",
            "Epoch 16/20\n",
            "1875/1875 [==============================] - 4s 2ms/step - loss: 0.0182 - accuracy: 0.9939\n",
            "Epoch 17/20\n",
            "1875/1875 [==============================] - 4s 2ms/step - loss: 0.0173 - accuracy: 0.9944\n",
            "Epoch 18/20\n",
            "1875/1875 [==============================] - 4s 2ms/step - loss: 0.0159 - accuracy: 0.9946\n",
            "Epoch 19/20\n",
            "1875/1875 [==============================] - 4s 2ms/step - loss: 0.0168 - accuracy: 0.9945\n",
            "Epoch 20/20\n",
            "1875/1875 [==============================] - 4s 2ms/step - loss: 0.0167 - accuracy: 0.9945\n",
            "313/313 [==============================] - 1s 1ms/step - loss: 0.0925 - accuracy: 0.9829\n",
            "Model: \"sequential\"\n",
            "_________________________________________________________________\n",
            " Layer (type)                Output Shape              Param #   \n",
            "=================================================================\n",
            " flatten (Flatten)           (None, 784)               0         \n",
            "                                                                 \n",
            " dense (Dense)               (None, 512)               401920    \n",
            "                                                                 \n",
            " dropout (Dropout)           (None, 512)               0         \n",
            "                                                                 \n",
            " dense_1 (Dense)             (None, 10)                5130      \n",
            "                                                                 \n",
            "=================================================================\n",
            "Total params: 407050 (1.55 MB)\n",
            "Trainable params: 407050 (1.55 MB)\n",
            "Non-trainable params: 0 (0.00 Byte)\n",
            "_________________________________________________________________\n",
            "Evaluate on test data\n",
            "test loss, test acc: 0.09251174330711365 0.9829000234603882\n"
          ]
        }
      ],
      "source": [
        "# Please, replace the values obtained by the simplified grid search here and execute the code\n",
        "d = model_and_evaluate(n_neurons=512,\n",
        "                       n_layers=1,\n",
        "                       dropout=0.25,\n",
        "                       optimizer='adam',\n",
        "                       epochs=20)"
      ]
    },
    {
      "cell_type": "code",
      "execution_count": 25,
      "metadata": {},
      "outputs": [
        {
          "name": "stdout",
          "output_type": "stream",
          "text": [
            "Epoch 1/30\n",
            "1875/1875 [==============================] - 5s 2ms/step - loss: 0.2257 - accuracy: 0.9346\n",
            "Epoch 2/30\n",
            "1875/1875 [==============================] - 4s 2ms/step - loss: 0.1025 - accuracy: 0.9684\n",
            "Epoch 3/30\n",
            "1875/1875 [==============================] - 4s 2ms/step - loss: 0.0721 - accuracy: 0.9771\n",
            "Epoch 4/30\n",
            "1875/1875 [==============================] - 4s 2ms/step - loss: 0.0598 - accuracy: 0.9800\n",
            "Epoch 5/30\n",
            "1875/1875 [==============================] - 4s 2ms/step - loss: 0.0488 - accuracy: 0.9842\n",
            "Epoch 6/30\n",
            "1875/1875 [==============================] - 4s 2ms/step - loss: 0.0399 - accuracy: 0.9871\n",
            "Epoch 7/30\n",
            "1875/1875 [==============================] - 4s 2ms/step - loss: 0.0366 - accuracy: 0.9880\n",
            "Epoch 8/30\n",
            "1875/1875 [==============================] - 4s 2ms/step - loss: 0.0298 - accuracy: 0.9901\n",
            "Epoch 9/30\n",
            "1875/1875 [==============================] - 4s 2ms/step - loss: 0.0293 - accuracy: 0.9900\n",
            "Epoch 10/30\n",
            "1875/1875 [==============================] - 4s 2ms/step - loss: 0.0252 - accuracy: 0.9914\n",
            "Epoch 11/30\n",
            "1875/1875 [==============================] - 4s 2ms/step - loss: 0.0241 - accuracy: 0.9922\n",
            "Epoch 12/30\n",
            "1875/1875 [==============================] - 4s 2ms/step - loss: 0.0229 - accuracy: 0.9919\n",
            "Epoch 13/30\n",
            "1875/1875 [==============================] - 4s 2ms/step - loss: 0.0206 - accuracy: 0.9930\n",
            "Epoch 14/30\n",
            "1875/1875 [==============================] - 4s 2ms/step - loss: 0.0191 - accuracy: 0.9937\n",
            "Epoch 15/30\n",
            "1875/1875 [==============================] - 4s 2ms/step - loss: 0.0181 - accuracy: 0.9940\n",
            "Epoch 16/30\n",
            "1875/1875 [==============================] - 4s 2ms/step - loss: 0.0176 - accuracy: 0.9938\n",
            "Epoch 17/30\n",
            "1875/1875 [==============================] - 4s 2ms/step - loss: 0.0154 - accuracy: 0.9946\n",
            "Epoch 18/30\n",
            "1875/1875 [==============================] - 4s 2ms/step - loss: 0.0154 - accuracy: 0.9944\n",
            "Epoch 19/30\n",
            "1875/1875 [==============================] - 5s 2ms/step - loss: 0.0170 - accuracy: 0.9942\n",
            "Epoch 20/30\n",
            "1875/1875 [==============================] - 4s 2ms/step - loss: 0.0163 - accuracy: 0.9947\n",
            "Epoch 21/30\n",
            "1875/1875 [==============================] - 4s 2ms/step - loss: 0.0163 - accuracy: 0.9948\n",
            "Epoch 22/30\n",
            "1875/1875 [==============================] - 3s 2ms/step - loss: 0.0132 - accuracy: 0.9955\n",
            "Epoch 23/30\n",
            "1875/1875 [==============================] - 4s 2ms/step - loss: 0.0121 - accuracy: 0.9958\n",
            "Epoch 24/30\n",
            "1875/1875 [==============================] - 4s 2ms/step - loss: 0.0164 - accuracy: 0.9950\n",
            "Epoch 25/30\n",
            "1875/1875 [==============================] - 4s 2ms/step - loss: 0.0145 - accuracy: 0.9957\n",
            "Epoch 26/30\n",
            "1875/1875 [==============================] - 4s 2ms/step - loss: 0.0113 - accuracy: 0.9963\n",
            "Epoch 27/30\n",
            "1875/1875 [==============================] - 4s 2ms/step - loss: 0.0148 - accuracy: 0.9956\n",
            "Epoch 28/30\n",
            "1875/1875 [==============================] - 4s 2ms/step - loss: 0.0123 - accuracy: 0.9962\n",
            "Epoch 29/30\n",
            "1875/1875 [==============================] - 4s 2ms/step - loss: 0.0139 - accuracy: 0.9960\n",
            "Epoch 30/30\n",
            "1875/1875 [==============================] - 4s 2ms/step - loss: 0.0122 - accuracy: 0.9962\n",
            "313/313 [==============================] - 1s 2ms/step - loss: 0.1111 - accuracy: 0.9825\n",
            "Model: \"sequential\"\n",
            "_________________________________________________________________\n",
            " Layer (type)                Output Shape              Param #   \n",
            "=================================================================\n",
            " flatten (Flatten)           (None, 784)               0         \n",
            "                                                                 \n",
            " dense (Dense)               (None, 512)               401920    \n",
            "                                                                 \n",
            " dropout (Dropout)           (None, 512)               0         \n",
            "                                                                 \n",
            " dense_1 (Dense)             (None, 10)                5130      \n",
            "                                                                 \n",
            "=================================================================\n",
            "Total params: 407050 (1.55 MB)\n",
            "Trainable params: 407050 (1.55 MB)\n",
            "Non-trainable params: 0 (0.00 Byte)\n",
            "_________________________________________________________________\n",
            "Evaluate on test data\n",
            "test loss, test acc: 0.11109333485364914 0.9825000166893005\n"
          ]
        }
      ],
      "source": [
        "# Please, replace the values obtained by the simplified grid search here and execute the code\n",
        "d = model_and_evaluate(n_neurons=512,\n",
        "                       n_layers=1,\n",
        "                       dropout=0.25,\n",
        "                       optimizer='adam',\n",
        "                       epochs=30)"
      ]
    },
    {
      "cell_type": "code",
      "execution_count": 21,
      "metadata": {},
      "outputs": [
        {
          "name": "stdout",
          "output_type": "stream",
          "text": [
            "Epoch 1/5\n",
            "1875/1875 [==============================] - 4s 2ms/step - loss: 0.2055 - accuracy: 0.9378\n",
            "Epoch 2/5\n",
            "1875/1875 [==============================] - 4s 2ms/step - loss: 0.0920 - accuracy: 0.9714\n",
            "Epoch 3/5\n",
            "1875/1875 [==============================] - 4s 2ms/step - loss: 0.0676 - accuracy: 0.9784\n",
            "Epoch 4/5\n",
            "1875/1875 [==============================] - 4s 2ms/step - loss: 0.0516 - accuracy: 0.9832\n",
            "Epoch 5/5\n",
            "1875/1875 [==============================] - 4s 2ms/step - loss: 0.0443 - accuracy: 0.9852\n",
            "313/313 [==============================] - 1s 2ms/step - loss: 0.0683 - accuracy: 0.9796\n",
            "Model: \"sequential\"\n",
            "_________________________________________________________________\n",
            " Layer (type)                Output Shape              Param #   \n",
            "=================================================================\n",
            " flatten (Flatten)           (None, 784)               0         \n",
            "                                                                 \n",
            " dense (Dense)               (None, 1024)              803840    \n",
            "                                                                 \n",
            " dropout (Dropout)           (None, 1024)              0         \n",
            "                                                                 \n",
            " dense_1 (Dense)             (None, 10)                10250     \n",
            "                                                                 \n",
            "=================================================================\n",
            "Total params: 814090 (3.11 MB)\n",
            "Trainable params: 814090 (3.11 MB)\n",
            "Non-trainable params: 0 (0.00 Byte)\n",
            "_________________________________________________________________\n",
            "Evaluate on test data\n",
            "test loss, test acc: 0.06829008460044861 0.9796000123023987\n"
          ]
        }
      ],
      "source": [
        "# Please, replace the values obtained by the simplified grid search here and execute the code\n",
        "d = model_and_evaluate(n_neurons=1024,\n",
        "                       n_layers=1,\n",
        "                       dropout=0.25,\n",
        "                       optimizer='adam',\n",
        "                       epochs=5)"
      ]
    },
    {
      "cell_type": "markdown",
      "metadata": {},
      "source": [
        "Acreditamos que `n_neurons=512, n_layers=1, dropout=0.25, optimizer='adam', epochs=20` seja o melhor conjunto de dados, considerando os hiperparâmetros testados neste código.\n",
        "\n",
        "Vamos tentar explicar a lógica utilizada para chegar nessa conclusão com base em observações visuais dos gráficos:\n",
        "1. **Número de neurônios (512, 1024, 2048, 4096):** Escolheu-se 512. Os quartis Q1 e Q3 estão muito próximos da mediana (com exceção de um outlier) que possui o menor valor absoluto de Loss, ao mesmo tempo em que a Acurácia apresenta um comportamento semelhante com o IQR (Interquartile Range) pequeno e um valor consideravelmente alto. Do contrário, no valor 1024, 25% dos valores (no Loss) estão em uma região que pode ultrapassar o outlier para o Loss em 512;\n",
        "\n",
        "2. **Número de camadas (1, 2, 3, 4):** Escolheu-se 1. A mediana se situa em 98%, com a menor mediana de Loss (~0.064). Considerando-se apenas 512 neurônios para todos os casos, para 2 camadas teríamos valores mais esparsos no IQR e mediana menor, apesar de existir a possibilidade de algumas execuções ultrapassarem a acurácia com uma camada, optou-se por decisões mais \"conservadores\". Já em 3 camadas, teríamos uma probabilidade de obter outliers, com perdas muito boas (menores) e acurácia próximo de 99%, mas esse não representa o comportamento geral dessa configuração;\n",
        "\n",
        "3. **Dropout (0, 0.25, 0.5):** Escolheu-se 0.25. O valor padrão de 0.25 para o Dropout já demonstra ter Acurácia maior e Loss menor no geral. Mesmo considerando o seu outlier para a Acurácia, se aproxima muito do valor da mediana, além de possuir um IQR muito próximo da Mediana para diferentes execuções. Nem mesmo o limite superior (valor adjacente superior) do Dropout 0.5 (na Acurácia) superam os valores obtidos para o Dropout 0.25;\n",
        "\n",
        "4. **Optimizer (adam, SGD, RMSprop):** Escolheu-se o otimizador 'adam'. Claramente, o adam desempenha melhor em todas as métricas consideradas: Accurary e Loss.\n",
        "\n",
        "5. **Epochs (5, 10, 20, 30):** Escolheu-se 20. Os testes com n_epochs=20 e n_epochs=30 também foram feitos (logo acima), que corroboram que a execução de 30 epócas já não gera um ganho considerável para o modelo (considerando os outros parâmetros fixos, é claro). O erro, no entanto, claramente da vantagem para o caso de apenas 20 épocas. mesmo o seu limite superior está abaixo da mediana para o caso em que temos 30 épocas sendo executadas."
      ]
    }
  ],
  "metadata": {
    "accelerator": "GPU",
    "colab": {
      "gpuType": "T4",
      "provenance": []
    },
    "gpuClass": "standard",
    "kernelspec": {
      "display_name": "tf_gpu_python-3-10",
      "language": "python",
      "name": "tf_gpu_python-3-10"
    },
    "language_info": {
      "codemirror_mode": {
        "name": "ipython",
        "version": 3
      },
      "file_extension": ".py",
      "mimetype": "text/x-python",
      "name": "python",
      "nbconvert_exporter": "python",
      "pygments_lexer": "ipython3",
      "version": "3.10.13"
    },
    "vscode": {
      "interpreter": {
        "hash": "916dbcbb3f70747c44a77c7bcd40155683ae19c65e1c03b4aa3499c5328201f1"
      }
    }
  },
  "nbformat": 4,
  "nbformat_minor": 0
}

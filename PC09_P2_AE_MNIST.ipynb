{
  "cells": [
    {
      "cell_type": "markdown",
      "metadata": {
        "id": "xMsNyA3WPrER"
      },
      "source": [
        "##**Notebook PC#09 - Part 2**\n",
        "## Autoencoder training and manifold visualization for the MNIST database.\n",
        "## Code produced by previous students of IA353. Thank you for making PC#09 (Part 2) still more complete and informative.\n",
        "\n",
        "**Professor:** Fernando J. Von Zuben <br>\n",
        "**Aluno(a):** <br>\n",
        "**Aluno(a):**"
      ]
    },
    {
      "cell_type": "markdown",
      "metadata": {
        "id": "38Y-8dz2lzfp"
      },
      "source": [
        "### Loading the main libraries"
      ]
    },
    {
      "cell_type": "code",
      "execution_count": 1,
      "metadata": {
        "execution": {
          "iopub.execute_input": "2023-06-20T16:11:31.856439Z",
          "iopub.status.busy": "2023-06-20T16:11:31.855762Z",
          "iopub.status.idle": "2023-06-20T16:11:31.869587Z",
          "shell.execute_reply": "2023-06-20T16:11:31.868517Z",
          "shell.execute_reply.started": "2023-06-20T16:11:31.856406Z"
        },
        "id": "pxQ9xKtUlzfq",
        "trusted": true
      },
      "outputs": [],
      "source": [
        "import tensorflow as tf\n",
        "import os\n",
        "\n",
        "import warnings\n",
        "warnings.filterwarnings('ignore')\n",
        "\n",
        "import numpy as np\n",
        "import pandas as pd\n",
        "import matplotlib.pyplot as plt\n",
        "from tqdm.keras import TqdmCallback\n",
        "\n",
        "from keras.models import Sequential, Model\n",
        "from keras.layers import Dense, Dropout, Conv2D, MaxPooling2D, Flatten, Input, Conv2DTranspose, Reshape\n",
        "from tensorflow.keras.optimizers import Adam\n",
        "from keras.utils import to_categorical\n",
        "import tensorflow as tf\n",
        "\n",
        "from matplotlib.offsetbox import OffsetImage, AnnotationBbox\n",
        "\n",
        "# sess = tf.compat.v1.Session(config=tf.compat.v1.ConfigProto(log_device_placement=True))"
      ]
    },
    {
      "cell_type": "markdown",
      "metadata": {
        "id": "kux7rdXClzfr"
      },
      "source": [
        "### Reading the data"
      ]
    },
    {
      "cell_type": "code",
      "execution_count": null,
      "metadata": {
        "execution": {
          "iopub.execute_input": "2023-06-20T16:14:45.562029Z",
          "iopub.status.busy": "2023-06-20T16:14:45.561357Z",
          "iopub.status.idle": "2023-06-20T16:14:46.286115Z",
          "shell.execute_reply": "2023-06-20T16:14:46.285150Z",
          "shell.execute_reply.started": "2023-06-20T16:14:45.561996Z"
        },
        "id": "LvMYCDnWlzfr",
        "trusted": true
      },
      "outputs": [],
      "source": [
        "mnist = tf.keras.datasets.mnist\n",
        "(x_train, y_train),(x_test, y_test) = mnist.load_data()"
      ]
    },
    {
      "cell_type": "code",
      "execution_count": 3,
      "metadata": {
        "execution": {
          "iopub.execute_input": "2023-06-20T16:14:49.255829Z",
          "iopub.status.busy": "2023-06-20T16:14:49.255423Z",
          "iopub.status.idle": "2023-06-20T16:14:49.408350Z",
          "shell.execute_reply": "2023-06-20T16:14:49.407319Z",
          "shell.execute_reply.started": "2023-06-20T16:14:49.255799Z"
        },
        "id": "bKFgJi_Llzfs",
        "trusted": true
      },
      "outputs": [],
      "source": [
        "x_train, x_test = x_train / 255.0, x_test / 255.\n",
        "X = x_train.reshape((x_train.shape[0], -1))"
      ]
    },
    {
      "cell_type": "markdown",
      "metadata": {
        "id": "27Mnb5_jPFxt"
      },
      "source": [
        "### Convolutional Autoencoder\n",
        "\n",
        "The dense layers of Part 1 were replaced by convolutional layers, which promotes a reduction in the total number of adjustable weights."
      ]
    },
    {
      "cell_type": "code",
      "execution_count": null,
      "metadata": {
        "execution": {
          "iopub.execute_input": "2023-06-20T16:49:24.808097Z",
          "iopub.status.busy": "2023-06-20T16:49:24.807392Z",
          "iopub.status.idle": "2023-06-20T16:49:25.225976Z",
          "shell.execute_reply": "2023-06-20T16:49:25.225164Z",
          "shell.execute_reply.started": "2023-06-20T16:49:24.808063Z"
        },
        "trusted": true,
        "id": "tgaUaPh8PFxu"
      },
      "outputs": [],
      "source": [
        "encoder = tf.keras.models.Sequential([\n",
        "    Conv2D(8, (3, 3), activation='selu', padding='same', input_shape=(28, 28, 1)),\n",
        "    MaxPooling2D((2, 2), padding='same'),\n",
        "    Conv2D(16, (3, 3), activation='selu', padding='same'),\n",
        "    MaxPooling2D((2, 2), padding='same'),\n",
        "    Conv2D(32, (3, 3), activation='selu', padding='same'),\n",
        "    MaxPooling2D((2, 2), padding='same'),\n",
        "    Conv2D(64, (3, 3), activation='selu', padding='same'),\n",
        "    MaxPooling2D((2, 2), padding='same'),\n",
        "    Conv2D(128, (3, 3), activation='selu', padding='same'),\n",
        "    MaxPooling2D((2, 2), padding='same'),\n",
        "    Conv2D(256, (3, 3), activation='selu', padding='same'),\n",
        "    Flatten(),\n",
        "    Dense(2),\n",
        "\n",
        "], name='encoder')\n",
        "\n",
        "# Define the decoder\n",
        "decoder = tf.keras.models.Sequential([\n",
        "    Dense(256, activation='relu'),\n",
        "    Reshape((1, 1, 256)),\n",
        "    Conv2DTranspose(128, (3, 3), strides=(2, 2), activation='selu'),\n",
        "    Conv2DTranspose(64, (3, 3), strides=(2, 2), activation='selu'),\n",
        "    Conv2DTranspose(32, (3, 3), strides=(2, 2), padding='same', activation='selu'),\n",
        "    Conv2DTranspose(16, (3, 3), strides=(2, 2), padding='same', activation='selu'),\n",
        "    Conv2D(8, (3, 3), padding='same', activation='selu'),\n",
        "    Conv2D(1, (3, 3), padding='same', activation=None),\n",
        "], name='decoder')\n",
        "\n",
        "autoencoder = Sequential([encoder, decoder])\n",
        "autoencoder.summary(expand_nested=True)"
      ]
    },
    {
      "cell_type": "code",
      "execution_count": null,
      "metadata": {
        "execution": {
          "iopub.execute_input": "2023-06-20T16:49:28.035541Z",
          "iopub.status.busy": "2023-06-20T16:49:28.035172Z",
          "iopub.status.idle": "2023-06-20T16:50:22.506593Z",
          "shell.execute_reply": "2023-06-20T16:50:22.505667Z",
          "shell.execute_reply.started": "2023-06-20T16:49:28.035511Z"
        },
        "trusted": true,
        "id": "Wb4MBz-9PFxu"
      },
      "outputs": [],
      "source": [
        "autoencoder.compile(optimizer = \"adam\", loss = \"mse\")\n",
        "\n",
        "history = autoencoder.fit(x_train.reshape((-1, 28, 28, 1)), x_train.reshape((-1, 28, 28, 1)), batch_size = 128, epochs = 20, verbose = 0, callbacks=[TqdmCallback(verbose=1)])"
      ]
    },
    {
      "cell_type": "code",
      "execution_count": null,
      "metadata": {
        "execution": {
          "iopub.execute_input": "2023-06-20T16:50:47.939635Z",
          "iopub.status.busy": "2023-06-20T16:50:47.939260Z",
          "iopub.status.idle": "2023-06-20T16:50:48.313117Z",
          "shell.execute_reply": "2023-06-20T16:50:48.312116Z",
          "shell.execute_reply.started": "2023-06-20T16:50:47.939605Z"
        },
        "trusted": true,
        "id": "isbByun8PFxu"
      },
      "outputs": [],
      "source": [
        "plot_df = pd.DataFrame.from_dict({'train_loss':history.history['loss']})\n",
        "plot_df.plot(logy=True, figsize=(15,5), fontsize=12)\n",
        "plt.xlabel('epoch', fontsize=12)\n",
        "plt.ylabel('loss', fontsize=12)\n",
        "plt.show()"
      ]
    },
    {
      "cell_type": "code",
      "execution_count": null,
      "metadata": {
        "execution": {
          "iopub.execute_input": "2023-06-20T16:50:50.789287Z",
          "iopub.status.busy": "2023-06-20T16:50:50.788928Z",
          "iopub.status.idle": "2023-06-20T16:51:20.179376Z",
          "shell.execute_reply": "2023-06-20T16:51:20.178506Z",
          "shell.execute_reply.started": "2023-06-20T16:50:50.789259Z"
        },
        "trusted": true,
        "id": "quTqSTVCPFxu"
      },
      "outputs": [],
      "source": [
        "fig = plt.figure(figsize=(28,28))\n",
        "\n",
        "decoded_images = autoencoder.predict(X[:26*26].reshape((-1, 28, 28, 1)), verbose=False)\n",
        "\n",
        "ind = 1\n",
        "for i in range(1, 26, 1):\n",
        "    for j in range(1, 26, 1):\n",
        "        fig.add_subplot(25, 25, ind)\n",
        "        plt.imshow(decoded_images[ind].reshape((28,28)), cmap = \"gray\", interpolation = \"none\")\n",
        "        plt.xticks([])\n",
        "        plt.yticks([])\n",
        "        ind+=1"
      ]
    },
    {
      "cell_type": "code",
      "execution_count": null,
      "metadata": {
        "execution": {
          "iopub.execute_input": "2023-06-20T16:51:33.456378Z",
          "iopub.status.busy": "2023-06-20T16:51:33.456019Z",
          "iopub.status.idle": "2023-06-20T16:51:40.286331Z",
          "shell.execute_reply": "2023-06-20T16:51:40.285282Z",
          "shell.execute_reply.started": "2023-06-20T16:51:33.456349Z"
        },
        "trusted": true,
        "id": "aEWtnuRAPFxu"
      },
      "outputs": [],
      "source": [
        "fig, ax = plt.subplots(dpi=150)\n",
        "\n",
        "x_proj = encoder.predict(X.reshape((-1, 28, 28, 1)), verbose=0)\n",
        "\n",
        "for i in range(10):\n",
        "    ax.scatter(*x_proj[y_train == i].T, label=i, s=2)\n",
        "\n",
        "\n",
        "ax.legend(bbox_to_anchor=(1.04, 1))\n",
        "ax.set_xlabel('comp 1')\n",
        "ax.set_ylabel('comp 2')\n",
        "ax.set_aspect('equal', 'box')\n",
        "\n",
        "plt.show()"
      ]
    },
    {
      "cell_type": "markdown",
      "source": [
        "<font color=\"green\">\n",
        "Atividade (a) <br>\n",
        "Compare a disposição dos códigos de dígitos das 10 classes com aquela da Parte 1. Procure justificar a diferença nos resultados.\n",
        "</font>"
      ],
      "metadata": {
        "id": "mulXq9ZZKkX5"
      }
    },
    {
      "cell_type": "markdown",
      "source": [
        "**Resposta:**"
      ],
      "metadata": {
        "id": "BGsvW_2eTpfB"
      }
    },
    {
      "cell_type": "code",
      "execution_count": 11,
      "metadata": {
        "execution": {
          "iopub.execute_input": "2023-06-20T16:49:01.292515Z",
          "iopub.status.busy": "2023-06-20T16:49:01.292134Z",
          "iopub.status.idle": "2023-06-20T16:49:01.300348Z",
          "shell.execute_reply": "2023-06-20T16:49:01.299205Z",
          "shell.execute_reply.started": "2023-06-20T16:49:01.292484Z"
        },
        "trusted": true,
        "id": "Xv-C13C4PFxv"
      },
      "outputs": [],
      "source": [
        "def circle_path(radius, center, n_images, ax, *args, **kwargs):\n",
        "    x0, y0 = center\n",
        "\n",
        "    pts = np.zeros((n_images, 2))\n",
        "    pts[:, 0] = radius * np.cos(2 * np.pi * np.linspace(1, n_images, num=n_images)/n_images) + x0\n",
        "    pts[:, 1] = radius * np.sin(2 * np.pi * np.linspace(1, n_images, num=n_images)/n_images) + y0\n",
        "\n",
        "    path = decoder.predict(pts, verbose=0).reshape((-1, 28, 28))\n",
        "\n",
        "    for i in range(n_images):\n",
        "        ax.add_artist(AnnotationBbox(OffsetImage(path[i], cmap='binary_r', zoom=0.4), pts[i], frameon=False))"
      ]
    },
    {
      "cell_type": "code",
      "execution_count": 12,
      "metadata": {
        "execution": {
          "iopub.execute_input": "2023-06-20T16:47:54.123031Z",
          "iopub.status.busy": "2023-06-20T16:47:54.122597Z",
          "iopub.status.idle": "2023-06-20T16:47:54.127985Z",
          "shell.execute_reply": "2023-06-20T16:47:54.127097Z",
          "shell.execute_reply.started": "2023-06-20T16:47:54.122992Z"
        },
        "trusted": true,
        "id": "R_i0uiVAPFxv"
      },
      "outputs": [],
      "source": [
        "def clear_artists(ax):\n",
        "    for artist in ax.artists:\n",
        "        artist.remove()"
      ]
    },
    {
      "cell_type": "code",
      "execution_count": null,
      "metadata": {
        "execution": {
          "iopub.execute_input": "2023-06-20T16:53:09.620649Z",
          "iopub.status.busy": "2023-06-20T16:53:09.620262Z",
          "iopub.status.idle": "2023-06-20T16:53:12.065031Z",
          "shell.execute_reply": "2023-06-20T16:53:12.064177Z",
          "shell.execute_reply.started": "2023-06-20T16:53:09.620618Z"
        },
        "trusted": true,
        "id": "y4i7lymGPFxv"
      },
      "outputs": [],
      "source": [
        "clear_artists(ax)\n",
        "\n",
        "circle_path(radius=3, center=(0, -1), n_images=40, ax=ax)\n",
        "circle_path(radius=2.5, center=(0, -1), n_images=35, ax=ax)\n",
        "circle_path(radius=2, center=(0, -1), n_images=30, ax=ax)\n",
        "circle_path(radius=1.5, center=(0, -1), n_images=25, ax=ax)\n",
        "circle_path(radius=1, center=(0, -1), n_images=20, ax=ax)\n",
        "circle_path(radius=0.5, center=(0, -1), n_images=10, ax=ax)\n",
        "circle_path(radius=0, center=(0, -1), n_images=1, ax=ax)\n",
        "\n",
        "fig"
      ]
    },
    {
      "cell_type": "markdown",
      "source": [
        "<font color=\"green\">\n",
        "Atividade (b) <br>\n",
        "Se necessário, redefina os valores de [center], [radius] e [n_images] para que as amostras excursionem por toda a distribuição de códigos. Em outras palavras, não deixe nenhuma região colorida sem amostras.\n",
        "</font>"
      ],
      "metadata": {
        "id": "XXiUdTLcl5Ir"
      }
    },
    {
      "cell_type": "markdown",
      "metadata": {
        "id": "ZBxdhiqgPFxw"
      },
      "source": [
        "### Pre-trained convolutional autoencoder\n",
        "\n",
        "The idea here is to force the encoder to separate the data before the decoder tries to decode the latent space. To do this, we will pre-train the encoder as a classifier, in a supervised manner. After this encoder pre-training, we will pre-train the decoder to decode in this latent space learned by the classifier, freezing the encoder weights. The decoder will present low performance in this pre-training stage, given that the encoder is not flexible. Finally, to improve overall performance, we will fine-tune the entire autoencoder."
      ]
    },
    {
      "cell_type": "code",
      "execution_count": 15,
      "metadata": {
        "execution": {
          "iopub.execute_input": "2023-06-20T15:11:52.680621Z",
          "iopub.status.busy": "2023-06-20T15:11:52.678198Z",
          "iopub.status.idle": "2023-06-20T15:11:52.890421Z",
          "shell.execute_reply": "2023-06-20T15:11:52.889417Z",
          "shell.execute_reply.started": "2023-06-20T15:11:52.680575Z"
        },
        "trusted": true,
        "id": "I8UiKbwkPFxw"
      },
      "outputs": [],
      "source": [
        "encoder = tf.keras.models.Sequential([\n",
        "    Conv2D(8, (3, 3), activation='selu', padding='same', input_shape=(28, 28, 1)),\n",
        "    MaxPooling2D((2, 2), padding='same'),\n",
        "    Conv2D(16, (3, 3), activation='selu', padding='same'),\n",
        "    MaxPooling2D((2, 2), padding='same'),\n",
        "    Conv2D(32, (3, 3), activation='selu', padding='same'),\n",
        "    MaxPooling2D((2, 2), padding='same'),\n",
        "    Conv2D(64, (3, 3), activation='selu', padding='same'),\n",
        "    MaxPooling2D((2, 2), padding='same'),\n",
        "    Conv2D(128, (3, 3), activation='selu', padding='same'),\n",
        "    MaxPooling2D((2, 2), padding='same'),\n",
        "    Conv2D(256, (3, 3), activation='selu', padding='same'),\n",
        "    Flatten(),\n",
        "    Dense(2),\n",
        "\n",
        "], name='encoder')\n",
        "\n",
        "# Define the decoder\n",
        "decoder = tf.keras.models.Sequential([\n",
        "    Dense(256, activation='relu', input_shape=(2,)),\n",
        "    Reshape((1, 1, 256)),\n",
        "    Conv2DTranspose(128, (3, 3), strides=(2, 2), activation='selu'),\n",
        "    Conv2DTranspose(64, (3, 3), strides=(2, 2), activation='selu'),\n",
        "    Conv2DTranspose(32, (3, 3), strides=(2, 2), padding='same', activation='selu'),\n",
        "    Conv2DTranspose(16, (3, 3), strides=(2, 2), padding='same', activation='selu'),\n",
        "    Conv2D(8, (3, 3), padding='same', activation='selu'),\n",
        "    Conv2D(1, (3, 3), padding='same', activation=None),\n",
        "], name='decoder')"
      ]
    },
    {
      "cell_type": "code",
      "execution_count": null,
      "metadata": {
        "execution": {
          "iopub.execute_input": "2023-06-20T16:54:24.089095Z",
          "iopub.status.busy": "2023-06-20T16:54:24.088371Z",
          "iopub.status.idle": "2023-06-20T16:55:47.743607Z",
          "shell.execute_reply": "2023-06-20T16:55:47.742631Z",
          "shell.execute_reply.started": "2023-06-20T16:54:24.089055Z"
        },
        "trusted": true,
        "id": "gnxe4QYPPFxw"
      },
      "outputs": [],
      "source": [
        "pre_train_encoder = Sequential([encoder, Dense(10, 'softmax')])\n",
        "\n",
        "pre_train_encoder.compile(optimizer='adam', loss='sparse_categorical_crossentropy')\n",
        "\n",
        "history = pre_train_encoder.fit(X.reshape((-1, 28, 28, 1)), y_train, batch_size = 128, epochs = 20, verbose = 0, callbacks=[TqdmCallback(verbose=1)])"
      ]
    },
    {
      "cell_type": "code",
      "execution_count": null,
      "metadata": {
        "execution": {
          "iopub.execute_input": "2023-06-20T16:55:47.746554Z",
          "iopub.status.busy": "2023-06-20T16:55:47.745628Z",
          "iopub.status.idle": "2023-06-20T16:57:01.394615Z",
          "shell.execute_reply": "2023-06-20T16:57:01.393598Z",
          "shell.execute_reply.started": "2023-06-20T16:55:47.746520Z"
        },
        "trusted": true,
        "id": "n9HomFWVPFxw"
      },
      "outputs": [],
      "source": [
        "pre_train_decoder = Sequential([decoder])\n",
        "\n",
        "x_proj = encoder.predict(X.reshape((-1, 28, 28, 1)), verbose=0)\n",
        "\n",
        "pre_train_decoder.compile(optimizer='adam', loss='mse')\n",
        "\n",
        "history = pre_train_decoder.fit(x_proj, X.reshape((-1, 28, 28, 1)), batch_size = 128, epochs = 20, verbose = 0, callbacks=[TqdmCallback(verbose=1)])"
      ]
    },
    {
      "cell_type": "code",
      "execution_count": null,
      "metadata": {
        "execution": {
          "iopub.execute_input": "2023-06-20T16:57:40.329437Z",
          "iopub.status.busy": "2023-06-20T16:57:40.328372Z",
          "iopub.status.idle": "2023-06-20T17:02:05.118717Z",
          "shell.execute_reply": "2023-06-20T17:02:05.117516Z",
          "shell.execute_reply.started": "2023-06-20T16:57:40.329404Z"
        },
        "trusted": true,
        "id": "GwcKxZAnPFxw"
      },
      "outputs": [],
      "source": [
        "autoencoder = Sequential([encoder, decoder])\n",
        "\n",
        "autoencoder.compile(optimizer = Adam(learning_rate=1e-10), loss='mse')\n",
        "\n",
        "history = autoencoder.fit(X.reshape((-1, 28, 28, 1)), X.reshape((-1, 28, 28, 1)), batch_size = 128, epochs = 50, verbose = 0, callbacks=[TqdmCallback(verbose=1)])"
      ]
    },
    {
      "cell_type": "code",
      "execution_count": null,
      "metadata": {
        "execution": {
          "iopub.execute_input": "2023-06-20T17:02:18.390956Z",
          "iopub.status.busy": "2023-06-20T17:02:18.390601Z",
          "iopub.status.idle": "2023-06-20T17:02:18.810973Z",
          "shell.execute_reply": "2023-06-20T17:02:18.809900Z",
          "shell.execute_reply.started": "2023-06-20T17:02:18.390928Z"
        },
        "trusted": true,
        "id": "YfYOZpyePFxw"
      },
      "outputs": [],
      "source": [
        "plot_df = pd.DataFrame.from_dict({'train_loss':history.history['loss']})\n",
        "plot_df.plot(logy=True, figsize=(15,5), fontsize=12)\n",
        "plt.xlabel('epoch', fontsize=12)\n",
        "plt.ylabel('loss', fontsize=12)\n",
        "plt.show()"
      ]
    },
    {
      "cell_type": "code",
      "execution_count": null,
      "metadata": {
        "execution": {
          "iopub.execute_input": "2023-06-20T17:02:22.077748Z",
          "iopub.status.busy": "2023-06-20T17:02:22.077367Z",
          "iopub.status.idle": "2023-06-20T17:02:56.135740Z",
          "shell.execute_reply": "2023-06-20T17:02:56.134720Z",
          "shell.execute_reply.started": "2023-06-20T17:02:22.077718Z"
        },
        "trusted": true,
        "id": "h70ol_qFPFxw"
      },
      "outputs": [],
      "source": [
        "fig = plt.figure(figsize=(28,28))\n",
        "\n",
        "decoded_images = decoder.predict(x_proj, verbose=False)\n",
        "\n",
        "ind = 1\n",
        "for i in range(1, 26, 1):\n",
        "    for j in range(1, 26, 1):\n",
        "        fig.add_subplot(25, 25, ind)\n",
        "        plt.imshow(decoded_images[ind].reshape((28,28)), cmap = \"gray\", interpolation = \"none\")\n",
        "        plt.xticks([])\n",
        "        plt.yticks([])\n",
        "        ind+=1"
      ]
    },
    {
      "cell_type": "code",
      "execution_count": null,
      "metadata": {
        "execution": {
          "iopub.execute_input": "2023-06-20T17:03:39.628495Z",
          "iopub.status.busy": "2023-06-20T17:03:39.628094Z",
          "iopub.status.idle": "2023-06-20T17:03:40.761267Z",
          "shell.execute_reply": "2023-06-20T17:03:40.760380Z",
          "shell.execute_reply.started": "2023-06-20T17:03:39.628439Z"
        },
        "trusted": true,
        "id": "ORMzUD7vPFxx"
      },
      "outputs": [],
      "source": [
        "fig, ax = plt.subplots(dpi=150)\n",
        "\n",
        "for i in range(10):\n",
        "    ax.scatter(*x_proj[y_train == i].T, label=i, s=2)\n",
        "\n",
        "\n",
        "ax.legend(bbox_to_anchor=(1.04, 1))\n",
        "ax.set_xlabel('comp 1')\n",
        "ax.set_ylabel('comp 2')\n",
        "ax.set_aspect('equal', 'box')\n",
        "\n",
        "plt.show()"
      ]
    },
    {
      "cell_type": "code",
      "execution_count": null,
      "metadata": {
        "execution": {
          "iopub.execute_input": "2023-06-20T17:03:49.349931Z",
          "iopub.status.busy": "2023-06-20T17:03:49.349547Z",
          "iopub.status.idle": "2023-06-20T17:03:52.551048Z",
          "shell.execute_reply": "2023-06-20T17:03:52.550168Z",
          "shell.execute_reply.started": "2023-06-20T17:03:49.349898Z"
        },
        "trusted": true,
        "id": "ETvgwT9-PFxx"
      },
      "outputs": [],
      "source": [
        "clear_artists(ax)\n",
        "\n",
        "circle_path(radius=180, center=(0, 0), n_images=60, ax=ax)\n",
        "circle_path(radius=120, center=(0, 0), n_images=30, ax=ax)\n",
        "circle_path(radius=70, center=(0, 0), n_images=20, ax=ax)\n",
        "circle_path(radius=0, center=(0, 0), n_images=1, ax=ax)\n",
        "\n",
        "fig"
      ]
    },
    {
      "cell_type": "markdown",
      "source": [
        "<font color=\"green\">\n",
        "Atividade (c) <br>\n",
        "Se necessário, redefina os valores de [center], [radius] e [n_images] para que as amostras excursionem por toda a distribuição de códigos. Em outras palavras, não deixe nenhuma região colorida sem amostras.\n",
        "</font>"
      ],
      "metadata": {
        "id": "k0oGZOMcvgQT"
      }
    },
    {
      "cell_type": "markdown",
      "source": [
        "<font color=\"green\">\n",
        "Atividade (d) <br>\n",
        "Qual foi a estratégia adotada para que o código do autoencoder fizesse o desemaranhamento (disentanglement) das classes? É sempre possível adotar esta estratégia ao se treinar um autoencoder?\n",
        "</font>"
      ],
      "metadata": {
        "id": "PT0WcbqUv3LJ"
      }
    },
    {
      "cell_type": "markdown",
      "source": [
        "**Resposta:**"
      ],
      "metadata": {
        "id": "ullJp6h9wGcz"
      }
    }
  ],
  "metadata": {
    "accelerator": "GPU",
    "colab": {
      "provenance": []
    },
    "kernelspec": {
      "display_name": "Python 3",
      "language": "python",
      "name": "python3"
    },
    "language_info": {
      "codemirror_mode": {
        "name": "ipython",
        "version": 3
      },
      "file_extension": ".py",
      "mimetype": "text/x-python",
      "name": "python",
      "nbconvert_exporter": "python",
      "pygments_lexer": "ipython3",
      "version": "3.8.10 (default, May 26 2023, 14:05:08) \n[GCC 9.4.0]"
    },
    "vscode": {
      "interpreter": {
        "hash": "916dbcbb3f70747c44a77c7bcd40155683ae19c65e1c03b4aa3499c5328201f1"
      }
    }
  },
  "nbformat": 4,
  "nbformat_minor": 0
}
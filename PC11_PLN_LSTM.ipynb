{
  "cells": [
    {
      "cell_type": "markdown",
      "metadata": {
        "id": "xMsNyA3WPrER"
      },
      "source": [
        "##**Notebook PC#11**\n",
        "\n",
        "## Encoder-Decoder LSTM for Natural Language Processing.\n",
        "\n",
        "**Professor:** Fernando J. Von Zuben <br>\n",
        "**Aluno(a):** <br>\n",
        "**Aluno(a):**"
      ]
    },
    {
      "cell_type": "code",
      "execution_count": null,
      "metadata": {
        "id": "1xumdIFHDdrn"
      },
      "outputs": [],
      "source": [
        "from random import seed\n",
        "from random import randint\n",
        "from numpy import array\n",
        "from numpy import argmax"
      ]
    },
    {
      "cell_type": "code",
      "execution_count": null,
      "metadata": {
        "id": "fspvFmS6Ddro"
      },
      "outputs": [],
      "source": [
        "def random_sum_pairs(n_examples, n_numbers, largest):\n",
        "    X,y = list(), list()\n",
        "    for i in range(n_examples):\n",
        "        in_pattern=[randint(1,largest) for _ in range(n_numbers)]\n",
        "        out_pattern = sum(in_pattern)\n",
        "        X.append(in_pattern)\n",
        "        y.append(out_pattern)\n",
        "    return X,y"
      ]
    },
    {
      "cell_type": "code",
      "execution_count": null,
      "metadata": {
        "id": "zzr9HXh8Ddrp"
      },
      "outputs": [],
      "source": [
        "seed(1)\n",
        "n_samples =1\n",
        "n_numbers = 2\n",
        "largest = 10\n",
        "X,y = random_sum_pairs(n_samples, n_numbers, largest)\n",
        "print(X,y)"
      ]
    },
    {
      "cell_type": "code",
      "execution_count": null,
      "metadata": {
        "id": "QWTgrmmuDdrp"
      },
      "outputs": [],
      "source": [
        "from math import ceil\n",
        "from math import log10"
      ]
    },
    {
      "cell_type": "code",
      "execution_count": null,
      "metadata": {
        "id": "NbBlwQTvDdrp"
      },
      "outputs": [],
      "source": [
        "def to_string(X,y,n_numbers,largest):\n",
        "    max_length = n_numbers*ceil(log10(largest+1)) + n_numbers - 1\n",
        "    Xstr = list()\n",
        "    for pattern in X:\n",
        "        strp = '+'.join([str(n) for n in pattern])\n",
        "        strp = ''.join([' ' for _ in range(max_length-len(strp))]) + strp\n",
        "        Xstr.append(strp)\n",
        "    maxlength = ceil(log10(n_numbers*(largest+1)))\n",
        "    ystr = list()\n",
        "    for pattern in y:\n",
        "        strp = str(pattern)\n",
        "        strp = ''.join([' 'for _ in range(maxlength-len(strp))]) + strp\n",
        "        ystr.append(strp)\n",
        "    return Xstr, ystr"
      ]
    },
    {
      "cell_type": "code",
      "execution_count": null,
      "metadata": {
        "id": "fAVqEpSsDdrq"
      },
      "outputs": [],
      "source": [
        "seed(1)\n",
        "n_samples = 1\n",
        "n_numbers = 2\n",
        "largest = 10"
      ]
    },
    {
      "cell_type": "code",
      "execution_count": null,
      "metadata": {
        "id": "u-m3UD5uDdrq"
      },
      "outputs": [],
      "source": [
        "X,y = random_sum_pairs(n_samples, n_numbers, largest)\n",
        "print(X,y)\n",
        "\n",
        "X,y = to_string(X,y,n_numbers,largest)\n",
        "print(X,y)"
      ]
    },
    {
      "cell_type": "code",
      "execution_count": null,
      "metadata": {
        "id": "qwQXLtpfDdrq"
      },
      "outputs": [],
      "source": [
        "alphabet = ['0','1','2','3','4','5','6','7','8','9','+',' ']"
      ]
    },
    {
      "cell_type": "code",
      "execution_count": null,
      "metadata": {
        "id": "GXKcXm8JDdrq"
      },
      "outputs": [],
      "source": [
        "def integer_encode(X,y,alphabet):\n",
        "    char_to_int = dict((c,i) for i,c in enumerate(alphabet))\n",
        "    Xenc = list()\n",
        "    for pattern in X:\n",
        "        integer_encoded = [char_to_int[char] for char in pattern]\n",
        "        Xenc.append(integer_encoded)\n",
        "    yenc = list()\n",
        "    for pattern in y:\n",
        "        integer_encoded = [char_to_int[char] for char in pattern]\n",
        "        yenc.append(integer_encoded)\n",
        "    return Xenc, yenc"
      ]
    },
    {
      "cell_type": "code",
      "execution_count": null,
      "metadata": {
        "id": "BjD9y1M2Ddrr"
      },
      "outputs": [],
      "source": [
        "X,y = integer_encode(X,y,alphabet)"
      ]
    },
    {
      "cell_type": "code",
      "execution_count": null,
      "metadata": {
        "id": "v02pwsYYDdrr"
      },
      "outputs": [],
      "source": [
        "print(X,y)"
      ]
    },
    {
      "cell_type": "code",
      "execution_count": null,
      "metadata": {
        "id": "vad64QkqDdrr"
      },
      "outputs": [],
      "source": [
        "def one_hot_encode(X,y,max_int):\n",
        "    Xenc = list()\n",
        "    for seq in X:\n",
        "        pattern = list()\n",
        "        for index in seq:\n",
        "            vector = [0 for _ in range(max_int)]\n",
        "            vector[index] = 1\n",
        "            pattern.append(vector)\n",
        "        Xenc.append(pattern)\n",
        "\n",
        "    yenc = list()\n",
        "    for seq in y:\n",
        "        pattern = list()\n",
        "        for index in seq:\n",
        "            vector = [0 for _ in range(max_int)]\n",
        "            vector[index] = 1\n",
        "            pattern.append(vector)\n",
        "        yenc.append(pattern)\n",
        "    return Xenc, yenc"
      ]
    },
    {
      "cell_type": "code",
      "execution_count": null,
      "metadata": {
        "id": "W_tCfgMPDdrr"
      },
      "outputs": [],
      "source": [
        "X,y = one_hot_encode(X,y,len(alphabet))"
      ]
    },
    {
      "cell_type": "code",
      "execution_count": null,
      "metadata": {
        "id": "R7VdCFIgDdrr"
      },
      "outputs": [],
      "source": [
        "print(X,y)"
      ]
    },
    {
      "cell_type": "code",
      "execution_count": null,
      "metadata": {
        "id": "xVdn4BqyDdrs"
      },
      "outputs": [],
      "source": [
        "def generate_data(n_samples,n_numbers, largest, alphabet):\n",
        "    X,y = random_sum_pairs(n_samples,n_numbers,largest)\n",
        "    X,y = to_string(X,y,n_numbers,largest)\n",
        "    X,y = integer_encode(X,y,alphabet)\n",
        "    X,y = one_hot_encode(X,y,len(alphabet))\n",
        "    X,y = array(X), array(y)\n",
        "    return X,y"
      ]
    },
    {
      "cell_type": "code",
      "execution_count": null,
      "metadata": {
        "id": "RDp9JqNkDdrs"
      },
      "outputs": [],
      "source": [
        "def invert(seq,alphabet):\n",
        "    int_to_char = dict((i,c) for i,c in enumerate(alphabet))\n",
        "    strings  = list()\n",
        "    for pattern in seq:\n",
        "        string = int_to_char[argmax(pattern)]\n",
        "        strings.append(string)\n",
        "    return ''.join(strings)"
      ]
    },
    {
      "cell_type": "code",
      "execution_count": null,
      "metadata": {
        "id": "7BqRNPCkDdrs"
      },
      "outputs": [],
      "source": [
        "n_terms = 3\n",
        "largest = 10\n",
        "alphabet = [str(x) for x in range(10)] + ['+', ' ']"
      ]
    },
    {
      "cell_type": "code",
      "execution_count": null,
      "metadata": {
        "id": "PijAMEFxDdrs"
      },
      "outputs": [],
      "source": [
        "n_chars = len(alphabet)\n",
        "n_in_seq_length = n_terms*ceil(log10(largest+1)) +n_terms-1\n",
        "n_out_seq_length = ceil(log10(n_terms*(largest+1)))"
      ]
    },
    {
      "cell_type": "code",
      "execution_count": null,
      "metadata": {
        "id": "RR9pPe1oDdrs"
      },
      "outputs": [],
      "source": [
        "from keras.models import Sequential\n",
        "from keras.layers import LSTM\n",
        "from keras.layers import RepeatVector\n",
        "from keras.layers import TimeDistributed\n",
        "from keras.layers import Dense"
      ]
    },
    {
      "cell_type": "code",
      "execution_count": null,
      "metadata": {
        "id": "Gxs5FSIwDdrs"
      },
      "outputs": [],
      "source": [
        "model = Sequential()\n",
        "model.add(LSTM(75, input_shape=(n_in_seq_length,n_chars)))\n",
        "model.add(RepeatVector(n_out_seq_length))\n",
        "model.add(LSTM(50,return_sequences=True))\n",
        "model.add(TimeDistributed(Dense(n_chars,activation='softmax')))\n",
        "model.compile(loss='categorical_crossentropy',optimizer='adam',metrics=['accuracy'])\n",
        "print(model.summary())"
      ]
    },
    {
      "cell_type": "code",
      "execution_count": null,
      "metadata": {
        "id": "vG1QwiwFDdrt"
      },
      "outputs": [],
      "source": [
        "X,y = generate_data(75000,n_terms,largest,alphabet)\n",
        "model.fit(X,y,epochs=1,batch_size=10)"
      ]
    },
    {
      "cell_type": "code",
      "execution_count": null,
      "metadata": {
        "id": "pBWMp85oDdrt"
      },
      "outputs": [],
      "source": [
        "X,y = generate_data(100,n_terms,largest,alphabet)\n",
        "loss,acc = model.evaluate(X,y,verbose=0)\n",
        "print('Loss: %f, Accuracy: %f' %(loss,acc*100))"
      ]
    },
    {
      "cell_type": "code",
      "execution_count": null,
      "metadata": {
        "id": "XjorRbDxDdrt"
      },
      "outputs": [],
      "source": [
        "for _ in range(10):\n",
        "    X,y = generate_data(1,n_terms,largest,alphabet)\n",
        "    yhat = model.predict(X,verbose=0)\n",
        "    in_seq = invert(X[0],alphabet)\n",
        "    out_seq = invert(y[0],alphabet)\n",
        "    predicted = invert(yhat[0],alphabet)\n",
        "    print('%s = %s (expect %s)' %(in_seq,predicted,out_seq))"
      ]
    },
    {
      "cell_type": "markdown",
      "source": [
        "<font color=\"green\">\n",
        "Atividade (a) <br>\n",
        "Como são gerados os dados de treinamento?\n",
        "</font>"
      ],
      "metadata": {
        "id": "mulXq9ZZKkX5"
      }
    },
    {
      "cell_type": "markdown",
      "source": [
        "**Resposta:**"
      ],
      "metadata": {
        "id": "BGsvW_2eTpfB"
      }
    },
    {
      "cell_type": "markdown",
      "source": [
        "<font color=\"green\">\n",
        "Atividade (b) <br>\n",
        "Como uma calculadora simples pode operar baseada no conceito de tradução de frases, ou seja, sem realizar operações algébricas?\n",
        "</font>"
      ],
      "metadata": {
        "id": "Fn1TbpOT_ew-"
      }
    },
    {
      "cell_type": "markdown",
      "source": [
        "**Resposta:**"
      ],
      "metadata": {
        "id": "8xRF9vul_ew_"
      }
    }
  ],
  "metadata": {
    "kernelspec": {
      "display_name": "Python 3",
      "language": "python",
      "name": "python3"
    },
    "language_info": {
      "codemirror_mode": {
        "name": "ipython",
        "version": 3
      },
      "file_extension": ".py",
      "mimetype": "text/x-python",
      "name": "python",
      "nbconvert_exporter": "python",
      "pygments_lexer": "ipython3",
      "version": "3.6.9"
    },
    "colab": {
      "provenance": []
    }
  },
  "nbformat": 4,
  "nbformat_minor": 0
}
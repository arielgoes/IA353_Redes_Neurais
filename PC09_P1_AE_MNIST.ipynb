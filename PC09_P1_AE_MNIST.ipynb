{
  "cells": [
    {
      "cell_type": "markdown",
      "metadata": {
        "id": "xMsNyA3WPrER"
      },
      "source": [
        "##**Notebook PC#09 - Part 1**\n",
        "## Autoencoder training and manifold visualization for the MNIST database.\n",
        "## Partially based on [this material](https://www.kaggle.com/apapiu/manifold-learning-and-autoencoders).\n",
        "\n",
        "**Professor:** Fernando J. Von Zuben <br>\n",
        "**Aluno(a):** Ariel Góes de Castro <br>\n",
        "**Aluno(a):** Francisco Germano Vogt"
      ]
    },
    {
      "cell_type": "markdown",
      "metadata": {
        "id": "38Y-8dz2lzfp"
      },
      "source": [
        "### Loading the main libraries"
      ]
    },
    {
      "cell_type": "code",
      "execution_count": 1,
      "metadata": {
        "id": "pxQ9xKtUlzfq"
      },
      "outputs": [],
      "source": [
        "import tensorflow as tf\n",
        "import os\n",
        "\n",
        "import warnings\n",
        "warnings.filterwarnings('ignore')\n",
        "\n",
        "import numpy as np\n",
        "import pandas as pd\n",
        "import matplotlib.pyplot as plt\n",
        "\n",
        "from keras.models import Sequential, Model\n",
        "from keras.layers import Dense, Dropout, Convolution2D, MaxPooling2D, Flatten, Input\n",
        "from tensorflow.keras.optimizers import Adam\n",
        "from tensorflow.keras import utils\n",
        "from keras.utils import to_categorical"
      ]
    },
    {
      "cell_type": "markdown",
      "metadata": {
        "id": "kux7rdXClzfr"
      },
      "source": [
        "### Reading the data"
      ]
    },
    {
      "cell_type": "code",
      "execution_count": null,
      "metadata": {
        "id": "LvMYCDnWlzfr"
      },
      "outputs": [],
      "source": [
        "mnist = tf.keras.datasets.mnist\n",
        "(x_train, y_train),(x_test, y_test) = mnist.load_data()"
      ]
    },
    {
      "cell_type": "code",
      "execution_count": 3,
      "metadata": {
        "id": "bKFgJi_Llzfs"
      },
      "outputs": [],
      "source": [
        "x_train, x_test = x_train / 255.0, x_test / 255.0"
      ]
    },
    {
      "cell_type": "code",
      "execution_count": 4,
      "metadata": {
        "id": "wtznfWhrlzfs"
      },
      "outputs": [],
      "source": [
        "x_images = x_train.reshape(x_train.shape[0], 28, 28)"
      ]
    },
    {
      "cell_type": "code",
      "execution_count": 5,
      "metadata": {
        "id": "hI6x_iDmlzft"
      },
      "outputs": [],
      "source": [
        "# Definition of a function to visualize some digits\n",
        "def show(img):\n",
        "    plt.imshow(img, cmap = \"gray\", interpolation = \"none\")"
      ]
    },
    {
      "cell_type": "code",
      "execution_count": null,
      "metadata": {
        "id": "LbuDdsaxlzfu"
      },
      "outputs": [],
      "source": [
        "# Visualization of 25 x 25 original images of digits\n",
        "fig = plt.figure(figsize=(28,28))\n",
        "ind = 1\n",
        "for i in range(1, 26, 1):\n",
        "    for j in range(1, 26, 1):\n",
        "        fig.add_subplot(25,25,ind)\n",
        "        show(x_images[ind])\n",
        "        plt.xticks([])\n",
        "        plt.yticks([])\n",
        "        ind+=1"
      ]
    },
    {
      "cell_type": "markdown",
      "metadata": {
        "id": "PS-8mlKUlzfu"
      },
      "source": [
        "### Proposal for the autoencoder architecture"
      ]
    },
    {
      "cell_type": "code",
      "execution_count": null,
      "metadata": {
        "id": "dK8eJ6MGlzfu"
      },
      "outputs": [],
      "source": [
        "input_img = Input(shape=(784,))\n",
        "\n",
        "encoded = Dense(512, activation='tanh')(input_img)\n",
        "encoded = Dense(128, activation='tanh')(encoded)\n",
        "encoded = Dense(32, activation='tanh')(encoded)\n",
        "\n",
        "encoded = Dense(2)(encoded) # Linear activation function at the bottleneck\n",
        "\n",
        "decoded = Dense(32, activation='tanh')(encoded)\n",
        "decoded = Dense(128, activation='tanh')(decoded)\n",
        "decoded = Dense(512, activation='tanh')(decoded)\n",
        "\n",
        "decoded = Dense(784, activation = 'sigmoid')(decoded)\n",
        "\n",
        "autoencoder = Model(input_img, decoded)\n",
        "autoencoder.summary()"
      ]
    },
    {
      "cell_type": "code",
      "execution_count": null,
      "metadata": {
        "id": "A25jzQE2lzfv"
      },
      "outputs": [],
      "source": [
        "autoencoder.compile(optimizer = \"adam\", loss = \"mse\")\n",
        "X = x_train.reshape(x_train.shape[0], 784)\n",
        "history = autoencoder.fit(X, X, batch_size = 128, epochs = 50, verbose = 1)"
      ]
    },
    {
      "cell_type": "code",
      "execution_count": null,
      "metadata": {
        "id": "9lJc0reWlzfv"
      },
      "outputs": [],
      "source": [
        "plot_df = pd.DataFrame.from_dict({'train_loss':history.history['loss']})\n",
        "plot_df.plot(logy=True, figsize=(15,5), fontsize=12)\n",
        "plt.xlabel('epoch', fontsize=12)\n",
        "plt.ylabel('loss', fontsize=12)\n",
        "plt.show()"
      ]
    },
    {
      "cell_type": "code",
      "execution_count": null,
      "metadata": {
        "id": "4Qw9up5plzfw",
        "scrolled": true
      },
      "outputs": [],
      "source": [
        "# Visualization of 25 x 25 reconstructed images of digits\n",
        "fig = plt.figure(figsize=(28,28))\n",
        "ind = 1\n",
        "for i in range(1, 26, 1):\n",
        "    for j in range(1, 26, 1):\n",
        "        fig.add_subplot(25,25,ind)\n",
        "        show(autoencoder.predict(np.expand_dims(x_images[ind].flatten(), 0), verbose = False).reshape(28, 28))\n",
        "        plt.xticks([])\n",
        "        plt.yticks([])\n",
        "        ind+=1"
      ]
    },
    {
      "cell_type": "code",
      "execution_count": 11,
      "metadata": {
        "id": "d5OdSZQflzfw"
      },
      "outputs": [],
      "source": [
        "encoder = Model(input_img, encoded)\n",
        "\n",
        "# Building the decoder\n",
        "encoded_input = Input(shape=(2,))\n",
        "encoded_layer_1 = autoencoder.layers[-4]\n",
        "encoded_layer_2 = autoencoder.layers[-3]\n",
        "encoded_layer_3 = autoencoder.layers[-2]\n",
        "encoded_layer_4 = autoencoder.layers[-1]\n",
        "\n",
        "decoder = encoded_layer_1(encoded_input)\n",
        "decoder = encoded_layer_2(decoder)\n",
        "decoder = encoded_layer_3(decoder)\n",
        "decoder = encoded_layer_4(decoder)\n",
        "decoder = Model(encoded_input, decoder)"
      ]
    },
    {
      "cell_type": "markdown",
      "metadata": {
        "id": "XBjV7gF0lzfw"
      },
      "source": [
        "### Visualizing the images in the manifold"
      ]
    },
    {
      "cell_type": "code",
      "execution_count": null,
      "metadata": {
        "_cell_guid": "18294c61-7ee2-4ac1-5ab0-a4e9035c7a30",
        "_uuid": "fde6d4c8694272391db41983762aa398f1e884d2",
        "id": "7Fmm3Rixlzfw"
      },
      "outputs": [],
      "source": [
        "# Using encoder to visualize the manifold\n",
        "\n",
        "import seaborn as sns\n",
        "\n",
        "x_flat = x_train.reshape(x_train.shape[0], x_train.shape[1] * x_train.shape[2])\n",
        "\n",
        "x_proj = encoder.predict(x_flat[:60000])\n",
        "x_proj.shape\n",
        "\n",
        "proj = pd.DataFrame(x_proj)\n",
        "proj.columns = [\"comp_1\", \"comp_2\"]\n",
        "proj[\"labels\"] = y_train[:60000]\n",
        "sns.lmplot(x = \"comp_1\", y = \"comp_2\", hue=\"labels\", data=proj, fit_reg=False, logx = True)"
      ]
    },
    {
      "cell_type": "markdown",
      "metadata": {
        "id": "xCCMRY9Zlzfx"
      },
      "source": [
        "### Generating new digits by moving along the manifold (latent 2D space)\n",
        "**Please, adjust the scale whenever necessary.**"
      ]
    },
    {
      "cell_type": "markdown",
      "metadata": {
        "id": "779r0Gtnlzfx"
      },
      "source": [
        "### Moving along a circle"
      ]
    },
    {
      "cell_type": "code",
      "execution_count": null,
      "metadata": {
        "id": "_lUx3FEYlzfx"
      },
      "outputs": [],
      "source": [
        "_ = sns.lmplot(x = \"comp_1\", y = \"comp_2\", hue=\"labels\", data=proj, fit_reg=False)\n",
        "all_x = [4 * np.cos(2 * np.pi / 100 * i) + 2 for i in range(100)]\n",
        "all_y = [4 * np.sin(2 * np.pi / 100 * i) - 1 for i in range(100)]\n",
        "_ = plt.plot(all_x, all_y, 'black')"
      ]
    },
    {
      "cell_type": "code",
      "execution_count": null,
      "metadata": {
        "id": "1j2HbnRtlzfx"
      },
      "outputs": [],
      "source": [
        "# moving along a circle:\n",
        "_ = plt.figure(figsize=(10, 10))\n",
        "\n",
        "for i in range(100):\n",
        "    _ = plt.subplot(10, 10, i+1)\n",
        "\n",
        "    x = 4 * np.cos(2 * np.pi / 100 * i) + 2\n",
        "    y = 4 * np.sin(2 * np.pi / 100 * i) - 1\n",
        "\n",
        "    pt = np.array([[x, y]])\n",
        "    _ = show(decoder.predict(pt, verbose = False).reshape((28, 28)))\n",
        "    _ = plt.xticks([])\n",
        "    _ = plt.yticks([])"
      ]
    },
    {
      "cell_type": "markdown",
      "metadata": {
        "id": "6EnOzuuUlzfy"
      },
      "source": [
        "### Moving along an ellipse"
      ]
    },
    {
      "cell_type": "code",
      "execution_count": null,
      "metadata": {
        "id": "gpJhxREwlzfy"
      },
      "outputs": [],
      "source": [
        "_ = sns.lmplot(x = \"comp_1\", y = \"comp_2\", hue=\"labels\", data=proj, fit_reg=False)\n",
        "all_x = [5 * np.cos(2 * np.pi / 100 * i) + 3 for i in range(100)]\n",
        "all_y = [1 * np.sin(2 * np.pi / 100 * i) + 0 for i in range(100)]\n",
        "_ = plt.plot(all_x, all_y, 'black')"
      ]
    },
    {
      "cell_type": "code",
      "execution_count": null,
      "metadata": {
        "id": "WDFbGfu8lzfy"
      },
      "outputs": [],
      "source": [
        "# Moving along an ellipse:\n",
        "_ = plt.figure(figsize=(10, 10))\n",
        "\n",
        "for i in range(100):\n",
        "    _ = plt.subplot(10, 10, i+1)\n",
        "\n",
        "    x = 5 * np.cos(2 * np.pi / 100 * i) + 3\n",
        "    y = 1 * np.sin(2 * np.pi / 100 * i) + 0\n",
        "\n",
        "    pt = np.array([[x, y]])\n",
        "    _ = show(decoder.predict(pt, verbose = False).reshape((28, 28)))\n",
        "    _ = plt.xticks([])\n",
        "    _ = plt.yticks([])"
      ]
    },
    {
      "cell_type": "markdown",
      "metadata": {
        "id": "cmjTaW11lzfy"
      },
      "source": [
        "### Moving along a grid"
      ]
    },
    {
      "cell_type": "code",
      "execution_count": null,
      "metadata": {
        "id": "U4u9CUkmMH08"
      },
      "outputs": [],
      "source": [
        "pt_x = []\n",
        "pt_y = []\n",
        "for i in range(20):\n",
        "    for j in range(20):\n",
        "        pt_x.append(-6 + 10 * i / 19)\n",
        "        pt_y.append(-6 + 10 * j / 19)\n",
        "_ = sns.lmplot(x = \"comp_1\", y = \"comp_2\", hue=\"labels\", data=proj, fit_reg=False)\n",
        "_ = sns.scatterplot(x = pt_x,y = pt_y, color = 'black', size = 0.5, legend = False )"
      ]
    },
    {
      "cell_type": "code",
      "execution_count": null,
      "metadata": {
        "id": "uwpNme0glzfy"
      },
      "outputs": [],
      "source": [
        "# Moving along a grid:\n",
        "_ = plt.figure(figsize=(12, 12))\n",
        "\n",
        "for i in range(20):\n",
        "    for j in range(20):\n",
        "\n",
        "        _ = plt.subplot(20, 20, i * 20 + j + 1)\n",
        "\n",
        "        pt = np.array([[ -6 + 10 * i / 19, -6 + 10 * j / 19]])\n",
        "        _ = show(decoder.predict(pt, verbose = False).reshape((28, 28)))\n",
        "        _ = plt.xticks([])\n",
        "        _ = plt.yticks([])"
      ]
    }
  ],
  "metadata": {
    "accelerator": "GPU",
    "colab": {
      "provenance": []
    },
    "kernelspec": {
      "display_name": "Python 3",
      "language": "python",
      "name": "python3"
    },
    "language_info": {
      "codemirror_mode": {
        "name": "ipython",
        "version": 3
      },
      "file_extension": ".py",
      "mimetype": "text/x-python",
      "name": "python",
      "nbconvert_exporter": "python",
      "pygments_lexer": "ipython3",
      "version": "3.7.4"
    }
  },
  "nbformat": 4,
  "nbformat_minor": 0
}

{
  "cells": [
    {
      "cell_type": "markdown",
      "metadata": {
        "id": "xMsNyA3WPrER"
      },
      "source": [
        "# **Notebook PC#04 (Part B)**\n",
        "# MLP classifier for the CIFAR-10 database.\n",
        "#### Grid search for the hyperparameters. Code produced by previous students of IA353. Thank you for making PC#04 still more complete and informative.\n",
        "**Professor:** Fernando J. Von Zuben <br>\n",
        "**Aluno(a):** Ariel Góes de Castro <br>\n",
        "**Aluno(a):** Francisco Germano Vogt <br>"
      ]
    },
    {
      "cell_type": "code",
      "execution_count": 1,
      "metadata": {
        "id": "feKIgQlnaT7U"
      },
      "outputs": [
        {
          "name": "stderr",
          "output_type": "stream",
          "text": [
            "2024-04-10 21:18:50.383041: I tensorflow/stream_executor/platform/default/dso_loader.cc:49] Successfully opened dynamic library libcudart.so.10.1\n"
          ]
        }
      ],
      "source": [
        "import matplotlib.pyplot as plt\n",
        "from tqdm.notebook import tqdm\n",
        "import tensorflow as tf\n",
        "import pandas as pd\n",
        "import numpy as np\n",
        "import os\n",
        "import gc\n",
        "\n",
        "cifar10 = tf.keras.datasets.cifar10\n",
        "\n",
        "(x_train, y_train),(x_test, y_test) = cifar10.load_data()\n",
        "x_train, x_test = x_train / 255.0, x_test / 255.0"
      ]
    },
    {
      "cell_type": "code",
      "execution_count": 2,
      "metadata": {
        "id": "MH_I88sRYMQR"
      },
      "outputs": [],
      "source": [
        "def model_and_evaluate(n_neurons = 512,\n",
        "                       n_layers  = 1,\n",
        "                       dropout   = 0.25,\n",
        "                       epochs    = 5,\n",
        "                       optimizer = 'adam',\n",
        "                       verbose   = 1):\n",
        "    gc.collect()\n",
        "    tf.keras.backend.clear_session()\n",
        "\n",
        "    model = tf.keras.models.Sequential([\n",
        "          tf.keras.layers.Flatten(),\n",
        "          tf.keras.layers.Dense(n_neurons,activation=tf.nn.relu),\n",
        "          tf.keras.layers.Dropout(dropout)])\n",
        "\n",
        "    if n_layers > 1:\n",
        "        for _ in range(n_layers-1):\n",
        "            model.add(tf.keras.layers.Dense(n_neurons,activation=tf.nn.relu))\n",
        "            model.add(tf.keras.layers.Dropout(dropout))\n",
        "\n",
        "    model.add(tf.keras.layers.Dense(10, activation=tf.nn.softmax))\n",
        "    model.compile(optimizer=optimizer,\n",
        "                  loss='sparse_categorical_crossentropy',\n",
        "                  metrics=['accuracy'])\n",
        "\n",
        "    model.fit(x_train, y_train, epochs=epochs, verbose=verbose)\n",
        "\n",
        "    loss, accuracy = model.evaluate(x_test, y_test,verbose=verbose)\n",
        "\n",
        "    if verbose:\n",
        "        model.summary()\n",
        "        # Evaluate the model on the test data using `evaluate`\n",
        "        print(\"Evaluate on test data\")\n",
        "        print(\"test loss, test acc:\", loss, accuracy)\n",
        "\n",
        "    train_result = dict(n_neurons = n_neurons,\n",
        "                        n_layers  = n_layers,\n",
        "                        optimizer = optimizer,\n",
        "                        dropout   = dropout,\n",
        "                        epochs    = epochs,\n",
        "                        loss      = loss,\n",
        "                        accuracy  = accuracy)\n",
        "    return loss, accuracy"
      ]
    },
    {
      "cell_type": "code",
      "execution_count": 3,
      "metadata": {
        "id": "YdFzu9J-WgWO"
      },
      "outputs": [],
      "source": [
        "n_repetitions = 5\n",
        "DEFAULT = {\n",
        "    'n_neurons' : 512,\n",
        "    'n_layers'  : 1,\n",
        "    'dropout'   : 0.25,\n",
        "    'epochs'    : 5,\n",
        "    'optimizer' : 'adam'\n",
        "}\n",
        "\n",
        "df = pd.DataFrame(columns=['n_neurons', 'n_layers', 'dropout', 'epochs','optimizer'] + \\\n",
        "                          [f\"{metric} {iteration}\" for iteration in range(1, n_repetitions+1) for metric in ['loss', 'accuracy']])"
      ]
    },
    {
      "cell_type": "code",
      "execution_count": 4,
      "metadata": {
        "id": "_gnl-yKziHBk"
      },
      "outputs": [
        {
          "data": {
            "application/vnd.jupyter.widget-view+json": {
              "model_id": "b4e0d9ab5b994aa793be35bfe6e7c532",
              "version_major": 2,
              "version_minor": 0
            },
            "text/plain": [
              "  0%|          | 0/5 [00:00<?, ?it/s]"
            ]
          },
          "metadata": {},
          "output_type": "display_data"
        },
        {
          "name": "stderr",
          "output_type": "stream",
          "text": [
            "2024-04-10 21:18:52.219826: I tensorflow/compiler/jit/xla_cpu_device.cc:41] Not creating XLA devices, tf_xla_enable_xla_devices not set\n",
            "2024-04-10 21:18:52.220738: I tensorflow/stream_executor/platform/default/dso_loader.cc:49] Successfully opened dynamic library libcuda.so.1\n",
            "2024-04-10 21:18:52.232007: E tensorflow/stream_executor/cuda/cuda_driver.cc:328] failed call to cuInit: CUDA_ERROR_NO_DEVICE: no CUDA-capable device is detected\n",
            "2024-04-10 21:18:52.232035: I tensorflow/stream_executor/cuda/cuda_diagnostics.cc:156] kernel driver does not appear to be running on this host (ariel-Nitro-AN515-44): /proc/driver/nvidia/version does not exist\n",
            "2024-04-10 21:18:52.232373: I tensorflow/core/platform/cpu_feature_guard.cc:142] This TensorFlow binary is optimized with oneAPI Deep Neural Network Library (oneDNN) to use the following CPU instructions in performance-critical operations:  SSE4.1 SSE4.2 AVX AVX2 FMA\n",
            "To enable them in other operations, rebuild TensorFlow with the appropriate compiler flags.\n",
            "2024-04-10 21:18:52.233357: I tensorflow/compiler/jit/xla_gpu_device.cc:99] Not creating XLA devices, tf_xla_enable_xla_devices not set\n",
            "2024-04-10 21:18:52.571642: W tensorflow/core/framework/cpu_allocator_impl.cc:80] Allocation of 614400000 exceeds 10% of free system memory.\n",
            "2024-04-10 21:18:52.896449: I tensorflow/compiler/mlir/mlir_graph_optimization_pass.cc:116] None of the MLIR optimization passes are enabled (registered 2)\n",
            "2024-04-10 21:18:52.899080: I tensorflow/core/platform/profile_utils/cpu_utils.cc:112] CPU Frequency: 2894640000 Hz\n",
            "2024-04-10 21:19:26.058143: W tensorflow/core/framework/cpu_allocator_impl.cc:80] Allocation of 614400000 exceeds 10% of free system memory.\n",
            "2024-04-10 21:20:01.686938: W tensorflow/core/framework/cpu_allocator_impl.cc:80] Allocation of 614400000 exceeds 10% of free system memory.\n",
            "2024-04-10 21:20:37.386834: W tensorflow/core/framework/cpu_allocator_impl.cc:80] Allocation of 614400000 exceeds 10% of free system memory.\n",
            "2024-04-10 21:21:12.876112: W tensorflow/core/framework/cpu_allocator_impl.cc:80] Allocation of 614400000 exceeds 10% of free system memory.\n"
          ]
        }
      ],
      "source": [
        "args = DEFAULT.copy()\n",
        "row = list(args.values())\n",
        "for iter in tqdm(range(n_repetitions)):\n",
        "        loss, accuracy = model_and_evaluate(verbose=0)\n",
        "\n",
        "        row.append(loss)\n",
        "        row.append(accuracy)\n",
        "df.loc[0] = row"
      ]
    },
    {
      "cell_type": "code",
      "execution_count": 5,
      "metadata": {
        "id": "xZ-lbPruWgWO"
      },
      "outputs": [
        {
          "data": {
            "application/vnd.jupyter.widget-view+json": {
              "model_id": "a45c05bc14f644ecb5df40f4e560c257",
              "version_major": 2,
              "version_minor": 0
            },
            "text/plain": [
              "  0%|          | 0/5 [00:00<?, ?it/s]"
            ]
          },
          "metadata": {},
          "output_type": "display_data"
        },
        {
          "data": {
            "application/vnd.jupyter.widget-view+json": {
              "model_id": "3e388170b3de4487aad03e647d083a96",
              "version_major": 2,
              "version_minor": 0
            },
            "text/plain": [
              "  0%|          | 0/5 [00:00<?, ?it/s]"
            ]
          },
          "metadata": {},
          "output_type": "display_data"
        },
        {
          "data": {
            "application/vnd.jupyter.widget-view+json": {
              "model_id": "5d0bdeba11d94138ac0c0e1316fe805d",
              "version_major": 2,
              "version_minor": 0
            },
            "text/plain": [
              "  0%|          | 0/5 [00:00<?, ?it/s]"
            ]
          },
          "metadata": {},
          "output_type": "display_data"
        }
      ],
      "source": [
        "for n_neurons in [1024, 2048, 4096]:\n",
        "    args = DEFAULT.copy()\n",
        "    args['n_neurons'] = n_neurons\n",
        "\n",
        "    row = list(args.values())\n",
        "\n",
        "    for iter in tqdm(range(n_repetitions)):\n",
        "        loss, accuracy = model_and_evaluate(n_neurons=n_neurons, verbose=0)\n",
        "\n",
        "        row.append(loss)\n",
        "        row.append(accuracy)\n",
        "\n",
        "    df.loc[f'n_neurons={n_neurons}'] = row\n"
      ]
    },
    {
      "cell_type": "code",
      "execution_count": 6,
      "metadata": {
        "id": "42sb--VnWgWP"
      },
      "outputs": [
        {
          "data": {
            "application/vnd.jupyter.widget-view+json": {
              "model_id": "248520a1e54c4eab82e241ed732693f9",
              "version_major": 2,
              "version_minor": 0
            },
            "text/plain": [
              "  0%|          | 0/5 [00:00<?, ?it/s]"
            ]
          },
          "metadata": {},
          "output_type": "display_data"
        },
        {
          "data": {
            "application/vnd.jupyter.widget-view+json": {
              "model_id": "200b916b497f4cefa0513e5f57b1a102",
              "version_major": 2,
              "version_minor": 0
            },
            "text/plain": [
              "  0%|          | 0/5 [00:00<?, ?it/s]"
            ]
          },
          "metadata": {},
          "output_type": "display_data"
        },
        {
          "data": {
            "application/vnd.jupyter.widget-view+json": {
              "model_id": "2bf3468e874347488829974792208447",
              "version_major": 2,
              "version_minor": 0
            },
            "text/plain": [
              "  0%|          | 0/5 [00:00<?, ?it/s]"
            ]
          },
          "metadata": {},
          "output_type": "display_data"
        }
      ],
      "source": [
        "for n_layers in [2, 3, 4]:\n",
        "    args = DEFAULT.copy()\n",
        "    args['n_layers'] = n_layers\n",
        "\n",
        "    row = list(args.values())\n",
        "\n",
        "    for iter in tqdm(range(n_repetitions)):\n",
        "        loss, accuracy = model_and_evaluate(n_layers=n_layers, verbose=0)\n",
        "\n",
        "        row.append(loss)\n",
        "        row.append(accuracy)\n",
        "\n",
        "    df.loc[f'n_layers={n_layers}'] = row"
      ]
    },
    {
      "cell_type": "code",
      "execution_count": 7,
      "metadata": {
        "id": "-DPXsJa1WgWP"
      },
      "outputs": [
        {
          "data": {
            "application/vnd.jupyter.widget-view+json": {
              "model_id": "35893c361bc546ac9e7d89722958816e",
              "version_major": 2,
              "version_minor": 0
            },
            "text/plain": [
              "  0%|          | 0/5 [00:00<?, ?it/s]"
            ]
          },
          "metadata": {},
          "output_type": "display_data"
        },
        {
          "data": {
            "application/vnd.jupyter.widget-view+json": {
              "model_id": "95b4f6818da744cfb89ef81a8413ac18",
              "version_major": 2,
              "version_minor": 0
            },
            "text/plain": [
              "  0%|          | 0/5 [00:00<?, ?it/s]"
            ]
          },
          "metadata": {},
          "output_type": "display_data"
        }
      ],
      "source": [
        "for dropout in [0, 0.5]:\n",
        "    args = DEFAULT.copy()\n",
        "    args['dropout'] = dropout\n",
        "\n",
        "    row = list(args.values())\n",
        "\n",
        "    for iter in tqdm(range(n_repetitions)):\n",
        "        loss, accuracy = model_and_evaluate(dropout=dropout, verbose=0)\n",
        "\n",
        "        row.append(loss)\n",
        "        row.append(accuracy)\n",
        "\n",
        "    df.loc[f'dropout={dropout}'] = row"
      ]
    },
    {
      "cell_type": "code",
      "execution_count": 8,
      "metadata": {
        "id": "g7sL1VTbWgWQ"
      },
      "outputs": [
        {
          "data": {
            "application/vnd.jupyter.widget-view+json": {
              "model_id": "d3676dc53d504b82ba1369aa26a44be7",
              "version_major": 2,
              "version_minor": 0
            },
            "text/plain": [
              "  0%|          | 0/5 [00:00<?, ?it/s]"
            ]
          },
          "metadata": {},
          "output_type": "display_data"
        },
        {
          "data": {
            "application/vnd.jupyter.widget-view+json": {
              "model_id": "9db981cb173f440baf6f6a374b39aae3",
              "version_major": 2,
              "version_minor": 0
            },
            "text/plain": [
              "  0%|          | 0/5 [00:00<?, ?it/s]"
            ]
          },
          "metadata": {},
          "output_type": "display_data"
        }
      ],
      "source": [
        "for optimizer in ['RMSprop', 'SGD']:\n",
        "    args = DEFAULT.copy()\n",
        "    args['optimizer'] = optimizer\n",
        "\n",
        "    row = list(args.values())\n",
        "\n",
        "    for iter in tqdm(range(n_repetitions)):\n",
        "        loss, accuracy = model_and_evaluate(optimizer=optimizer, verbose=0)\n",
        "\n",
        "        row.append(loss)\n",
        "        row.append(accuracy)\n",
        "\n",
        "    df.loc[f'optimizer={optimizer}'] = row"
      ]
    },
    {
      "cell_type": "code",
      "execution_count": 9,
      "metadata": {
        "id": "UjqkU0jSWgWQ"
      },
      "outputs": [
        {
          "data": {
            "application/vnd.jupyter.widget-view+json": {
              "model_id": "ed99ba2c884840688eb6f7210bb2a6a9",
              "version_major": 2,
              "version_minor": 0
            },
            "text/plain": [
              "  0%|          | 0/5 [00:00<?, ?it/s]"
            ]
          },
          "metadata": {},
          "output_type": "display_data"
        },
        {
          "data": {
            "application/vnd.jupyter.widget-view+json": {
              "model_id": "bce3697a2d7341c4a9a890b06fdbc1cd",
              "version_major": 2,
              "version_minor": 0
            },
            "text/plain": [
              "  0%|          | 0/5 [00:00<?, ?it/s]"
            ]
          },
          "metadata": {},
          "output_type": "display_data"
        },
        {
          "data": {
            "application/vnd.jupyter.widget-view+json": {
              "model_id": "a4fc8ced032c460197e7ecf6b8052f4e",
              "version_major": 2,
              "version_minor": 0
            },
            "text/plain": [
              "  0%|          | 0/5 [00:00<?, ?it/s]"
            ]
          },
          "metadata": {},
          "output_type": "display_data"
        }
      ],
      "source": [
        "for epochs in [10, 20, 30]:\n",
        "    args = DEFAULT.copy()\n",
        "    args['epochs'] = epochs\n",
        "\n",
        "    row = list(args.values())\n",
        "\n",
        "    for iter in tqdm(range(n_repetitions)):\n",
        "        loss, accuracy = model_and_evaluate(epochs=epochs, verbose=0)\n",
        "\n",
        "        row.append(loss)\n",
        "        row.append(accuracy)\n",
        "\n",
        "    df.loc[f'epochs={epochs}'] = row"
      ]
    },
    {
      "cell_type": "code",
      "execution_count": 10,
      "metadata": {
        "id": "fwjImmahSJV6",
        "scrolled": true
      },
      "outputs": [
        {
          "data": {
            "text/html": [
              "<div>\n",
              "<style scoped>\n",
              "    .dataframe tbody tr th:only-of-type {\n",
              "        vertical-align: middle;\n",
              "    }\n",
              "\n",
              "    .dataframe tbody tr th {\n",
              "        vertical-align: top;\n",
              "    }\n",
              "\n",
              "    .dataframe thead th {\n",
              "        text-align: right;\n",
              "    }\n",
              "</style>\n",
              "<table border=\"1\" class=\"dataframe\">\n",
              "  <thead>\n",
              "    <tr style=\"text-align: right;\">\n",
              "      <th></th>\n",
              "      <th>n_neurons</th>\n",
              "      <th>n_layers</th>\n",
              "      <th>dropout</th>\n",
              "      <th>epochs</th>\n",
              "      <th>optimizer</th>\n",
              "      <th>loss 1</th>\n",
              "      <th>accuracy 1</th>\n",
              "      <th>loss 2</th>\n",
              "      <th>accuracy 2</th>\n",
              "      <th>loss 3</th>\n",
              "      <th>accuracy 3</th>\n",
              "      <th>loss 4</th>\n",
              "      <th>accuracy 4</th>\n",
              "      <th>loss 5</th>\n",
              "      <th>accuracy 5</th>\n",
              "    </tr>\n",
              "  </thead>\n",
              "  <tbody>\n",
              "    <tr>\n",
              "      <th>0</th>\n",
              "      <td>512</td>\n",
              "      <td>1</td>\n",
              "      <td>0.25</td>\n",
              "      <td>5</td>\n",
              "      <td>adam</td>\n",
              "      <td>1.695570</td>\n",
              "      <td>0.3970</td>\n",
              "      <td>1.698231</td>\n",
              "      <td>0.3904</td>\n",
              "      <td>1.666561</td>\n",
              "      <td>0.4025</td>\n",
              "      <td>1.705649</td>\n",
              "      <td>0.3779</td>\n",
              "      <td>1.670620</td>\n",
              "      <td>0.4014</td>\n",
              "    </tr>\n",
              "    <tr>\n",
              "      <th>n_neurons=1024</th>\n",
              "      <td>1024</td>\n",
              "      <td>1</td>\n",
              "      <td>0.25</td>\n",
              "      <td>5</td>\n",
              "      <td>adam</td>\n",
              "      <td>1.689007</td>\n",
              "      <td>0.3919</td>\n",
              "      <td>1.658445</td>\n",
              "      <td>0.4121</td>\n",
              "      <td>1.662554</td>\n",
              "      <td>0.4054</td>\n",
              "      <td>1.643059</td>\n",
              "      <td>0.4189</td>\n",
              "      <td>1.631948</td>\n",
              "      <td>0.4282</td>\n",
              "    </tr>\n",
              "    <tr>\n",
              "      <th>n_neurons=2048</th>\n",
              "      <td>2048</td>\n",
              "      <td>1</td>\n",
              "      <td>0.25</td>\n",
              "      <td>5</td>\n",
              "      <td>adam</td>\n",
              "      <td>1.633769</td>\n",
              "      <td>0.4100</td>\n",
              "      <td>1.625772</td>\n",
              "      <td>0.4243</td>\n",
              "      <td>1.641854</td>\n",
              "      <td>0.4278</td>\n",
              "      <td>1.623221</td>\n",
              "      <td>0.4219</td>\n",
              "      <td>1.605003</td>\n",
              "      <td>0.4344</td>\n",
              "    </tr>\n",
              "    <tr>\n",
              "      <th>n_neurons=4096</th>\n",
              "      <td>4096</td>\n",
              "      <td>1</td>\n",
              "      <td>0.25</td>\n",
              "      <td>5</td>\n",
              "      <td>adam</td>\n",
              "      <td>1.642755</td>\n",
              "      <td>0.4094</td>\n",
              "      <td>1.597166</td>\n",
              "      <td>0.4371</td>\n",
              "      <td>1.603853</td>\n",
              "      <td>0.4359</td>\n",
              "      <td>1.604507</td>\n",
              "      <td>0.4358</td>\n",
              "      <td>1.618562</td>\n",
              "      <td>0.4293</td>\n",
              "    </tr>\n",
              "    <tr>\n",
              "      <th>n_layers=2</th>\n",
              "      <td>512</td>\n",
              "      <td>2</td>\n",
              "      <td>0.25</td>\n",
              "      <td>5</td>\n",
              "      <td>adam</td>\n",
              "      <td>1.769487</td>\n",
              "      <td>0.3740</td>\n",
              "      <td>1.766841</td>\n",
              "      <td>0.3724</td>\n",
              "      <td>1.775323</td>\n",
              "      <td>0.3716</td>\n",
              "      <td>1.759160</td>\n",
              "      <td>0.3809</td>\n",
              "      <td>1.764507</td>\n",
              "      <td>0.3720</td>\n",
              "    </tr>\n",
              "  </tbody>\n",
              "</table>\n",
              "</div>"
            ],
            "text/plain": [
              "                n_neurons  n_layers  dropout  epochs optimizer    loss 1  \\\n",
              "0                     512         1     0.25       5      adam  1.695570   \n",
              "n_neurons=1024       1024         1     0.25       5      adam  1.689007   \n",
              "n_neurons=2048       2048         1     0.25       5      adam  1.633769   \n",
              "n_neurons=4096       4096         1     0.25       5      adam  1.642755   \n",
              "n_layers=2            512         2     0.25       5      adam  1.769487   \n",
              "\n",
              "                accuracy 1    loss 2  accuracy 2    loss 3  accuracy 3  \\\n",
              "0                   0.3970  1.698231      0.3904  1.666561      0.4025   \n",
              "n_neurons=1024      0.3919  1.658445      0.4121  1.662554      0.4054   \n",
              "n_neurons=2048      0.4100  1.625772      0.4243  1.641854      0.4278   \n",
              "n_neurons=4096      0.4094  1.597166      0.4371  1.603853      0.4359   \n",
              "n_layers=2          0.3740  1.766841      0.3724  1.775323      0.3716   \n",
              "\n",
              "                  loss 4  accuracy 4    loss 5  accuracy 5  \n",
              "0               1.705649      0.3779  1.670620      0.4014  \n",
              "n_neurons=1024  1.643059      0.4189  1.631948      0.4282  \n",
              "n_neurons=2048  1.623221      0.4219  1.605003      0.4344  \n",
              "n_neurons=4096  1.604507      0.4358  1.618562      0.4293  \n",
              "n_layers=2      1.759160      0.3809  1.764507      0.3720  "
            ]
          },
          "execution_count": 10,
          "metadata": {},
          "output_type": "execute_result"
        }
      ],
      "source": [
        "df.to_csv('cifar10_PC04_MLP_analysis.csv',index=False)\n",
        "df.head()"
      ]
    },
    {
      "cell_type": "code",
      "execution_count": 11,
      "metadata": {
        "id": "KEElqZwZfBYj"
      },
      "outputs": [
        {
          "data": {
            "text/html": [
              "<div>\n",
              "<style scoped>\n",
              "    .dataframe tbody tr th:only-of-type {\n",
              "        vertical-align: middle;\n",
              "    }\n",
              "\n",
              "    .dataframe tbody tr th {\n",
              "        vertical-align: top;\n",
              "    }\n",
              "\n",
              "    .dataframe thead th {\n",
              "        text-align: right;\n",
              "    }\n",
              "</style>\n",
              "<table border=\"1\" class=\"dataframe\">\n",
              "  <thead>\n",
              "    <tr style=\"text-align: right;\">\n",
              "      <th></th>\n",
              "      <th>n_neurons</th>\n",
              "      <th>n_layers</th>\n",
              "      <th>dropout</th>\n",
              "      <th>epochs</th>\n",
              "      <th>optimizer</th>\n",
              "      <th>loss 1</th>\n",
              "      <th>accuracy 1</th>\n",
              "      <th>loss 2</th>\n",
              "      <th>accuracy 2</th>\n",
              "      <th>loss 3</th>\n",
              "      <th>accuracy 3</th>\n",
              "      <th>loss 4</th>\n",
              "      <th>accuracy 4</th>\n",
              "      <th>loss 5</th>\n",
              "      <th>accuracy 5</th>\n",
              "    </tr>\n",
              "  </thead>\n",
              "  <tbody>\n",
              "    <tr>\n",
              "      <th>0</th>\n",
              "      <td>512</td>\n",
              "      <td>1</td>\n",
              "      <td>0.25</td>\n",
              "      <td>5</td>\n",
              "      <td>adam</td>\n",
              "      <td>1.695570</td>\n",
              "      <td>0.3970</td>\n",
              "      <td>1.698231</td>\n",
              "      <td>0.3904</td>\n",
              "      <td>1.666561</td>\n",
              "      <td>0.4025</td>\n",
              "      <td>1.705649</td>\n",
              "      <td>0.3779</td>\n",
              "      <td>1.670620</td>\n",
              "      <td>0.4014</td>\n",
              "    </tr>\n",
              "    <tr>\n",
              "      <th>1</th>\n",
              "      <td>1024</td>\n",
              "      <td>1</td>\n",
              "      <td>0.25</td>\n",
              "      <td>5</td>\n",
              "      <td>adam</td>\n",
              "      <td>1.689007</td>\n",
              "      <td>0.3919</td>\n",
              "      <td>1.658445</td>\n",
              "      <td>0.4121</td>\n",
              "      <td>1.662554</td>\n",
              "      <td>0.4054</td>\n",
              "      <td>1.643059</td>\n",
              "      <td>0.4189</td>\n",
              "      <td>1.631948</td>\n",
              "      <td>0.4282</td>\n",
              "    </tr>\n",
              "    <tr>\n",
              "      <th>2</th>\n",
              "      <td>2048</td>\n",
              "      <td>1</td>\n",
              "      <td>0.25</td>\n",
              "      <td>5</td>\n",
              "      <td>adam</td>\n",
              "      <td>1.633769</td>\n",
              "      <td>0.4100</td>\n",
              "      <td>1.625772</td>\n",
              "      <td>0.4243</td>\n",
              "      <td>1.641854</td>\n",
              "      <td>0.4278</td>\n",
              "      <td>1.623221</td>\n",
              "      <td>0.4219</td>\n",
              "      <td>1.605003</td>\n",
              "      <td>0.4344</td>\n",
              "    </tr>\n",
              "    <tr>\n",
              "      <th>3</th>\n",
              "      <td>4096</td>\n",
              "      <td>1</td>\n",
              "      <td>0.25</td>\n",
              "      <td>5</td>\n",
              "      <td>adam</td>\n",
              "      <td>1.642755</td>\n",
              "      <td>0.4094</td>\n",
              "      <td>1.597166</td>\n",
              "      <td>0.4371</td>\n",
              "      <td>1.603853</td>\n",
              "      <td>0.4359</td>\n",
              "      <td>1.604507</td>\n",
              "      <td>0.4358</td>\n",
              "      <td>1.618562</td>\n",
              "      <td>0.4293</td>\n",
              "    </tr>\n",
              "    <tr>\n",
              "      <th>4</th>\n",
              "      <td>512</td>\n",
              "      <td>2</td>\n",
              "      <td>0.25</td>\n",
              "      <td>5</td>\n",
              "      <td>adam</td>\n",
              "      <td>1.769487</td>\n",
              "      <td>0.3740</td>\n",
              "      <td>1.766841</td>\n",
              "      <td>0.3724</td>\n",
              "      <td>1.775323</td>\n",
              "      <td>0.3716</td>\n",
              "      <td>1.759160</td>\n",
              "      <td>0.3809</td>\n",
              "      <td>1.764507</td>\n",
              "      <td>0.3720</td>\n",
              "    </tr>\n",
              "  </tbody>\n",
              "</table>\n",
              "</div>"
            ],
            "text/plain": [
              "   n_neurons  n_layers  dropout  epochs optimizer    loss 1  accuracy 1  \\\n",
              "0        512         1     0.25       5      adam  1.695570      0.3970   \n",
              "1       1024         1     0.25       5      adam  1.689007      0.3919   \n",
              "2       2048         1     0.25       5      adam  1.633769      0.4100   \n",
              "3       4096         1     0.25       5      adam  1.642755      0.4094   \n",
              "4        512         2     0.25       5      adam  1.769487      0.3740   \n",
              "\n",
              "     loss 2  accuracy 2    loss 3  accuracy 3    loss 4  accuracy 4    loss 5  \\\n",
              "0  1.698231      0.3904  1.666561      0.4025  1.705649      0.3779  1.670620   \n",
              "1  1.658445      0.4121  1.662554      0.4054  1.643059      0.4189  1.631948   \n",
              "2  1.625772      0.4243  1.641854      0.4278  1.623221      0.4219  1.605003   \n",
              "3  1.597166      0.4371  1.603853      0.4359  1.604507      0.4358  1.618562   \n",
              "4  1.766841      0.3724  1.775323      0.3716  1.759160      0.3809  1.764507   \n",
              "\n",
              "   accuracy 5  \n",
              "0      0.4014  \n",
              "1      0.4282  \n",
              "2      0.4344  \n",
              "3      0.4293  \n",
              "4      0.3720  "
            ]
          },
          "execution_count": 11,
          "metadata": {},
          "output_type": "execute_result"
        }
      ],
      "source": [
        "df = pd.read_csv('cifar10_PC04_MLP_analysis.csv')\n",
        "df.head()"
      ]
    },
    {
      "cell_type": "code",
      "execution_count": 12,
      "metadata": {
        "id": "b1XF7sp6wfyF"
      },
      "outputs": [
        {
          "data": {
            "image/png": "[encoded data removed]",
            "text/plain": [
              "<Figure size 480x480 with 2 Axes>"
            ]
          },
          "metadata": {},
          "output_type": "display_data"
        }
      ],
      "source": [
        "losses = np.zeros((n_repetitions, 4))\n",
        "accurs = np.zeros((n_repetitions, 4))\n",
        "\n",
        "for i, n_neurons in enumerate([512,1024,2048,4096]):\n",
        "    sample = df[(df['n_neurons'] == n_neurons) & (df['n_layers'] == 1) & (df['dropout'] == 0.25) & (df['optimizer'] == 'adam') & (df['epochs'] == 5)]\n",
        "    loss   = sample[[f'loss {i}' for i in range(1, n_repetitions+1)]].to_numpy()\n",
        "    accy   = sample[[f'accuracy {i}' for i in range(1, n_repetitions+1)]].to_numpy()\n",
        "\n",
        "    losses[:, i] = loss\n",
        "    accurs[:, i] = accy\n",
        "\n",
        "fig,ax=plt.subplots(2,1,figsize=(4,4),dpi=120,sharex=True)\n",
        "\n",
        "ax[0].boxplot(accurs, labels=[512,1024,2048,4096])\n",
        "ax[1].boxplot(losses, labels=[512,1024,2048,4096])\n",
        "\n",
        "ax[0].set_ylabel('Accuracy')\n",
        "ax[1].set_ylabel('Loss')\n",
        "ax[1].set_xlabel('Number of artificial neurons')\n",
        "fig.align_ylabels()\n",
        "plt.tight_layout()\n"
      ]
    },
    {
      "cell_type": "code",
      "execution_count": 13,
      "metadata": {
        "id": "WJakFAknziv0"
      },
      "outputs": [
        {
          "data": {
            "image/png": "[encoded data removed]",
            "text/plain": [
              "<Figure size 480x480 with 2 Axes>"
            ]
          },
          "metadata": {},
          "output_type": "display_data"
        }
      ],
      "source": [
        "losses = np.zeros((n_repetitions, 4))\n",
        "accurs = np.zeros((n_repetitions, 4))\n",
        "\n",
        "for i, n_layers in enumerate([1,2,3,4]):\n",
        "    sample = df[(df['n_neurons'] == 512) & (df['n_layers'] == n_layers)& (df['dropout'] == 0.25) & (df['optimizer'] == 'adam') & (df['epochs'] == 5)]\n",
        "    loss   = sample[[f'loss {i}' for i in  range(1, n_repetitions+1)]].to_numpy()\n",
        "    accy   = sample[[f'accuracy {i}' for i in  range(1, n_repetitions+1)]].to_numpy()\n",
        "\n",
        "    losses[:, i] = loss\n",
        "    accurs[:, i] = accy\n",
        "\n",
        "fig,ax=plt.subplots(2,1,figsize=(4,4),dpi=120,sharex=True)\n",
        "\n",
        "ax[0].boxplot(accurs, labels=[1,2,3,4])\n",
        "ax[1].boxplot(losses, labels=[1,2,3,4])\n",
        "\n",
        "ax[0].set_ylabel('Accuracy')\n",
        "ax[1].set_ylabel('Loss')\n",
        "ax[1].set_xlabel('Number of hidden layers')\n",
        "fig.align_ylabels()\n",
        "plt.tight_layout()"
      ]
    },
    {
      "cell_type": "code",
      "execution_count": 14,
      "metadata": {
        "id": "LhGykygaz5dm"
      },
      "outputs": [
        {
          "data": {
            "image/png": "[encoded data removed]",
            "text/plain": [
              "<Figure size 480x480 with 2 Axes>"
            ]
          },
          "metadata": {},
          "output_type": "display_data"
        }
      ],
      "source": [
        "losses = np.zeros((n_repetitions, 3))\n",
        "accurs = np.zeros((n_repetitions, 3))\n",
        "\n",
        "for i, dropout in enumerate([0, 0.25, 0.5]):\n",
        "    sample = df[(df['n_neurons'] == 512) & (df['n_layers'] == 1)& (df['dropout'] == dropout) & (df['optimizer'] == 'adam') & (df['epochs'] == 5)]\n",
        "    loss   = sample[[f'loss {i}' for i in  range(1, n_repetitions+1)]].to_numpy()\n",
        "    accy   = sample[[f'accuracy {i}' for i in  range(1, n_repetitions+1)]].to_numpy()\n",
        "\n",
        "    losses[:, i] = loss\n",
        "    accurs[:, i] = accy\n",
        "\n",
        "fig,ax=plt.subplots(2,1,figsize=(4,4),dpi=120,sharex=True)\n",
        "\n",
        "ax[0].boxplot(accurs, labels=[0,0.25,0.5])\n",
        "ax[1].boxplot(losses, labels=[0,0.25,0.5])\n",
        "\n",
        "ax[0].set_ylabel('Accuracy')\n",
        "ax[1].set_ylabel('Loss')\n",
        "ax[1].set_xlabel('Dropout')\n",
        "fig.align_ylabels()\n",
        "plt.tight_layout()"
      ]
    },
    {
      "cell_type": "code",
      "execution_count": 15,
      "metadata": {
        "id": "4OKePqKW0UPU"
      },
      "outputs": [
        {
          "data": {
            "image/png": "[encoded data removed]",
            "text/plain": [
              "<Figure size 480x480 with 2 Axes>"
            ]
          },
          "metadata": {},
          "output_type": "display_data"
        }
      ],
      "source": [
        "losses = np.zeros((n_repetitions, 3))\n",
        "accurs = np.zeros((n_repetitions, 3))\n",
        "\n",
        "for i, optimizer in enumerate(['adam','SGD','RMSprop']):\n",
        "    sample = df[(df['n_neurons'] == 512) & (df['n_layers'] == 1)& (df['dropout'] == 0.25) & (df['optimizer'] == optimizer) & (df['epochs'] == 5)]\n",
        "    loss   = sample[[f'loss {i}' for i in  range(1, n_repetitions+1)]].to_numpy()\n",
        "    accy   = sample[[f'accuracy {i}' for i in  range(1, n_repetitions+1)]].to_numpy()\n",
        "\n",
        "    losses[:, i] = loss\n",
        "    accurs[:, i] = accy\n",
        "\n",
        "fig,ax=plt.subplots(2,1,figsize=(4,4),dpi=120,sharex=True)\n",
        "\n",
        "ax[0].boxplot(accurs, labels=['adam','SGD','RMSprop'])\n",
        "ax[1].boxplot(losses, labels=['adam','SGD','RMSprop'])\n",
        "\n",
        "ax[0].set_ylabel('Accuracy')\n",
        "ax[1].set_ylabel('Loss')\n",
        "ax[1].set_xlabel('Optimizer')\n",
        "fig.align_ylabels()\n",
        "plt.tight_layout()"
      ]
    },
    {
      "cell_type": "code",
      "execution_count": 16,
      "metadata": {
        "id": "H7k3KTdi1Iil"
      },
      "outputs": [
        {
          "data": {
            "image/png": "[encoded data removed]",
            "text/plain": [
              "<Figure size 480x480 with 2 Axes>"
            ]
          },
          "metadata": {},
          "output_type": "display_data"
        }
      ],
      "source": [
        "losses = np.zeros((n_repetitions, 4))\n",
        "accurs = np.zeros((n_repetitions, 4))\n",
        "\n",
        "for i, epochs in enumerate([5,10,20,30]):\n",
        "    sample = df[(df['n_neurons'] == 512) & (df['n_layers'] == 1)& (df['dropout'] == 0.25) & (df['optimizer'] == 'adam') & (df['epochs'] == epochs)]\n",
        "    loss   = sample[[f'loss {i}' for i in  range(1, n_repetitions+1)]].to_numpy()\n",
        "    accy   = sample[[f'accuracy {i}' for i in  range(1, n_repetitions+1)]].to_numpy()\n",
        "\n",
        "    losses[:, i] = loss\n",
        "    accurs[:, i] = accy\n",
        "\n",
        "fig,ax=plt.subplots(2,1,figsize=(4,4),dpi=120,sharex=True)\n",
        "\n",
        "ax[0].boxplot(accurs, labels=[5,10,20,30])\n",
        "ax[1].boxplot(losses, labels=[5,10,20,30])\n",
        "\n",
        "ax[0].set_ylabel('Accuracy')\n",
        "ax[1].set_ylabel('Loss')\n",
        "ax[1].set_xlabel('Epochs')\n",
        "fig.align_ylabels()\n",
        "plt.tight_layout()"
      ]
    },
    {
      "cell_type": "code",
      "execution_count": 18,
      "metadata": {
        "id": "W-NuUsLIfBYm"
      },
      "outputs": [
        {
          "name": "stdout",
          "output_type": "stream",
          "text": [
            "Epoch 1/30\n",
            "1563/1563 [==============================] - 35s 22ms/step - loss: 1.9546 - accuracy: 0.2984\n",
            "Epoch 2/30\n",
            "1563/1563 [==============================] - 34s 22ms/step - loss: 1.6698 - accuracy: 0.4153\n",
            "Epoch 3/30\n",
            "1563/1563 [==============================] - 34s 22ms/step - loss: 1.5732 - accuracy: 0.4495\n",
            "Epoch 4/30\n",
            "1563/1563 [==============================] - 34s 22ms/step - loss: 1.5196 - accuracy: 0.4711\n",
            "Epoch 5/30\n",
            "1563/1563 [==============================] - 34s 22ms/step - loss: 1.4805 - accuracy: 0.4802\n",
            "Epoch 6/30\n",
            "1563/1563 [==============================] - 34s 22ms/step - loss: 1.4380 - accuracy: 0.4990\n",
            "Epoch 7/30\n",
            "1563/1563 [==============================] - 34s 22ms/step - loss: 1.4000 - accuracy: 0.5122\n",
            "Epoch 8/30\n",
            "1563/1563 [==============================] - 34s 22ms/step - loss: 1.3693 - accuracy: 0.5261\n",
            "Epoch 9/30\n",
            "1563/1563 [==============================] - 34s 22ms/step - loss: 1.3471 - accuracy: 0.5336\n",
            "Epoch 10/30\n",
            "1563/1563 [==============================] - 34s 22ms/step - loss: 1.3155 - accuracy: 0.5401\n",
            "Epoch 11/30\n",
            "1563/1563 [==============================] - 34s 22ms/step - loss: 1.2935 - accuracy: 0.5529\n",
            "Epoch 12/30\n",
            "1563/1563 [==============================] - 34s 22ms/step - loss: 1.2667 - accuracy: 0.5614\n",
            "Epoch 13/30\n",
            "1563/1563 [==============================] - 33s 21ms/step - loss: 1.2497 - accuracy: 0.5689\n",
            "Epoch 14/30\n",
            "1563/1563 [==============================] - 33s 21ms/step - loss: 1.2233 - accuracy: 0.5772\n",
            "Epoch 15/30\n",
            "1563/1563 [==============================] - 33s 21ms/step - loss: 1.2096 - accuracy: 0.5843\n",
            "Epoch 16/30\n",
            "1563/1563 [==============================] - 33s 21ms/step - loss: 1.1959 - accuracy: 0.5854\n",
            "Epoch 17/30\n",
            "1563/1563 [==============================] - 33s 21ms/step - loss: 1.1709 - accuracy: 0.5946\n",
            "Epoch 18/30\n",
            "1563/1563 [==============================] - 34s 22ms/step - loss: 1.1501 - accuracy: 0.6025\n",
            "Epoch 19/30\n",
            "1563/1563 [==============================] - 34s 22ms/step - loss: 1.1288 - accuracy: 0.6143\n",
            "Epoch 20/30\n",
            "1563/1563 [==============================] - 33s 21ms/step - loss: 1.1226 - accuracy: 0.6149\n",
            "Epoch 21/30\n",
            "1563/1563 [==============================] - 33s 21ms/step - loss: 1.1042 - accuracy: 0.6193\n",
            "Epoch 22/30\n",
            "1563/1563 [==============================] - 33s 21ms/step - loss: 1.0950 - accuracy: 0.6205\n",
            "Epoch 23/30\n",
            "1563/1563 [==============================] - 34s 22ms/step - loss: 1.0695 - accuracy: 0.6303\n",
            "Epoch 24/30\n",
            "1563/1563 [==============================] - 34s 22ms/step - loss: 1.0549 - accuracy: 0.6366\n",
            "Epoch 25/30\n",
            "1563/1563 [==============================] - 34s 22ms/step - loss: 1.0428 - accuracy: 0.6399\n",
            "Epoch 26/30\n",
            "1563/1563 [==============================] - 34s 22ms/step - loss: 1.0272 - accuracy: 0.6484\n",
            "Epoch 27/30\n",
            "1563/1563 [==============================] - 34s 22ms/step - loss: 1.0024 - accuracy: 0.6574\n",
            "Epoch 28/30\n",
            "1563/1563 [==============================] - 34s 22ms/step - loss: 0.9909 - accuracy: 0.6604\n",
            "Epoch 29/30\n",
            "1563/1563 [==============================] - 34s 22ms/step - loss: 0.9741 - accuracy: 0.6676\n",
            "Epoch 30/30\n",
            "1563/1563 [==============================] - 33s 21ms/step - loss: 0.9641 - accuracy: 0.6721\n",
            "313/313 [==============================] - 3s 8ms/step - loss: 1.3287 - accuracy: 0.5348\n",
            "Model: \"sequential\"\n",
            "_________________________________________________________________\n",
            "Layer (type)                 Output Shape              Param #   \n",
            "=================================================================\n",
            "flatten (Flatten)            (None, 3072)              0         \n",
            "_________________________________________________________________\n",
            "dense (Dense)                (None, 4096)              12587008  \n",
            "_________________________________________________________________\n",
            "dropout (Dropout)            (None, 4096)              0         \n",
            "_________________________________________________________________\n",
            "dense_1 (Dense)              (None, 10)                40970     \n",
            "=================================================================\n",
            "Total params: 12,627,978\n",
            "Trainable params: 12,627,978\n",
            "Non-trainable params: 0\n",
            "_________________________________________________________________\n",
            "Evaluate on test data\n",
            "test loss, test acc: 1.3286681175231934 0.5347999930381775\n"
          ]
        }
      ],
      "source": [
        "# Please, replace the values obtained by the simplified grid search here and execute the code\n",
        "d = model_and_evaluate(n_neurons=4096,\n",
        "                       n_layers=1,\n",
        "                       dropout=0,\n",
        "                       optimizer='SGD',\n",
        "                       epochs=30)"
      ]
    },
    {
      "cell_type": "markdown",
      "metadata": {},
      "source": [
        "**Justificativa dos hiperparâmetros escolhidos:**\n",
        "1. **Número de neurônios (512, 1024, 2048, 4096):** Escolheu-se 4096. Claramente aparenta ser a melhor escolha entre os valores analisados. Posssui a menor mediana para o Loss e a maior mediana para a Accuracy, com o maior limite superior (valor adjacente superior) também na Accuracy;\n",
        "\n",
        "2. **Número de hidden layers (1, 2, 3, 4):** Escolheu-se 1. De forma similar, menor Loss e maior Accurary;\n",
        "\n",
        "3. **Dropout (0, 0.25, 0.5):** Escolheu-se 0. De forma similar, novamente, não há superposição de valores, sem outliers que influenciam na escolha. Logo, zero aparenta os melhores resultados de maximização da Accuracy e minimazação da função Loss;\n",
        "\n",
        "4. **Optimizer:** Escolheu-se o SGD. O Stochastic Gradient Descent (SGD), diferentemente do Adam para o dataset do MNIST, apresenta os melhores resultados;\n",
        "\n",
        "5. **Número de épocas:** Escolheu-se 30. Mais uma vez, com 30 épocas, temos a maior mediana, limites superiores mais elevados e limite inferior (valor adjacente inferior) para a Accuracy. Da mesma forma, para o Loss, a mediana em 30 épocas é a menor entre todas as opções, com o limite superior sendo menor que a mediana de 20 épocas.\n",
        "\n",
        "Como podemos ver, obtivemos ~53,47% de Accurary e Loss de ~1.33 para esta configuração, superando as expectativas de acordo com os experimento, onde o valor máximo no eixo Y não ultrapassa ~45% e o Loss sendo no mínimo ~1.7."
      ]
    }
  ],
  "metadata": {
    "accelerator": "GPU",
    "colab": {
      "gpuType": "T4",
      "provenance": []
    },
    "gpuClass": "standard",
    "kernelspec": {
      "display_name": "tf_gpu_python-3-10",
      "language": "python",
      "name": "tf_gpu_python-3-10"
    },
    "language_info": {
      "codemirror_mode": {
        "name": "ipython",
        "version": 3
      },
      "file_extension": ".py",
      "mimetype": "text/x-python",
      "name": "python",
      "nbconvert_exporter": "python",
      "pygments_lexer": "ipython3",
      "version": "3.10.13"
    },
    "vscode": {
      "interpreter": {
        "hash": "916dbcbb3f70747c44a77c7bcd40155683ae19c65e1c03b4aa3499c5328201f1"
      }
    }
  },
  "nbformat": 4,
  "nbformat_minor": 0
}
